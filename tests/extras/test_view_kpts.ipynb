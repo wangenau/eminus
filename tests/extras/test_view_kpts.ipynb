{
 "cells": [
  {
   "cell_type": "code",
   "execution_count": 1,
   "id": "590f01d1-bdbf-4865-93dc-43e885472157",
   "metadata": {},
   "outputs": [],
   "source": [
    "# SPDX-FileCopyrightText: 2024 The eminus developers\n",
    "# SPDX-License-Identifier: Apache-2.0\n",
    "import os\n",
    "\n",
    "import plotly.io as pio\n",
    "\n",
    "from eminus.extras import view\n",
    "from eminus.kpoints import KPoints\n",
    "\n",
    "try:\n",
    "    file_path = os.environ[\"PYTEST_TEST_DIR\"]\n",
    "except KeyError:\n",
    "    file_path = \".\"\n",
    "pio.renderers.default = \"notebook_connected\"  # Keep the notebook small for the source distribution"
   ]
  },
  {
   "cell_type": "code",
   "execution_count": 2,
   "id": "ccf5732e-cc6b-4a12-88f3-6c01a4d9a780",
   "metadata": {},
   "outputs": [],
   "source": [
    "kpts = KPoints(\"fcc\")"
   ]
  },
  {
   "cell_type": "code",
   "execution_count": 3,
   "id": "603fd21f-cc80-4e58-ba97-eb8ff66a8561",
   "metadata": {},
   "outputs": [
    {
     "data": {
      "text/html": [
       "        <script type=\"text/javascript\">\n",
       "        window.PlotlyConfig = {MathJaxConfig: 'local'};\n",
       "        if (window.MathJax && window.MathJax.Hub && window.MathJax.Hub.Config) {window.MathJax.Hub.Config({SVG: {font: \"STIX-Web\"}});}\n",
       "        </script>\n",
       "        <script type=\"module\">import \"https://cdn.plot.ly/plotly-3.0.1.min\"</script>\n",
       "        "
      ]
     },
     "metadata": {},
     "output_type": "display_data"
    },
    {
     "data": {
      "text/html": [
       "<div>            <script src=\"https://cdnjs.cloudflare.com/ajax/libs/mathjax/2.7.5/MathJax.js?config=TeX-AMS-MML_SVG\"></script><script type=\"text/javascript\">if (window.MathJax && window.MathJax.Hub && window.MathJax.Hub.Config) {window.MathJax.Hub.Config({SVG: {font: \"STIX-Web\"}});}</script>                <script type=\"text/javascript\">window.PlotlyConfig = {MathJaxConfig: 'local'};</script>\n",
       "        <script charset=\"utf-8\" src=\"https://cdn.plot.ly/plotly-3.0.1.min.js\"></script>                <div id=\"3b403419-00f1-48b1-9286-93f7f5c43a29\" class=\"plotly-graph-div\" style=\"height:600px; width:600px;\"></div>            <script type=\"text/javascript\">                window.PLOTLYENV=window.PLOTLYENV || {};                                if (document.getElementById(\"3b403419-00f1-48b1-9286-93f7f5c43a29\")) {                    Plotly.newPlot(                        \"3b403419-00f1-48b1-9286-93f7f5c43a29\",                        [{\"marker\":{\"color\":\"black\",\"size\":0.1},\"name\":\"Brillouin zone\",\"showlegend\":false,\"x\":{\"dtype\":\"f8\",\"bdata\":\"Gi1EVPshCUB\\u002f10XrRYPQvBotRFT7IQnAf9dF60WD0DwaLURU+yEJQA==\"},\"y\":{\"dtype\":\"f8\",\"bdata\":\"GC1EVPshGcAYLURU+yEZwBgtRFT7IRnAGC1EVPshGcAYLURU+yEZwA==\"},\"z\":{\"dtype\":\"f8\",\"bdata\":\"f9dF60WD0LwaLURU+yEJQH\\u002fXRetFg9A8Gi1EVPshCcB\\u002f10XrRYPQvA==\"},\"type\":\"scatter3d\"},{\"marker\":{\"color\":\"black\",\"size\":0.1},\"name\":\"Brillouin zone\",\"showlegend\":false,\"x\":{\"dtype\":\"f8\",\"bdata\":\"GS1EVPshGcAYLURU+yEZwBotRFT7IQnAf9dF60WD0Lx\\u002f10XrRYPQvBotRFT7IQnAGS1EVPshGcA=\"},\"y\":{\"dtype\":\"f8\",\"bdata\":\"AAAAAAAAAAAaLURU+yEJwBgtRFT7IRnAGC1EVPshGcAaLURU+yEJwH\\u002fXRetFg9A8AAAAAAAAAAA=\"},\"z\":{\"dtype\":\"f8\",\"bdata\":\"Fi1EVPshCUB\\u002f10XrRYPQPH\\u002fXRetFg9A8Gi1EVPshCUAYLURU+yEZQBgtRFT7IRlAFi1EVPshCUA=\"},\"type\":\"scatter3d\"},{\"marker\":{\"color\":\"black\",\"size\":0.1},\"name\":\"Brillouin zone\",\"showlegend\":false,\"x\":{\"dtype\":\"f8\",\"bdata\":\"Gi1EVPshCUAYLURU+yEZQBktRFT7IRlAFi1EVPshCUB\\u002f10XrRYPQPH\\u002fXRetFg9A8Gi1EVPshCUA=\"},\"y\":{\"dtype\":\"f8\",\"bdata\":\"GC1EVPshGcAaLURU+yEJwAAAAAAAAAAAAAAAAAAAAAAaLURU+yEJwBgtRFT7IRnAGC1EVPshGcA=\"},\"z\":{\"dtype\":\"f8\",\"bdata\":\"f9dF60WD0Lx\\u002f10XrRYPQvBYtRFT7IQnAGS1EVPshGcAYLURU+yEZwBotRFT7IQnAf9dF60WD0Lw=\"},\"type\":\"scatter3d\"},{\"marker\":{\"color\":\"black\",\"size\":0.1},\"name\":\"Brillouin zone\",\"showlegend\":false,\"x\":{\"dtype\":\"f8\",\"bdata\":\"GS1EVPshGcAaLURU+yEJwAAAAAAAAAAAAAAAAAAAAAAaLURU+yEJwBktRFT7IRnAGS1EVPshGcA=\"},\"y\":{\"dtype\":\"f8\",\"bdata\":\"Fi1EVPshCUAYLURU+yEZQBktRFT7IRlAFi1EVPshCUB\\u002f10XrRYPQPAAAAAAAAAAAFi1EVPshCUA=\"},\"z\":{\"dtype\":\"f8\",\"bdata\":\"AAAAAAAAAAB\\u002f10XrRYPQPBYtRFT7IQlAGS1EVPshGUAYLURU+yEZQBYtRFT7IQlAAAAAAAAAAAA=\"},\"type\":\"scatter3d\"},{\"marker\":{\"color\":\"black\",\"size\":0.1},\"name\":\"Brillouin zone\",\"showlegend\":false,\"x\":{\"dtype\":\"f8\",\"bdata\":\"GC1EVPshGcAYLURU+yEZwBktRFT7IRnAGS1EVPshGcAYLURU+yEZwA==\"},\"y\":{\"dtype\":\"f8\",\"bdata\":\"Gi1EVPshCcB\\u002f10XrRYPQPBYtRFT7IQlAAAAAAAAAAAAaLURU+yEJwA==\"},\"z\":{\"dtype\":\"f8\",\"bdata\":\"f9dF60WD0DwaLURU+yEJwAAAAAAAAAAAFi1EVPshCUB\\u002f10XrRYPQPA==\"},\"type\":\"scatter3d\"},{\"marker\":{\"color\":\"black\",\"size\":0.1},\"name\":\"Brillouin zone\",\"showlegend\":false,\"x\":{\"dtype\":\"f8\",\"bdata\":\"GC1EVPshGcAaLURU+yEJwAAAAAAAAAAAAAAAAAAAAAAaLURU+yEJwBktRFT7IRnAGC1EVPshGcA=\"},\"y\":{\"dtype\":\"f8\",\"bdata\":\"f9dF60WD0Dx\\u002f10XrRYPQPBYtRFT7IQlAGS1EVPshGUAYLURU+yEZQBYtRFT7IQlAf9dF60WD0Dw=\"},\"z\":{\"dtype\":\"f8\",\"bdata\":\"Gi1EVPshCcAYLURU+yEZwBktRFT7IRnAFi1EVPshCcB\\u002f10XrRYPQPAAAAAAAAAAAGi1EVPshCcA=\"},\"type\":\"scatter3d\"},{\"marker\":{\"color\":\"black\",\"size\":0.1},\"name\":\"Brillouin zone\",\"showlegend\":false,\"x\":{\"dtype\":\"f8\",\"bdata\":\"GC1EVPshGcAaLURU+yEJwH\\u002fXRetFg9A8f9dF60WD0DwaLURU+yEJwBgtRFT7IRnAGC1EVPshGcA=\"},\"y\":{\"dtype\":\"f8\",\"bdata\":\"f9dF60WD0Dx\\u002f10XrRYPQPBotRFT7IQnAGC1EVPshGcAYLURU+yEZwBotRFT7IQnAf9dF60WD0Dw=\"},\"z\":{\"dtype\":\"f8\",\"bdata\":\"Gi1EVPshCcAYLURU+yEZwBgtRFT7IRnAGi1EVPshCcB\\u002f10XrRYPQPH\\u002fXRetFg9A8Gi1EVPshCcA=\"},\"type\":\"scatter3d\"},{\"marker\":{\"color\":\"black\",\"size\":0.1},\"name\":\"Brillouin zone\",\"showlegend\":false,\"x\":{\"dtype\":\"f8\",\"bdata\":\"GC1EVPshGUAaLURU+yEJQH\\u002fXRetFg9C8f9dF60WD0LwWLURU+yEJQBktRFT7IRlAGC1EVPshGUA=\"},\"y\":{\"dtype\":\"f8\",\"bdata\":\"Gi1EVPshCcAYLURU+yEZwBgtRFT7IRnAGi1EVPshCcAAAAAAAAAAAAAAAAAAAAAAGi1EVPshCcA=\"},\"z\":{\"dtype\":\"f8\",\"bdata\":\"f9dF60WD0Lx\\u002f10XrRYPQvBotRFT7IQlAGC1EVPshGUAZLURU+yEZQBYtRFT7IQlAf9dF60WD0Lw=\"},\"type\":\"scatter3d\"},{\"marker\":{\"color\":\"black\",\"size\":0.1},\"name\":\"Brillouin zone\",\"showlegend\":false,\"x\":{\"dtype\":\"f8\",\"bdata\":\"GS1EVPshGUAWLURU+yEJQAAAAAAAAAAAAAAAAAAAAAAaLURU+yEJQBgtRFT7IRlAGS1EVPshGUA=\"},\"y\":{\"dtype\":\"f8\",\"bdata\":\"AAAAAAAAAAAAAAAAAAAAABYtRFT7IQlAGS1EVPshGUAYLURU+yEZQBotRFT7IQlAAAAAAAAAAAA=\"},\"z\":{\"dtype\":\"f8\",\"bdata\":\"Fi1EVPshCcAZLURU+yEZwBktRFT7IRnAFi1EVPshCcAAAAAAAADQvAAAAAAAANC8Fi1EVPshCcA=\"},\"type\":\"scatter3d\"},{\"marker\":{\"color\":\"black\",\"size\":0.1},\"name\":\"Brillouin zone\",\"showlegend\":false,\"x\":{\"dtype\":\"f8\",\"bdata\":\"Gi1EVPshCcAAAAAAAAAAABotRFT7IQlAAAAAAAAAAAAaLURU+yEJwA==\"},\"y\":{\"dtype\":\"f8\",\"bdata\":\"GC1EVPshGUAZLURU+yEZQBgtRFT7IRlAGS1EVPshGUAYLURU+yEZQA==\"},\"z\":{\"dtype\":\"f8\",\"bdata\":\"f9dF60WD0DwWLURU+yEJwAAAAAAAANC8Fi1EVPshCUB\\u002f10XrRYPQPA==\"},\"type\":\"scatter3d\"},{\"marker\":{\"color\":\"black\",\"size\":0.1},\"name\":\"Brillouin zone\",\"showlegend\":false,\"x\":{\"dtype\":\"f8\",\"bdata\":\"Gi1EVPshCcB\\u002f10XrRYPQPBYtRFT7IQlAAAAAAAAAAAAaLURU+yEJwA==\"},\"y\":{\"dtype\":\"f8\",\"bdata\":\"f9dF60WD0DwaLURU+yEJwAAAAAAAAAAAFi1EVPshCUB\\u002f10XrRYPQPA==\"},\"z\":{\"dtype\":\"f8\",\"bdata\":\"GC1EVPshGcAYLURU+yEZwBktRFT7IRnAGS1EVPshGcAYLURU+yEZwA==\"},\"type\":\"scatter3d\"},{\"marker\":{\"color\":\"black\",\"size\":0.1},\"name\":\"Brillouin zone\",\"showlegend\":false,\"x\":{\"dtype\":\"f8\",\"bdata\":\"GC1EVPshGUAZLURU+yEZQBgtRFT7IRlAGS1EVPshGUAYLURU+yEZQA==\"},\"y\":{\"dtype\":\"f8\",\"bdata\":\"Gi1EVPshCcAAAAAAAAAAABotRFT7IQlAAAAAAAAAAAAaLURU+yEJwA==\"},\"z\":{\"dtype\":\"f8\",\"bdata\":\"f9dF60WD0LwWLURU+yEJQAAAAAAAANC8Fi1EVPshCcB\\u002f10XrRYPQvA==\"},\"type\":\"scatter3d\"},{\"marker\":{\"color\":\"black\",\"size\":0.1},\"name\":\"Brillouin zone\",\"showlegend\":false,\"x\":{\"dtype\":\"f8\",\"bdata\":\"f9dF60WD0LwWLURU+yEJQAAAAAAAAAAAGi1EVPshCcB\\u002f10XrRYPQvA==\"},\"y\":{\"dtype\":\"f8\",\"bdata\":\"Gi1EVPshCcAAAAAAAAAAABYtRFT7IQlAf9dF60WD0DwaLURU+yEJwA==\"},\"z\":{\"dtype\":\"f8\",\"bdata\":\"GC1EVPshGUAZLURU+yEZQBktRFT7IRlAGC1EVPshGUAYLURU+yEZQA==\"},\"type\":\"scatter3d\"},{\"marker\":{\"color\":\"black\",\"size\":0.1},\"name\":\"Brillouin zone\",\"showlegend\":false,\"x\":{\"dtype\":\"f8\",\"bdata\":\"GC1EVPshGUAZLURU+yEZQBYtRFT7IQlAAAAAAAAAAAAAAAAAAAAAABotRFT7IQlAGC1EVPshGUA=\"},\"y\":{\"dtype\":\"f8\",\"bdata\":\"Gi1EVPshCUAAAAAAAAAAAAAAAAAAAAAAFi1EVPshCUAZLURU+yEZQBgtRFT7IRlAGi1EVPshCUA=\"},\"z\":{\"dtype\":\"f8\",\"bdata\":\"AAAAAAAA0LwWLURU+yEJQBktRFT7IRlAGS1EVPshGUAWLURU+yEJQAAAAAAAANC8AAAAAAAA0Lw=\"},\"type\":\"scatter3d\"},{\"marker\":{\"opacity\":0.9,\"size\":4},\"mode\":\"markers\",\"name\":\"\\u0393\",\"x\":[0.0],\"y\":[0.0],\"z\":[0.0],\"type\":\"scatter3d\"},{\"marker\":{\"opacity\":0.9,\"size\":4},\"mode\":\"markers\",\"name\":\"K\",\"x\":[4.71238898038469],\"y\":[4.71238898038469],\"z\":[0.0],\"type\":\"scatter3d\"},{\"marker\":{\"opacity\":0.9,\"size\":4},\"mode\":\"markers\",\"name\":\"L\",\"x\":[3.141592653589793],\"y\":[3.141592653589793],\"z\":[3.141592653589793],\"type\":\"scatter3d\"},{\"marker\":{\"opacity\":0.9,\"size\":4},\"mode\":\"markers\",\"name\":\"U\",\"x\":[1.5707963267948966],\"y\":[6.283185307179586],\"z\":[1.5707963267948966],\"type\":\"scatter3d\"},{\"marker\":{\"opacity\":0.9,\"size\":4},\"mode\":\"markers\",\"name\":\"W\",\"x\":[3.141592653589793],\"y\":[6.283185307179586],\"z\":[0.0],\"type\":\"scatter3d\"},{\"marker\":{\"opacity\":0.9,\"size\":4},\"mode\":\"markers\",\"name\":\"X\",\"x\":[0.0],\"y\":[6.283185307179586],\"z\":[0.0],\"type\":\"scatter3d\"},{\"marker\":{\"color\":\"#1a962b\",\"opacity\":0.75,\"size\":2},\"mode\":\"markers\",\"name\":\"k-points\",\"x\":{\"dtype\":\"i1\",\"bdata\":\"AA==\"},\"y\":{\"dtype\":\"i1\",\"bdata\":\"AA==\"},\"z\":{\"dtype\":\"i1\",\"bdata\":\"AA==\"},\"type\":\"scatter3d\"}],                        {\"template\":{\"data\":{\"scatter\":[{\"type\":\"scatter\"}]}},\"scene\":{\"xaxis\":{\"title\":{\"text\":\"b\\u003csub\\u003e1\\u003c\\u002fsub\\u003e\"}},\"yaxis\":{\"title\":{\"text\":\"b\\u003csub\\u003e2\\u003c\\u002fsub\\u003e\"}},\"zaxis\":{\"title\":{\"text\":\"b\\u003csub\\u003e3\\u003c\\u002fsub\\u003e\"}},\"aspectmode\":\"data\"},\"legend\":{\"itemsizing\":\"constant\",\"title\":{\"text\":\"Selection\"}},\"hoverlabel\":{\"bgcolor\":\"black\"},\"width\":600,\"height\":600},                        {\"responsive\": true}                    ).then(function(){\n",
       "                            \n",
       "var gd = document.getElementById('3b403419-00f1-48b1-9286-93f7f5c43a29');\n",
       "var x = new MutationObserver(function (mutations, observer) {{\n",
       "        var display = window.getComputedStyle(gd).display;\n",
       "        if (!display || display === 'none') {{\n",
       "            console.log([gd, 'removed!']);\n",
       "            Plotly.purge(gd);\n",
       "            observer.disconnect();\n",
       "        }}\n",
       "}});\n",
       "\n",
       "// Listen for the removal of the full notebook cells\n",
       "var notebookContainer = gd.closest('#notebook-container');\n",
       "if (notebookContainer) {{\n",
       "    x.observe(notebookContainer, {childList: true});\n",
       "}}\n",
       "\n",
       "// Listen for the clearing of the current output cell\n",
       "var outputEl = gd.closest('.output');\n",
       "if (outputEl) {{\n",
       "    x.observe(outputEl, {childList: true});\n",
       "}}\n",
       "\n",
       "                        })                };            </script>        </div>"
      ]
     },
     "metadata": {},
     "output_type": "display_data"
    }
   ],
   "source": [
    "# Test normal kpts viewing\n",
    "view(kpts)"
   ]
  },
  {
   "cell_type": "code",
   "execution_count": 4,
   "id": "5c0f9438-78fa-4e1f-a765-dfbd519b6ac4",
   "metadata": {},
   "outputs": [
    {
     "data": {
      "text/html": [
       "<div>            <script src=\"https://cdnjs.cloudflare.com/ajax/libs/mathjax/2.7.5/MathJax.js?config=TeX-AMS-MML_SVG\"></script><script type=\"text/javascript\">if (window.MathJax && window.MathJax.Hub && window.MathJax.Hub.Config) {window.MathJax.Hub.Config({SVG: {font: \"STIX-Web\"}});}</script>                <script type=\"text/javascript\">window.PlotlyConfig = {MathJaxConfig: 'local'};</script>\n",
       "        <script charset=\"utf-8\" src=\"https://cdn.plot.ly/plotly-3.0.1.min.js\"></script>                <div id=\"329507e7-d9ae-4517-9629-367901a3dd9f\" class=\"plotly-graph-div\" style=\"height:600px; width:600px;\"></div>            <script type=\"text/javascript\">                window.PLOTLYENV=window.PLOTLYENV || {};                                if (document.getElementById(\"329507e7-d9ae-4517-9629-367901a3dd9f\")) {                    Plotly.newPlot(                        \"329507e7-d9ae-4517-9629-367901a3dd9f\",                        [{\"marker\":{\"color\":\"black\",\"size\":0.1},\"name\":\"Brillouin zone\",\"showlegend\":false,\"x\":{\"dtype\":\"f8\",\"bdata\":\"Gi1EVPshCUB\\u002f10XrRYPQvBotRFT7IQnAf9dF60WD0DwaLURU+yEJQA==\"},\"y\":{\"dtype\":\"f8\",\"bdata\":\"GC1EVPshGcAYLURU+yEZwBgtRFT7IRnAGC1EVPshGcAYLURU+yEZwA==\"},\"z\":{\"dtype\":\"f8\",\"bdata\":\"f9dF60WD0LwaLURU+yEJQH\\u002fXRetFg9A8Gi1EVPshCcB\\u002f10XrRYPQvA==\"},\"type\":\"scatter3d\"},{\"marker\":{\"color\":\"black\",\"size\":0.1},\"name\":\"Brillouin zone\",\"showlegend\":false,\"x\":{\"dtype\":\"f8\",\"bdata\":\"GS1EVPshGcAYLURU+yEZwBotRFT7IQnAf9dF60WD0Lx\\u002f10XrRYPQvBotRFT7IQnAGS1EVPshGcA=\"},\"y\":{\"dtype\":\"f8\",\"bdata\":\"AAAAAAAAAAAaLURU+yEJwBgtRFT7IRnAGC1EVPshGcAaLURU+yEJwH\\u002fXRetFg9A8AAAAAAAAAAA=\"},\"z\":{\"dtype\":\"f8\",\"bdata\":\"Fi1EVPshCUB\\u002f10XrRYPQPH\\u002fXRetFg9A8Gi1EVPshCUAYLURU+yEZQBgtRFT7IRlAFi1EVPshCUA=\"},\"type\":\"scatter3d\"},{\"marker\":{\"color\":\"black\",\"size\":0.1},\"name\":\"Brillouin zone\",\"showlegend\":false,\"x\":{\"dtype\":\"f8\",\"bdata\":\"Gi1EVPshCUAYLURU+yEZQBktRFT7IRlAFi1EVPshCUB\\u002f10XrRYPQPH\\u002fXRetFg9A8Gi1EVPshCUA=\"},\"y\":{\"dtype\":\"f8\",\"bdata\":\"GC1EVPshGcAaLURU+yEJwAAAAAAAAAAAAAAAAAAAAAAaLURU+yEJwBgtRFT7IRnAGC1EVPshGcA=\"},\"z\":{\"dtype\":\"f8\",\"bdata\":\"f9dF60WD0Lx\\u002f10XrRYPQvBYtRFT7IQnAGS1EVPshGcAYLURU+yEZwBotRFT7IQnAf9dF60WD0Lw=\"},\"type\":\"scatter3d\"},{\"marker\":{\"color\":\"black\",\"size\":0.1},\"name\":\"Brillouin zone\",\"showlegend\":false,\"x\":{\"dtype\":\"f8\",\"bdata\":\"GS1EVPshGcAaLURU+yEJwAAAAAAAAAAAAAAAAAAAAAAaLURU+yEJwBktRFT7IRnAGS1EVPshGcA=\"},\"y\":{\"dtype\":\"f8\",\"bdata\":\"Fi1EVPshCUAYLURU+yEZQBktRFT7IRlAFi1EVPshCUB\\u002f10XrRYPQPAAAAAAAAAAAFi1EVPshCUA=\"},\"z\":{\"dtype\":\"f8\",\"bdata\":\"AAAAAAAAAAB\\u002f10XrRYPQPBYtRFT7IQlAGS1EVPshGUAYLURU+yEZQBYtRFT7IQlAAAAAAAAAAAA=\"},\"type\":\"scatter3d\"},{\"marker\":{\"color\":\"black\",\"size\":0.1},\"name\":\"Brillouin zone\",\"showlegend\":false,\"x\":{\"dtype\":\"f8\",\"bdata\":\"GC1EVPshGcAYLURU+yEZwBktRFT7IRnAGS1EVPshGcAYLURU+yEZwA==\"},\"y\":{\"dtype\":\"f8\",\"bdata\":\"Gi1EVPshCcB\\u002f10XrRYPQPBYtRFT7IQlAAAAAAAAAAAAaLURU+yEJwA==\"},\"z\":{\"dtype\":\"f8\",\"bdata\":\"f9dF60WD0DwaLURU+yEJwAAAAAAAAAAAFi1EVPshCUB\\u002f10XrRYPQPA==\"},\"type\":\"scatter3d\"},{\"marker\":{\"color\":\"black\",\"size\":0.1},\"name\":\"Brillouin zone\",\"showlegend\":false,\"x\":{\"dtype\":\"f8\",\"bdata\":\"GC1EVPshGcAaLURU+yEJwAAAAAAAAAAAAAAAAAAAAAAaLURU+yEJwBktRFT7IRnAGC1EVPshGcA=\"},\"y\":{\"dtype\":\"f8\",\"bdata\":\"f9dF60WD0Dx\\u002f10XrRYPQPBYtRFT7IQlAGS1EVPshGUAYLURU+yEZQBYtRFT7IQlAf9dF60WD0Dw=\"},\"z\":{\"dtype\":\"f8\",\"bdata\":\"Gi1EVPshCcAYLURU+yEZwBktRFT7IRnAFi1EVPshCcB\\u002f10XrRYPQPAAAAAAAAAAAGi1EVPshCcA=\"},\"type\":\"scatter3d\"},{\"marker\":{\"color\":\"black\",\"size\":0.1},\"name\":\"Brillouin zone\",\"showlegend\":false,\"x\":{\"dtype\":\"f8\",\"bdata\":\"GC1EVPshGcAaLURU+yEJwH\\u002fXRetFg9A8f9dF60WD0DwaLURU+yEJwBgtRFT7IRnAGC1EVPshGcA=\"},\"y\":{\"dtype\":\"f8\",\"bdata\":\"f9dF60WD0Dx\\u002f10XrRYPQPBotRFT7IQnAGC1EVPshGcAYLURU+yEZwBotRFT7IQnAf9dF60WD0Dw=\"},\"z\":{\"dtype\":\"f8\",\"bdata\":\"Gi1EVPshCcAYLURU+yEZwBgtRFT7IRnAGi1EVPshCcB\\u002f10XrRYPQPH\\u002fXRetFg9A8Gi1EVPshCcA=\"},\"type\":\"scatter3d\"},{\"marker\":{\"color\":\"black\",\"size\":0.1},\"name\":\"Brillouin zone\",\"showlegend\":false,\"x\":{\"dtype\":\"f8\",\"bdata\":\"GC1EVPshGUAaLURU+yEJQH\\u002fXRetFg9C8f9dF60WD0LwWLURU+yEJQBktRFT7IRlAGC1EVPshGUA=\"},\"y\":{\"dtype\":\"f8\",\"bdata\":\"Gi1EVPshCcAYLURU+yEZwBgtRFT7IRnAGi1EVPshCcAAAAAAAAAAAAAAAAAAAAAAGi1EVPshCcA=\"},\"z\":{\"dtype\":\"f8\",\"bdata\":\"f9dF60WD0Lx\\u002f10XrRYPQvBotRFT7IQlAGC1EVPshGUAZLURU+yEZQBYtRFT7IQlAf9dF60WD0Lw=\"},\"type\":\"scatter3d\"},{\"marker\":{\"color\":\"black\",\"size\":0.1},\"name\":\"Brillouin zone\",\"showlegend\":false,\"x\":{\"dtype\":\"f8\",\"bdata\":\"GS1EVPshGUAWLURU+yEJQAAAAAAAAAAAAAAAAAAAAAAaLURU+yEJQBgtRFT7IRlAGS1EVPshGUA=\"},\"y\":{\"dtype\":\"f8\",\"bdata\":\"AAAAAAAAAAAAAAAAAAAAABYtRFT7IQlAGS1EVPshGUAYLURU+yEZQBotRFT7IQlAAAAAAAAAAAA=\"},\"z\":{\"dtype\":\"f8\",\"bdata\":\"Fi1EVPshCcAZLURU+yEZwBktRFT7IRnAFi1EVPshCcAAAAAAAADQvAAAAAAAANC8Fi1EVPshCcA=\"},\"type\":\"scatter3d\"},{\"marker\":{\"color\":\"black\",\"size\":0.1},\"name\":\"Brillouin zone\",\"showlegend\":false,\"x\":{\"dtype\":\"f8\",\"bdata\":\"Gi1EVPshCcAAAAAAAAAAABotRFT7IQlAAAAAAAAAAAAaLURU+yEJwA==\"},\"y\":{\"dtype\":\"f8\",\"bdata\":\"GC1EVPshGUAZLURU+yEZQBgtRFT7IRlAGS1EVPshGUAYLURU+yEZQA==\"},\"z\":{\"dtype\":\"f8\",\"bdata\":\"f9dF60WD0DwWLURU+yEJwAAAAAAAANC8Fi1EVPshCUB\\u002f10XrRYPQPA==\"},\"type\":\"scatter3d\"},{\"marker\":{\"color\":\"black\",\"size\":0.1},\"name\":\"Brillouin zone\",\"showlegend\":false,\"x\":{\"dtype\":\"f8\",\"bdata\":\"Gi1EVPshCcB\\u002f10XrRYPQPBYtRFT7IQlAAAAAAAAAAAAaLURU+yEJwA==\"},\"y\":{\"dtype\":\"f8\",\"bdata\":\"f9dF60WD0DwaLURU+yEJwAAAAAAAAAAAFi1EVPshCUB\\u002f10XrRYPQPA==\"},\"z\":{\"dtype\":\"f8\",\"bdata\":\"GC1EVPshGcAYLURU+yEZwBktRFT7IRnAGS1EVPshGcAYLURU+yEZwA==\"},\"type\":\"scatter3d\"},{\"marker\":{\"color\":\"black\",\"size\":0.1},\"name\":\"Brillouin zone\",\"showlegend\":false,\"x\":{\"dtype\":\"f8\",\"bdata\":\"GC1EVPshGUAZLURU+yEZQBgtRFT7IRlAGS1EVPshGUAYLURU+yEZQA==\"},\"y\":{\"dtype\":\"f8\",\"bdata\":\"Gi1EVPshCcAAAAAAAAAAABotRFT7IQlAAAAAAAAAAAAaLURU+yEJwA==\"},\"z\":{\"dtype\":\"f8\",\"bdata\":\"f9dF60WD0LwWLURU+yEJQAAAAAAAANC8Fi1EVPshCcB\\u002f10XrRYPQvA==\"},\"type\":\"scatter3d\"},{\"marker\":{\"color\":\"black\",\"size\":0.1},\"name\":\"Brillouin zone\",\"showlegend\":false,\"x\":{\"dtype\":\"f8\",\"bdata\":\"f9dF60WD0LwWLURU+yEJQAAAAAAAAAAAGi1EVPshCcB\\u002f10XrRYPQvA==\"},\"y\":{\"dtype\":\"f8\",\"bdata\":\"Gi1EVPshCcAAAAAAAAAAABYtRFT7IQlAf9dF60WD0DwaLURU+yEJwA==\"},\"z\":{\"dtype\":\"f8\",\"bdata\":\"GC1EVPshGUAZLURU+yEZQBktRFT7IRlAGC1EVPshGUAYLURU+yEZQA==\"},\"type\":\"scatter3d\"},{\"marker\":{\"color\":\"black\",\"size\":0.1},\"name\":\"Brillouin zone\",\"showlegend\":false,\"x\":{\"dtype\":\"f8\",\"bdata\":\"GC1EVPshGUAZLURU+yEZQBYtRFT7IQlAAAAAAAAAAAAAAAAAAAAAABotRFT7IQlAGC1EVPshGUA=\"},\"y\":{\"dtype\":\"f8\",\"bdata\":\"Gi1EVPshCUAAAAAAAAAAAAAAAAAAAAAAFi1EVPshCUAZLURU+yEZQBgtRFT7IRlAGi1EVPshCUA=\"},\"z\":{\"dtype\":\"f8\",\"bdata\":\"AAAAAAAA0LwWLURU+yEJQBktRFT7IRlAGS1EVPshGUAWLURU+yEJQAAAAAAAANC8AAAAAAAA0Lw=\"},\"type\":\"scatter3d\"},{\"marker\":{\"opacity\":0.9,\"size\":4},\"mode\":\"markers\",\"name\":\"\\u0393\",\"x\":[0.0],\"y\":[0.0],\"z\":[0.0],\"type\":\"scatter3d\"},{\"marker\":{\"opacity\":0.9,\"size\":4},\"mode\":\"markers\",\"name\":\"K\",\"x\":[4.71238898038469],\"y\":[4.71238898038469],\"z\":[0.0],\"type\":\"scatter3d\"},{\"marker\":{\"opacity\":0.9,\"size\":4},\"mode\":\"markers\",\"name\":\"L\",\"x\":[3.141592653589793],\"y\":[3.141592653589793],\"z\":[3.141592653589793],\"type\":\"scatter3d\"},{\"marker\":{\"opacity\":0.9,\"size\":4},\"mode\":\"markers\",\"name\":\"U\",\"x\":[1.5707963267948966],\"y\":[6.283185307179586],\"z\":[1.5707963267948966],\"type\":\"scatter3d\"},{\"marker\":{\"opacity\":0.9,\"size\":4},\"mode\":\"markers\",\"name\":\"W\",\"x\":[3.141592653589793],\"y\":[6.283185307179586],\"z\":[0.0],\"type\":\"scatter3d\"},{\"marker\":{\"opacity\":0.9,\"size\":4},\"mode\":\"markers\",\"name\":\"X\",\"x\":[0.0],\"y\":[6.283185307179586],\"z\":[0.0],\"type\":\"scatter3d\"}],                        {\"template\":{\"data\":{\"scatter\":[{\"type\":\"scatter\"}]}},\"scene\":{\"xaxis\":{\"title\":{\"text\":\"b\\u003csub\\u003e1\\u003c\\u002fsub\\u003e\"}},\"yaxis\":{\"title\":{\"text\":\"b\\u003csub\\u003e2\\u003c\\u002fsub\\u003e\"}},\"zaxis\":{\"title\":{\"text\":\"b\\u003csub\\u003e3\\u003c\\u002fsub\\u003e\"}},\"aspectmode\":\"data\"},\"legend\":{\"itemsizing\":\"constant\",\"title\":{\"text\":\"Selection\"}},\"hoverlabel\":{\"bgcolor\":\"black\"},\"width\":600,\"height\":600},                        {\"responsive\": true}                    ).then(function(){\n",
       "                            \n",
       "var gd = document.getElementById('329507e7-d9ae-4517-9629-367901a3dd9f');\n",
       "var x = new MutationObserver(function (mutations, observer) {{\n",
       "        var display = window.getComputedStyle(gd).display;\n",
       "        if (!display || display === 'none') {{\n",
       "            console.log([gd, 'removed!']);\n",
       "            Plotly.purge(gd);\n",
       "            observer.disconnect();\n",
       "        }}\n",
       "}});\n",
       "\n",
       "// Listen for the removal of the full notebook cells\n",
       "var notebookContainer = gd.closest('#notebook-container');\n",
       "if (notebookContainer) {{\n",
       "    x.observe(notebookContainer, {childList: true});\n",
       "}}\n",
       "\n",
       "// Listen for the clearing of the current output cell\n",
       "var outputEl = gd.closest('.output');\n",
       "if (outputEl) {{\n",
       "    x.observe(outputEl, {childList: true});\n",
       "}}\n",
       "\n",
       "                        })                };            </script>        </div>"
      ]
     },
     "metadata": {},
     "output_type": "display_data"
    }
   ],
   "source": [
    "# Test removal of kpoints\n",
    "view(kpts, path=False)"
   ]
  },
  {
   "cell_type": "code",
   "execution_count": 5,
   "id": "3974adf4-6e04-4151-bb6a-abdb725b627d",
   "metadata": {},
   "outputs": [
    {
     "data": {
      "text/html": [
       "<div>            <script src=\"https://cdnjs.cloudflare.com/ajax/libs/mathjax/2.7.5/MathJax.js?config=TeX-AMS-MML_SVG\"></script><script type=\"text/javascript\">if (window.MathJax && window.MathJax.Hub && window.MathJax.Hub.Config) {window.MathJax.Hub.Config({SVG: {font: \"STIX-Web\"}});}</script>                <script type=\"text/javascript\">window.PlotlyConfig = {MathJaxConfig: 'local'};</script>\n",
       "        <script charset=\"utf-8\" src=\"https://cdn.plot.ly/plotly-3.0.1.min.js\"></script>                <div id=\"86af4d27-494a-45e2-9218-6d696632b461\" class=\"plotly-graph-div\" style=\"height:600px; width:600px;\"></div>            <script type=\"text/javascript\">                window.PLOTLYENV=window.PLOTLYENV || {};                                if (document.getElementById(\"86af4d27-494a-45e2-9218-6d696632b461\")) {                    Plotly.newPlot(                        \"86af4d27-494a-45e2-9218-6d696632b461\",                        [{\"marker\":{\"color\":\"black\",\"size\":0.1},\"name\":\"Brillouin zone\",\"showlegend\":false,\"x\":{\"dtype\":\"f8\",\"bdata\":\"Gi1EVPshCUB\\u002f10XrRYPQvBotRFT7IQnAf9dF60WD0DwaLURU+yEJQA==\"},\"y\":{\"dtype\":\"f8\",\"bdata\":\"GC1EVPshGcAYLURU+yEZwBgtRFT7IRnAGC1EVPshGcAYLURU+yEZwA==\"},\"z\":{\"dtype\":\"f8\",\"bdata\":\"f9dF60WD0LwaLURU+yEJQH\\u002fXRetFg9A8Gi1EVPshCcB\\u002f10XrRYPQvA==\"},\"type\":\"scatter3d\"},{\"marker\":{\"color\":\"black\",\"size\":0.1},\"name\":\"Brillouin zone\",\"showlegend\":false,\"x\":{\"dtype\":\"f8\",\"bdata\":\"GS1EVPshGcAYLURU+yEZwBotRFT7IQnAf9dF60WD0Lx\\u002f10XrRYPQvBotRFT7IQnAGS1EVPshGcA=\"},\"y\":{\"dtype\":\"f8\",\"bdata\":\"AAAAAAAAAAAaLURU+yEJwBgtRFT7IRnAGC1EVPshGcAaLURU+yEJwH\\u002fXRetFg9A8AAAAAAAAAAA=\"},\"z\":{\"dtype\":\"f8\",\"bdata\":\"Fi1EVPshCUB\\u002f10XrRYPQPH\\u002fXRetFg9A8Gi1EVPshCUAYLURU+yEZQBgtRFT7IRlAFi1EVPshCUA=\"},\"type\":\"scatter3d\"},{\"marker\":{\"color\":\"black\",\"size\":0.1},\"name\":\"Brillouin zone\",\"showlegend\":false,\"x\":{\"dtype\":\"f8\",\"bdata\":\"Gi1EVPshCUAYLURU+yEZQBktRFT7IRlAFi1EVPshCUB\\u002f10XrRYPQPH\\u002fXRetFg9A8Gi1EVPshCUA=\"},\"y\":{\"dtype\":\"f8\",\"bdata\":\"GC1EVPshGcAaLURU+yEJwAAAAAAAAAAAAAAAAAAAAAAaLURU+yEJwBgtRFT7IRnAGC1EVPshGcA=\"},\"z\":{\"dtype\":\"f8\",\"bdata\":\"f9dF60WD0Lx\\u002f10XrRYPQvBYtRFT7IQnAGS1EVPshGcAYLURU+yEZwBotRFT7IQnAf9dF60WD0Lw=\"},\"type\":\"scatter3d\"},{\"marker\":{\"color\":\"black\",\"size\":0.1},\"name\":\"Brillouin zone\",\"showlegend\":false,\"x\":{\"dtype\":\"f8\",\"bdata\":\"GS1EVPshGcAaLURU+yEJwAAAAAAAAAAAAAAAAAAAAAAaLURU+yEJwBktRFT7IRnAGS1EVPshGcA=\"},\"y\":{\"dtype\":\"f8\",\"bdata\":\"Fi1EVPshCUAYLURU+yEZQBktRFT7IRlAFi1EVPshCUB\\u002f10XrRYPQPAAAAAAAAAAAFi1EVPshCUA=\"},\"z\":{\"dtype\":\"f8\",\"bdata\":\"AAAAAAAAAAB\\u002f10XrRYPQPBYtRFT7IQlAGS1EVPshGUAYLURU+yEZQBYtRFT7IQlAAAAAAAAAAAA=\"},\"type\":\"scatter3d\"},{\"marker\":{\"color\":\"black\",\"size\":0.1},\"name\":\"Brillouin zone\",\"showlegend\":false,\"x\":{\"dtype\":\"f8\",\"bdata\":\"GC1EVPshGcAYLURU+yEZwBktRFT7IRnAGS1EVPshGcAYLURU+yEZwA==\"},\"y\":{\"dtype\":\"f8\",\"bdata\":\"Gi1EVPshCcB\\u002f10XrRYPQPBYtRFT7IQlAAAAAAAAAAAAaLURU+yEJwA==\"},\"z\":{\"dtype\":\"f8\",\"bdata\":\"f9dF60WD0DwaLURU+yEJwAAAAAAAAAAAFi1EVPshCUB\\u002f10XrRYPQPA==\"},\"type\":\"scatter3d\"},{\"marker\":{\"color\":\"black\",\"size\":0.1},\"name\":\"Brillouin zone\",\"showlegend\":false,\"x\":{\"dtype\":\"f8\",\"bdata\":\"GC1EVPshGcAaLURU+yEJwAAAAAAAAAAAAAAAAAAAAAAaLURU+yEJwBktRFT7IRnAGC1EVPshGcA=\"},\"y\":{\"dtype\":\"f8\",\"bdata\":\"f9dF60WD0Dx\\u002f10XrRYPQPBYtRFT7IQlAGS1EVPshGUAYLURU+yEZQBYtRFT7IQlAf9dF60WD0Dw=\"},\"z\":{\"dtype\":\"f8\",\"bdata\":\"Gi1EVPshCcAYLURU+yEZwBktRFT7IRnAFi1EVPshCcB\\u002f10XrRYPQPAAAAAAAAAAAGi1EVPshCcA=\"},\"type\":\"scatter3d\"},{\"marker\":{\"color\":\"black\",\"size\":0.1},\"name\":\"Brillouin zone\",\"showlegend\":false,\"x\":{\"dtype\":\"f8\",\"bdata\":\"GC1EVPshGcAaLURU+yEJwH\\u002fXRetFg9A8f9dF60WD0DwaLURU+yEJwBgtRFT7IRnAGC1EVPshGcA=\"},\"y\":{\"dtype\":\"f8\",\"bdata\":\"f9dF60WD0Dx\\u002f10XrRYPQPBotRFT7IQnAGC1EVPshGcAYLURU+yEZwBotRFT7IQnAf9dF60WD0Dw=\"},\"z\":{\"dtype\":\"f8\",\"bdata\":\"Gi1EVPshCcAYLURU+yEZwBgtRFT7IRnAGi1EVPshCcB\\u002f10XrRYPQPH\\u002fXRetFg9A8Gi1EVPshCcA=\"},\"type\":\"scatter3d\"},{\"marker\":{\"color\":\"black\",\"size\":0.1},\"name\":\"Brillouin zone\",\"showlegend\":false,\"x\":{\"dtype\":\"f8\",\"bdata\":\"GC1EVPshGUAaLURU+yEJQH\\u002fXRetFg9C8f9dF60WD0LwWLURU+yEJQBktRFT7IRlAGC1EVPshGUA=\"},\"y\":{\"dtype\":\"f8\",\"bdata\":\"Gi1EVPshCcAYLURU+yEZwBgtRFT7IRnAGi1EVPshCcAAAAAAAAAAAAAAAAAAAAAAGi1EVPshCcA=\"},\"z\":{\"dtype\":\"f8\",\"bdata\":\"f9dF60WD0Lx\\u002f10XrRYPQvBotRFT7IQlAGC1EVPshGUAZLURU+yEZQBYtRFT7IQlAf9dF60WD0Lw=\"},\"type\":\"scatter3d\"},{\"marker\":{\"color\":\"black\",\"size\":0.1},\"name\":\"Brillouin zone\",\"showlegend\":false,\"x\":{\"dtype\":\"f8\",\"bdata\":\"GS1EVPshGUAWLURU+yEJQAAAAAAAAAAAAAAAAAAAAAAaLURU+yEJQBgtRFT7IRlAGS1EVPshGUA=\"},\"y\":{\"dtype\":\"f8\",\"bdata\":\"AAAAAAAAAAAAAAAAAAAAABYtRFT7IQlAGS1EVPshGUAYLURU+yEZQBotRFT7IQlAAAAAAAAAAAA=\"},\"z\":{\"dtype\":\"f8\",\"bdata\":\"Fi1EVPshCcAZLURU+yEZwBktRFT7IRnAFi1EVPshCcAAAAAAAADQvAAAAAAAANC8Fi1EVPshCcA=\"},\"type\":\"scatter3d\"},{\"marker\":{\"color\":\"black\",\"size\":0.1},\"name\":\"Brillouin zone\",\"showlegend\":false,\"x\":{\"dtype\":\"f8\",\"bdata\":\"Gi1EVPshCcAAAAAAAAAAABotRFT7IQlAAAAAAAAAAAAaLURU+yEJwA==\"},\"y\":{\"dtype\":\"f8\",\"bdata\":\"GC1EVPshGUAZLURU+yEZQBgtRFT7IRlAGS1EVPshGUAYLURU+yEZQA==\"},\"z\":{\"dtype\":\"f8\",\"bdata\":\"f9dF60WD0DwWLURU+yEJwAAAAAAAANC8Fi1EVPshCUB\\u002f10XrRYPQPA==\"},\"type\":\"scatter3d\"},{\"marker\":{\"color\":\"black\",\"size\":0.1},\"name\":\"Brillouin zone\",\"showlegend\":false,\"x\":{\"dtype\":\"f8\",\"bdata\":\"Gi1EVPshCcB\\u002f10XrRYPQPBYtRFT7IQlAAAAAAAAAAAAaLURU+yEJwA==\"},\"y\":{\"dtype\":\"f8\",\"bdata\":\"f9dF60WD0DwaLURU+yEJwAAAAAAAAAAAFi1EVPshCUB\\u002f10XrRYPQPA==\"},\"z\":{\"dtype\":\"f8\",\"bdata\":\"GC1EVPshGcAYLURU+yEZwBktRFT7IRnAGS1EVPshGcAYLURU+yEZwA==\"},\"type\":\"scatter3d\"},{\"marker\":{\"color\":\"black\",\"size\":0.1},\"name\":\"Brillouin zone\",\"showlegend\":false,\"x\":{\"dtype\":\"f8\",\"bdata\":\"GC1EVPshGUAZLURU+yEZQBgtRFT7IRlAGS1EVPshGUAYLURU+yEZQA==\"},\"y\":{\"dtype\":\"f8\",\"bdata\":\"Gi1EVPshCcAAAAAAAAAAABotRFT7IQlAAAAAAAAAAAAaLURU+yEJwA==\"},\"z\":{\"dtype\":\"f8\",\"bdata\":\"f9dF60WD0LwWLURU+yEJQAAAAAAAANC8Fi1EVPshCcB\\u002f10XrRYPQvA==\"},\"type\":\"scatter3d\"},{\"marker\":{\"color\":\"black\",\"size\":0.1},\"name\":\"Brillouin zone\",\"showlegend\":false,\"x\":{\"dtype\":\"f8\",\"bdata\":\"f9dF60WD0LwWLURU+yEJQAAAAAAAAAAAGi1EVPshCcB\\u002f10XrRYPQvA==\"},\"y\":{\"dtype\":\"f8\",\"bdata\":\"Gi1EVPshCcAAAAAAAAAAABYtRFT7IQlAf9dF60WD0DwaLURU+yEJwA==\"},\"z\":{\"dtype\":\"f8\",\"bdata\":\"GC1EVPshGUAZLURU+yEZQBktRFT7IRlAGC1EVPshGUAYLURU+yEZQA==\"},\"type\":\"scatter3d\"},{\"marker\":{\"color\":\"black\",\"size\":0.1},\"name\":\"Brillouin zone\",\"showlegend\":false,\"x\":{\"dtype\":\"f8\",\"bdata\":\"GC1EVPshGUAZLURU+yEZQBYtRFT7IQlAAAAAAAAAAAAAAAAAAAAAABotRFT7IQlAGC1EVPshGUA=\"},\"y\":{\"dtype\":\"f8\",\"bdata\":\"Gi1EVPshCUAAAAAAAAAAAAAAAAAAAAAAFi1EVPshCUAZLURU+yEZQBgtRFT7IRlAGi1EVPshCUA=\"},\"z\":{\"dtype\":\"f8\",\"bdata\":\"AAAAAAAA0LwWLURU+yEJQBktRFT7IRlAGS1EVPshGUAWLURU+yEJQAAAAAAAANC8AAAAAAAA0Lw=\"},\"type\":\"scatter3d\"},{\"marker\":{\"color\":\"#1a962b\",\"opacity\":0.75,\"size\":2},\"mode\":\"markers\",\"name\":\"k-points\",\"x\":{\"dtype\":\"i1\",\"bdata\":\"AA==\"},\"y\":{\"dtype\":\"i1\",\"bdata\":\"AA==\"},\"z\":{\"dtype\":\"i1\",\"bdata\":\"AA==\"},\"type\":\"scatter3d\"}],                        {\"template\":{\"data\":{\"scatter\":[{\"type\":\"scatter\"}]}},\"scene\":{\"xaxis\":{\"title\":{\"text\":\"b\\u003csub\\u003e1\\u003c\\u002fsub\\u003e\"}},\"yaxis\":{\"title\":{\"text\":\"b\\u003csub\\u003e2\\u003c\\u002fsub\\u003e\"}},\"zaxis\":{\"title\":{\"text\":\"b\\u003csub\\u003e3\\u003c\\u002fsub\\u003e\"}},\"aspectmode\":\"data\"},\"legend\":{\"itemsizing\":\"constant\",\"title\":{\"text\":\"Selection\"}},\"hoverlabel\":{\"bgcolor\":\"black\"},\"width\":600,\"height\":600},                        {\"responsive\": true}                    ).then(function(){\n",
       "                            \n",
       "var gd = document.getElementById('86af4d27-494a-45e2-9218-6d696632b461');\n",
       "var x = new MutationObserver(function (mutations, observer) {{\n",
       "        var display = window.getComputedStyle(gd).display;\n",
       "        if (!display || display === 'none') {{\n",
       "            console.log([gd, 'removed!']);\n",
       "            Plotly.purge(gd);\n",
       "            observer.disconnect();\n",
       "        }}\n",
       "}});\n",
       "\n",
       "// Listen for the removal of the full notebook cells\n",
       "var notebookContainer = gd.closest('#notebook-container');\n",
       "if (notebookContainer) {{\n",
       "    x.observe(notebookContainer, {childList: true});\n",
       "}}\n",
       "\n",
       "// Listen for the clearing of the current output cell\n",
       "var outputEl = gd.closest('.output');\n",
       "if (outputEl) {{\n",
       "    x.observe(outputEl, {childList: true});\n",
       "}}\n",
       "\n",
       "                        })                };            </script>        </div>"
      ]
     },
     "metadata": {},
     "output_type": "display_data"
    }
   ],
   "source": [
    "# Test removal of special points\n",
    "view(kpts, special=False)"
   ]
  },
  {
   "cell_type": "code",
   "execution_count": 6,
   "id": "e019726a-4545-4655-a14e-5c7f0e764325",
   "metadata": {},
   "outputs": [
    {
     "data": {
      "text/html": [
       "<div>            <script src=\"https://cdnjs.cloudflare.com/ajax/libs/mathjax/2.7.5/MathJax.js?config=TeX-AMS-MML_SVG\"></script><script type=\"text/javascript\">if (window.MathJax && window.MathJax.Hub && window.MathJax.Hub.Config) {window.MathJax.Hub.Config({SVG: {font: \"STIX-Web\"}});}</script>                <script type=\"text/javascript\">window.PlotlyConfig = {MathJaxConfig: 'local'};</script>\n",
       "        <script charset=\"utf-8\" src=\"https://cdn.plot.ly/plotly-3.0.1.min.js\"></script>                <div id=\"5c7fc56e-6d47-448f-9d43-87251e7a65aa\" class=\"plotly-graph-div\" style=\"height:600px; width:600px;\"></div>            <script type=\"text/javascript\">                window.PLOTLYENV=window.PLOTLYENV || {};                                if (document.getElementById(\"5c7fc56e-6d47-448f-9d43-87251e7a65aa\")) {                    Plotly.newPlot(                        \"5c7fc56e-6d47-448f-9d43-87251e7a65aa\",                        [{\"marker\":{\"color\":\"black\",\"size\":0.1},\"name\":\"Brillouin zone\",\"showlegend\":false,\"x\":{\"dtype\":\"f8\",\"bdata\":\"Gi1EVPshCUB\\u002f10XrRYPQvBotRFT7IQnAf9dF60WD0DwaLURU+yEJQA==\"},\"y\":{\"dtype\":\"f8\",\"bdata\":\"GC1EVPshGcAYLURU+yEZwBgtRFT7IRnAGC1EVPshGcAYLURU+yEZwA==\"},\"z\":{\"dtype\":\"f8\",\"bdata\":\"f9dF60WD0LwaLURU+yEJQH\\u002fXRetFg9A8Gi1EVPshCcB\\u002f10XrRYPQvA==\"},\"type\":\"scatter3d\"},{\"marker\":{\"color\":\"black\",\"size\":0.1},\"name\":\"Brillouin zone\",\"showlegend\":false,\"x\":{\"dtype\":\"f8\",\"bdata\":\"GS1EVPshGcAYLURU+yEZwBotRFT7IQnAf9dF60WD0Lx\\u002f10XrRYPQvBotRFT7IQnAGS1EVPshGcA=\"},\"y\":{\"dtype\":\"f8\",\"bdata\":\"AAAAAAAAAAAaLURU+yEJwBgtRFT7IRnAGC1EVPshGcAaLURU+yEJwH\\u002fXRetFg9A8AAAAAAAAAAA=\"},\"z\":{\"dtype\":\"f8\",\"bdata\":\"Fi1EVPshCUB\\u002f10XrRYPQPH\\u002fXRetFg9A8Gi1EVPshCUAYLURU+yEZQBgtRFT7IRlAFi1EVPshCUA=\"},\"type\":\"scatter3d\"},{\"marker\":{\"color\":\"black\",\"size\":0.1},\"name\":\"Brillouin zone\",\"showlegend\":false,\"x\":{\"dtype\":\"f8\",\"bdata\":\"Gi1EVPshCUAYLURU+yEZQBktRFT7IRlAFi1EVPshCUB\\u002f10XrRYPQPH\\u002fXRetFg9A8Gi1EVPshCUA=\"},\"y\":{\"dtype\":\"f8\",\"bdata\":\"GC1EVPshGcAaLURU+yEJwAAAAAAAAAAAAAAAAAAAAAAaLURU+yEJwBgtRFT7IRnAGC1EVPshGcA=\"},\"z\":{\"dtype\":\"f8\",\"bdata\":\"f9dF60WD0Lx\\u002f10XrRYPQvBYtRFT7IQnAGS1EVPshGcAYLURU+yEZwBotRFT7IQnAf9dF60WD0Lw=\"},\"type\":\"scatter3d\"},{\"marker\":{\"color\":\"black\",\"size\":0.1},\"name\":\"Brillouin zone\",\"showlegend\":false,\"x\":{\"dtype\":\"f8\",\"bdata\":\"GS1EVPshGcAaLURU+yEJwAAAAAAAAAAAAAAAAAAAAAAaLURU+yEJwBktRFT7IRnAGS1EVPshGcA=\"},\"y\":{\"dtype\":\"f8\",\"bdata\":\"Fi1EVPshCUAYLURU+yEZQBktRFT7IRlAFi1EVPshCUB\\u002f10XrRYPQPAAAAAAAAAAAFi1EVPshCUA=\"},\"z\":{\"dtype\":\"f8\",\"bdata\":\"AAAAAAAAAAB\\u002f10XrRYPQPBYtRFT7IQlAGS1EVPshGUAYLURU+yEZQBYtRFT7IQlAAAAAAAAAAAA=\"},\"type\":\"scatter3d\"},{\"marker\":{\"color\":\"black\",\"size\":0.1},\"name\":\"Brillouin zone\",\"showlegend\":false,\"x\":{\"dtype\":\"f8\",\"bdata\":\"GC1EVPshGcAYLURU+yEZwBktRFT7IRnAGS1EVPshGcAYLURU+yEZwA==\"},\"y\":{\"dtype\":\"f8\",\"bdata\":\"Gi1EVPshCcB\\u002f10XrRYPQPBYtRFT7IQlAAAAAAAAAAAAaLURU+yEJwA==\"},\"z\":{\"dtype\":\"f8\",\"bdata\":\"f9dF60WD0DwaLURU+yEJwAAAAAAAAAAAFi1EVPshCUB\\u002f10XrRYPQPA==\"},\"type\":\"scatter3d\"},{\"marker\":{\"color\":\"black\",\"size\":0.1},\"name\":\"Brillouin zone\",\"showlegend\":false,\"x\":{\"dtype\":\"f8\",\"bdata\":\"GC1EVPshGcAaLURU+yEJwAAAAAAAAAAAAAAAAAAAAAAaLURU+yEJwBktRFT7IRnAGC1EVPshGcA=\"},\"y\":{\"dtype\":\"f8\",\"bdata\":\"f9dF60WD0Dx\\u002f10XrRYPQPBYtRFT7IQlAGS1EVPshGUAYLURU+yEZQBYtRFT7IQlAf9dF60WD0Dw=\"},\"z\":{\"dtype\":\"f8\",\"bdata\":\"Gi1EVPshCcAYLURU+yEZwBktRFT7IRnAFi1EVPshCcB\\u002f10XrRYPQPAAAAAAAAAAAGi1EVPshCcA=\"},\"type\":\"scatter3d\"},{\"marker\":{\"color\":\"black\",\"size\":0.1},\"name\":\"Brillouin zone\",\"showlegend\":false,\"x\":{\"dtype\":\"f8\",\"bdata\":\"GC1EVPshGcAaLURU+yEJwH\\u002fXRetFg9A8f9dF60WD0DwaLURU+yEJwBgtRFT7IRnAGC1EVPshGcA=\"},\"y\":{\"dtype\":\"f8\",\"bdata\":\"f9dF60WD0Dx\\u002f10XrRYPQPBotRFT7IQnAGC1EVPshGcAYLURU+yEZwBotRFT7IQnAf9dF60WD0Dw=\"},\"z\":{\"dtype\":\"f8\",\"bdata\":\"Gi1EVPshCcAYLURU+yEZwBgtRFT7IRnAGi1EVPshCcB\\u002f10XrRYPQPH\\u002fXRetFg9A8Gi1EVPshCcA=\"},\"type\":\"scatter3d\"},{\"marker\":{\"color\":\"black\",\"size\":0.1},\"name\":\"Brillouin zone\",\"showlegend\":false,\"x\":{\"dtype\":\"f8\",\"bdata\":\"GC1EVPshGUAaLURU+yEJQH\\u002fXRetFg9C8f9dF60WD0LwWLURU+yEJQBktRFT7IRlAGC1EVPshGUA=\"},\"y\":{\"dtype\":\"f8\",\"bdata\":\"Gi1EVPshCcAYLURU+yEZwBgtRFT7IRnAGi1EVPshCcAAAAAAAAAAAAAAAAAAAAAAGi1EVPshCcA=\"},\"z\":{\"dtype\":\"f8\",\"bdata\":\"f9dF60WD0Lx\\u002f10XrRYPQvBotRFT7IQlAGC1EVPshGUAZLURU+yEZQBYtRFT7IQlAf9dF60WD0Lw=\"},\"type\":\"scatter3d\"},{\"marker\":{\"color\":\"black\",\"size\":0.1},\"name\":\"Brillouin zone\",\"showlegend\":false,\"x\":{\"dtype\":\"f8\",\"bdata\":\"GS1EVPshGUAWLURU+yEJQAAAAAAAAAAAAAAAAAAAAAAaLURU+yEJQBgtRFT7IRlAGS1EVPshGUA=\"},\"y\":{\"dtype\":\"f8\",\"bdata\":\"AAAAAAAAAAAAAAAAAAAAABYtRFT7IQlAGS1EVPshGUAYLURU+yEZQBotRFT7IQlAAAAAAAAAAAA=\"},\"z\":{\"dtype\":\"f8\",\"bdata\":\"Fi1EVPshCcAZLURU+yEZwBktRFT7IRnAFi1EVPshCcAAAAAAAADQvAAAAAAAANC8Fi1EVPshCcA=\"},\"type\":\"scatter3d\"},{\"marker\":{\"color\":\"black\",\"size\":0.1},\"name\":\"Brillouin zone\",\"showlegend\":false,\"x\":{\"dtype\":\"f8\",\"bdata\":\"Gi1EVPshCcAAAAAAAAAAABotRFT7IQlAAAAAAAAAAAAaLURU+yEJwA==\"},\"y\":{\"dtype\":\"f8\",\"bdata\":\"GC1EVPshGUAZLURU+yEZQBgtRFT7IRlAGS1EVPshGUAYLURU+yEZQA==\"},\"z\":{\"dtype\":\"f8\",\"bdata\":\"f9dF60WD0DwWLURU+yEJwAAAAAAAANC8Fi1EVPshCUB\\u002f10XrRYPQPA==\"},\"type\":\"scatter3d\"},{\"marker\":{\"color\":\"black\",\"size\":0.1},\"name\":\"Brillouin zone\",\"showlegend\":false,\"x\":{\"dtype\":\"f8\",\"bdata\":\"Gi1EVPshCcB\\u002f10XrRYPQPBYtRFT7IQlAAAAAAAAAAAAaLURU+yEJwA==\"},\"y\":{\"dtype\":\"f8\",\"bdata\":\"f9dF60WD0DwaLURU+yEJwAAAAAAAAAAAFi1EVPshCUB\\u002f10XrRYPQPA==\"},\"z\":{\"dtype\":\"f8\",\"bdata\":\"GC1EVPshGcAYLURU+yEZwBktRFT7IRnAGS1EVPshGcAYLURU+yEZwA==\"},\"type\":\"scatter3d\"},{\"marker\":{\"color\":\"black\",\"size\":0.1},\"name\":\"Brillouin zone\",\"showlegend\":false,\"x\":{\"dtype\":\"f8\",\"bdata\":\"GC1EVPshGUAZLURU+yEZQBgtRFT7IRlAGS1EVPshGUAYLURU+yEZQA==\"},\"y\":{\"dtype\":\"f8\",\"bdata\":\"Gi1EVPshCcAAAAAAAAAAABotRFT7IQlAAAAAAAAAAAAaLURU+yEJwA==\"},\"z\":{\"dtype\":\"f8\",\"bdata\":\"f9dF60WD0LwWLURU+yEJQAAAAAAAANC8Fi1EVPshCcB\\u002f10XrRYPQvA==\"},\"type\":\"scatter3d\"},{\"marker\":{\"color\":\"black\",\"size\":0.1},\"name\":\"Brillouin zone\",\"showlegend\":false,\"x\":{\"dtype\":\"f8\",\"bdata\":\"f9dF60WD0LwWLURU+yEJQAAAAAAAAAAAGi1EVPshCcB\\u002f10XrRYPQvA==\"},\"y\":{\"dtype\":\"f8\",\"bdata\":\"Gi1EVPshCcAAAAAAAAAAABYtRFT7IQlAf9dF60WD0DwaLURU+yEJwA==\"},\"z\":{\"dtype\":\"f8\",\"bdata\":\"GC1EVPshGUAZLURU+yEZQBktRFT7IRlAGC1EVPshGUAYLURU+yEZQA==\"},\"type\":\"scatter3d\"},{\"marker\":{\"color\":\"black\",\"size\":0.1},\"name\":\"Brillouin zone\",\"showlegend\":false,\"x\":{\"dtype\":\"f8\",\"bdata\":\"GC1EVPshGUAZLURU+yEZQBYtRFT7IQlAAAAAAAAAAAAAAAAAAAAAABotRFT7IQlAGC1EVPshGUA=\"},\"y\":{\"dtype\":\"f8\",\"bdata\":\"Gi1EVPshCUAAAAAAAAAAAAAAAAAAAAAAFi1EVPshCUAZLURU+yEZQBgtRFT7IRlAGi1EVPshCUA=\"},\"z\":{\"dtype\":\"f8\",\"bdata\":\"AAAAAAAA0LwWLURU+yEJQBktRFT7IRlAGS1EVPshGUAWLURU+yEJQAAAAAAAANC8AAAAAAAA0Lw=\"},\"type\":\"scatter3d\"},{\"marker\":{\"opacity\":0.9,\"size\":4},\"mode\":\"markers\",\"name\":\"\\u0393\",\"x\":[0.0],\"y\":[0.0],\"z\":[0.0],\"type\":\"scatter3d\"},{\"marker\":{\"opacity\":0.9,\"size\":4},\"mode\":\"markers\",\"name\":\"K\",\"x\":[4.71238898038469],\"y\":[4.71238898038469],\"z\":[0.0],\"type\":\"scatter3d\"},{\"marker\":{\"opacity\":0.9,\"size\":4},\"mode\":\"markers\",\"name\":\"L\",\"x\":[3.141592653589793],\"y\":[3.141592653589793],\"z\":[3.141592653589793],\"type\":\"scatter3d\"},{\"marker\":{\"opacity\":0.9,\"size\":4},\"mode\":\"markers\",\"name\":\"U\",\"x\":[1.5707963267948966],\"y\":[6.283185307179586],\"z\":[1.5707963267948966],\"type\":\"scatter3d\"},{\"marker\":{\"opacity\":0.9,\"size\":4},\"mode\":\"markers\",\"name\":\"W\",\"x\":[3.141592653589793],\"y\":[6.283185307179586],\"z\":[0.0],\"type\":\"scatter3d\"},{\"marker\":{\"opacity\":0.9,\"size\":4},\"mode\":\"markers\",\"name\":\"X\",\"x\":[0.0],\"y\":[6.283185307179586],\"z\":[0.0],\"type\":\"scatter3d\"},{\"marker\":{\"color\":\"#1a962b\",\"opacity\":0.75,\"size\":2},\"mode\":\"lines+markers\",\"name\":\"k-points\",\"x\":{\"dtype\":\"f8\",\"bdata\":\"GC1EVPshCUDSITN\\u002ffNkCQBgtRFT7Ifk\\u002fGC1EVPsh6T8AAAAAAAAAAODwnHYvG4Q84PCcdi8blDzg8Jx2LxuUvODwnHYvG6Q8AAAAAAAAAAA=\"},\"y\":{\"dtype\":\"f8\",\"bdata\":\"GC1EVPshCUDSITN\\u002ffNkCQBgtRFT7Ifk\\u002fGC1EVPsh6T8AAAAAAAAAAODwnHYvG\\u002fQ\\u002f4PCcdi8bBEBQaesxxygOQODwnHYvGxRAGC1EVPshGUA=\"},\"z\":{\"dtype\":\"f8\",\"bdata\":\"GC1EVPshCUDSITN\\u002ffNkCQBgtRFT7Ifk\\u002fGC1EVPsh6T8AAAAAAAAAAODwnHYvG4S84PCcdi8blLzg8Jx2LxuUPODwnHYvG6S8AAAAAAAAAAA=\"},\"type\":\"scatter3d\"}],                        {\"template\":{\"data\":{\"scatter\":[{\"type\":\"scatter\"}]}},\"scene\":{\"xaxis\":{\"title\":{\"text\":\"b\\u003csub\\u003e1\\u003c\\u002fsub\\u003e\"}},\"yaxis\":{\"title\":{\"text\":\"b\\u003csub\\u003e2\\u003c\\u002fsub\\u003e\"}},\"zaxis\":{\"title\":{\"text\":\"b\\u003csub\\u003e3\\u003c\\u002fsub\\u003e\"}},\"aspectmode\":\"data\"},\"legend\":{\"itemsizing\":\"constant\",\"title\":{\"text\":\"Selection\"}},\"hoverlabel\":{\"bgcolor\":\"black\"},\"width\":600,\"height\":600},                        {\"responsive\": true}                    ).then(function(){\n",
       "                            \n",
       "var gd = document.getElementById('5c7fc56e-6d47-448f-9d43-87251e7a65aa');\n",
       "var x = new MutationObserver(function (mutations, observer) {{\n",
       "        var display = window.getComputedStyle(gd).display;\n",
       "        if (!display || display === 'none') {{\n",
       "            console.log([gd, 'removed!']);\n",
       "            Plotly.purge(gd);\n",
       "            observer.disconnect();\n",
       "        }}\n",
       "}});\n",
       "\n",
       "// Listen for the removal of the full notebook cells\n",
       "var notebookContainer = gd.closest('#notebook-container');\n",
       "if (notebookContainer) {{\n",
       "    x.observe(notebookContainer, {childList: true});\n",
       "}}\n",
       "\n",
       "// Listen for the clearing of the current output cell\n",
       "var outputEl = gd.closest('.output');\n",
       "if (outputEl) {{\n",
       "    x.observe(outputEl, {childList: true});\n",
       "}}\n",
       "\n",
       "                        })                };            </script>        </div>"
      ]
     },
     "metadata": {},
     "output_type": "display_data"
    }
   ],
   "source": [
    "# Test connection of kpoints\n",
    "kpts.path = \"LGX\"\n",
    "kpts.Nk = 10\n",
    "kpts.build()\n",
    "view(kpts, connect=True)"
   ]
  },
  {
   "cell_type": "code",
   "execution_count": 7,
   "id": "3a2694f1-e034-4494-a1a6-df8e09dc4407",
   "metadata": {},
   "outputs": [
    {
     "data": {
      "text/html": [
       "<div>            <script src=\"https://cdnjs.cloudflare.com/ajax/libs/mathjax/2.7.5/MathJax.js?config=TeX-AMS-MML_SVG\"></script><script type=\"text/javascript\">if (window.MathJax && window.MathJax.Hub && window.MathJax.Hub.Config) {window.MathJax.Hub.Config({SVG: {font: \"STIX-Web\"}});}</script>                <script type=\"text/javascript\">window.PlotlyConfig = {MathJaxConfig: 'local'};</script>\n",
       "        <script charset=\"utf-8\" src=\"https://cdn.plot.ly/plotly-3.0.1.min.js\"></script>                <div id=\"98d20f40-9e81-4452-b0f2-130e929da9a5\" class=\"plotly-graph-div\" style=\"height:400px; width:600px;\"></div>            <script type=\"text/javascript\">                window.PLOTLYENV=window.PLOTLYENV || {};                                if (document.getElementById(\"98d20f40-9e81-4452-b0f2-130e929da9a5\")) {                    Plotly.newPlot(                        \"98d20f40-9e81-4452-b0f2-130e929da9a5\",                        [{\"marker\":{\"color\":\"black\",\"size\":0.1},\"name\":\"Brillouin zone\",\"showlegend\":false,\"x\":{\"dtype\":\"f8\",\"bdata\":\"Gi1EVPshCUB\\u002f10XrRYPQvBotRFT7IQnAf9dF60WD0DwaLURU+yEJQA==\"},\"y\":{\"dtype\":\"f8\",\"bdata\":\"GC1EVPshGcAYLURU+yEZwBgtRFT7IRnAGC1EVPshGcAYLURU+yEZwA==\"},\"z\":{\"dtype\":\"f8\",\"bdata\":\"f9dF60WD0LwaLURU+yEJQH\\u002fXRetFg9A8Gi1EVPshCcB\\u002f10XrRYPQvA==\"},\"type\":\"scatter3d\"},{\"marker\":{\"color\":\"black\",\"size\":0.1},\"name\":\"Brillouin zone\",\"showlegend\":false,\"x\":{\"dtype\":\"f8\",\"bdata\":\"GS1EVPshGcAYLURU+yEZwBotRFT7IQnAf9dF60WD0Lx\\u002f10XrRYPQvBotRFT7IQnAGS1EVPshGcA=\"},\"y\":{\"dtype\":\"f8\",\"bdata\":\"AAAAAAAAAAAaLURU+yEJwBgtRFT7IRnAGC1EVPshGcAaLURU+yEJwH\\u002fXRetFg9A8AAAAAAAAAAA=\"},\"z\":{\"dtype\":\"f8\",\"bdata\":\"Fi1EVPshCUB\\u002f10XrRYPQPH\\u002fXRetFg9A8Gi1EVPshCUAYLURU+yEZQBgtRFT7IRlAFi1EVPshCUA=\"},\"type\":\"scatter3d\"},{\"marker\":{\"color\":\"black\",\"size\":0.1},\"name\":\"Brillouin zone\",\"showlegend\":false,\"x\":{\"dtype\":\"f8\",\"bdata\":\"Gi1EVPshCUAYLURU+yEZQBktRFT7IRlAFi1EVPshCUB\\u002f10XrRYPQPH\\u002fXRetFg9A8Gi1EVPshCUA=\"},\"y\":{\"dtype\":\"f8\",\"bdata\":\"GC1EVPshGcAaLURU+yEJwAAAAAAAAAAAAAAAAAAAAAAaLURU+yEJwBgtRFT7IRnAGC1EVPshGcA=\"},\"z\":{\"dtype\":\"f8\",\"bdata\":\"f9dF60WD0Lx\\u002f10XrRYPQvBYtRFT7IQnAGS1EVPshGcAYLURU+yEZwBotRFT7IQnAf9dF60WD0Lw=\"},\"type\":\"scatter3d\"},{\"marker\":{\"color\":\"black\",\"size\":0.1},\"name\":\"Brillouin zone\",\"showlegend\":false,\"x\":{\"dtype\":\"f8\",\"bdata\":\"GS1EVPshGcAaLURU+yEJwAAAAAAAAAAAAAAAAAAAAAAaLURU+yEJwBktRFT7IRnAGS1EVPshGcA=\"},\"y\":{\"dtype\":\"f8\",\"bdata\":\"Fi1EVPshCUAYLURU+yEZQBktRFT7IRlAFi1EVPshCUB\\u002f10XrRYPQPAAAAAAAAAAAFi1EVPshCUA=\"},\"z\":{\"dtype\":\"f8\",\"bdata\":\"AAAAAAAAAAB\\u002f10XrRYPQPBYtRFT7IQlAGS1EVPshGUAYLURU+yEZQBYtRFT7IQlAAAAAAAAAAAA=\"},\"type\":\"scatter3d\"},{\"marker\":{\"color\":\"black\",\"size\":0.1},\"name\":\"Brillouin zone\",\"showlegend\":false,\"x\":{\"dtype\":\"f8\",\"bdata\":\"GC1EVPshGcAYLURU+yEZwBktRFT7IRnAGS1EVPshGcAYLURU+yEZwA==\"},\"y\":{\"dtype\":\"f8\",\"bdata\":\"Gi1EVPshCcB\\u002f10XrRYPQPBYtRFT7IQlAAAAAAAAAAAAaLURU+yEJwA==\"},\"z\":{\"dtype\":\"f8\",\"bdata\":\"f9dF60WD0DwaLURU+yEJwAAAAAAAAAAAFi1EVPshCUB\\u002f10XrRYPQPA==\"},\"type\":\"scatter3d\"},{\"marker\":{\"color\":\"black\",\"size\":0.1},\"name\":\"Brillouin zone\",\"showlegend\":false,\"x\":{\"dtype\":\"f8\",\"bdata\":\"GC1EVPshGcAaLURU+yEJwAAAAAAAAAAAAAAAAAAAAAAaLURU+yEJwBktRFT7IRnAGC1EVPshGcA=\"},\"y\":{\"dtype\":\"f8\",\"bdata\":\"f9dF60WD0Dx\\u002f10XrRYPQPBYtRFT7IQlAGS1EVPshGUAYLURU+yEZQBYtRFT7IQlAf9dF60WD0Dw=\"},\"z\":{\"dtype\":\"f8\",\"bdata\":\"Gi1EVPshCcAYLURU+yEZwBktRFT7IRnAFi1EVPshCcB\\u002f10XrRYPQPAAAAAAAAAAAGi1EVPshCcA=\"},\"type\":\"scatter3d\"},{\"marker\":{\"color\":\"black\",\"size\":0.1},\"name\":\"Brillouin zone\",\"showlegend\":false,\"x\":{\"dtype\":\"f8\",\"bdata\":\"GC1EVPshGcAaLURU+yEJwH\\u002fXRetFg9A8f9dF60WD0DwaLURU+yEJwBgtRFT7IRnAGC1EVPshGcA=\"},\"y\":{\"dtype\":\"f8\",\"bdata\":\"f9dF60WD0Dx\\u002f10XrRYPQPBotRFT7IQnAGC1EVPshGcAYLURU+yEZwBotRFT7IQnAf9dF60WD0Dw=\"},\"z\":{\"dtype\":\"f8\",\"bdata\":\"Gi1EVPshCcAYLURU+yEZwBgtRFT7IRnAGi1EVPshCcB\\u002f10XrRYPQPH\\u002fXRetFg9A8Gi1EVPshCcA=\"},\"type\":\"scatter3d\"},{\"marker\":{\"color\":\"black\",\"size\":0.1},\"name\":\"Brillouin zone\",\"showlegend\":false,\"x\":{\"dtype\":\"f8\",\"bdata\":\"GC1EVPshGUAaLURU+yEJQH\\u002fXRetFg9C8f9dF60WD0LwWLURU+yEJQBktRFT7IRlAGC1EVPshGUA=\"},\"y\":{\"dtype\":\"f8\",\"bdata\":\"Gi1EVPshCcAYLURU+yEZwBgtRFT7IRnAGi1EVPshCcAAAAAAAAAAAAAAAAAAAAAAGi1EVPshCcA=\"},\"z\":{\"dtype\":\"f8\",\"bdata\":\"f9dF60WD0Lx\\u002f10XrRYPQvBotRFT7IQlAGC1EVPshGUAZLURU+yEZQBYtRFT7IQlAf9dF60WD0Lw=\"},\"type\":\"scatter3d\"},{\"marker\":{\"color\":\"black\",\"size\":0.1},\"name\":\"Brillouin zone\",\"showlegend\":false,\"x\":{\"dtype\":\"f8\",\"bdata\":\"GS1EVPshGUAWLURU+yEJQAAAAAAAAAAAAAAAAAAAAAAaLURU+yEJQBgtRFT7IRlAGS1EVPshGUA=\"},\"y\":{\"dtype\":\"f8\",\"bdata\":\"AAAAAAAAAAAAAAAAAAAAABYtRFT7IQlAGS1EVPshGUAYLURU+yEZQBotRFT7IQlAAAAAAAAAAAA=\"},\"z\":{\"dtype\":\"f8\",\"bdata\":\"Fi1EVPshCcAZLURU+yEZwBktRFT7IRnAFi1EVPshCcAAAAAAAADQvAAAAAAAANC8Fi1EVPshCcA=\"},\"type\":\"scatter3d\"},{\"marker\":{\"color\":\"black\",\"size\":0.1},\"name\":\"Brillouin zone\",\"showlegend\":false,\"x\":{\"dtype\":\"f8\",\"bdata\":\"Gi1EVPshCcAAAAAAAAAAABotRFT7IQlAAAAAAAAAAAAaLURU+yEJwA==\"},\"y\":{\"dtype\":\"f8\",\"bdata\":\"GC1EVPshGUAZLURU+yEZQBgtRFT7IRlAGS1EVPshGUAYLURU+yEZQA==\"},\"z\":{\"dtype\":\"f8\",\"bdata\":\"f9dF60WD0DwWLURU+yEJwAAAAAAAANC8Fi1EVPshCUB\\u002f10XrRYPQPA==\"},\"type\":\"scatter3d\"},{\"marker\":{\"color\":\"black\",\"size\":0.1},\"name\":\"Brillouin zone\",\"showlegend\":false,\"x\":{\"dtype\":\"f8\",\"bdata\":\"Gi1EVPshCcB\\u002f10XrRYPQPBYtRFT7IQlAAAAAAAAAAAAaLURU+yEJwA==\"},\"y\":{\"dtype\":\"f8\",\"bdata\":\"f9dF60WD0DwaLURU+yEJwAAAAAAAAAAAFi1EVPshCUB\\u002f10XrRYPQPA==\"},\"z\":{\"dtype\":\"f8\",\"bdata\":\"GC1EVPshGcAYLURU+yEZwBktRFT7IRnAGS1EVPshGcAYLURU+yEZwA==\"},\"type\":\"scatter3d\"},{\"marker\":{\"color\":\"black\",\"size\":0.1},\"name\":\"Brillouin zone\",\"showlegend\":false,\"x\":{\"dtype\":\"f8\",\"bdata\":\"GC1EVPshGUAZLURU+yEZQBgtRFT7IRlAGS1EVPshGUAYLURU+yEZQA==\"},\"y\":{\"dtype\":\"f8\",\"bdata\":\"Gi1EVPshCcAAAAAAAAAAABotRFT7IQlAAAAAAAAAAAAaLURU+yEJwA==\"},\"z\":{\"dtype\":\"f8\",\"bdata\":\"f9dF60WD0LwWLURU+yEJQAAAAAAAANC8Fi1EVPshCcB\\u002f10XrRYPQvA==\"},\"type\":\"scatter3d\"},{\"marker\":{\"color\":\"black\",\"size\":0.1},\"name\":\"Brillouin zone\",\"showlegend\":false,\"x\":{\"dtype\":\"f8\",\"bdata\":\"f9dF60WD0LwWLURU+yEJQAAAAAAAAAAAGi1EVPshCcB\\u002f10XrRYPQvA==\"},\"y\":{\"dtype\":\"f8\",\"bdata\":\"Gi1EVPshCcAAAAAAAAAAABYtRFT7IQlAf9dF60WD0DwaLURU+yEJwA==\"},\"z\":{\"dtype\":\"f8\",\"bdata\":\"GC1EVPshGUAZLURU+yEZQBktRFT7IRlAGC1EVPshGUAYLURU+yEZQA==\"},\"type\":\"scatter3d\"},{\"marker\":{\"color\":\"black\",\"size\":0.1},\"name\":\"Brillouin zone\",\"showlegend\":false,\"x\":{\"dtype\":\"f8\",\"bdata\":\"GC1EVPshGUAZLURU+yEZQBYtRFT7IQlAAAAAAAAAAAAAAAAAAAAAABotRFT7IQlAGC1EVPshGUA=\"},\"y\":{\"dtype\":\"f8\",\"bdata\":\"Gi1EVPshCUAAAAAAAAAAAAAAAAAAAAAAFi1EVPshCUAZLURU+yEZQBgtRFT7IRlAGi1EVPshCUA=\"},\"z\":{\"dtype\":\"f8\",\"bdata\":\"AAAAAAAA0LwWLURU+yEJQBktRFT7IRlAGS1EVPshGUAWLURU+yEJQAAAAAAAANC8AAAAAAAA0Lw=\"},\"type\":\"scatter3d\"},{\"marker\":{\"opacity\":0.9,\"size\":4},\"mode\":\"markers\",\"name\":\"\\u0393\",\"x\":[0.0],\"y\":[0.0],\"z\":[0.0],\"type\":\"scatter3d\"},{\"marker\":{\"opacity\":0.9,\"size\":4},\"mode\":\"markers\",\"name\":\"K\",\"x\":[4.71238898038469],\"y\":[4.71238898038469],\"z\":[0.0],\"type\":\"scatter3d\"},{\"marker\":{\"opacity\":0.9,\"size\":4},\"mode\":\"markers\",\"name\":\"L\",\"x\":[3.141592653589793],\"y\":[3.141592653589793],\"z\":[3.141592653589793],\"type\":\"scatter3d\"},{\"marker\":{\"opacity\":0.9,\"size\":4},\"mode\":\"markers\",\"name\":\"U\",\"x\":[1.5707963267948966],\"y\":[6.283185307179586],\"z\":[1.5707963267948966],\"type\":\"scatter3d\"},{\"marker\":{\"opacity\":0.9,\"size\":4},\"mode\":\"markers\",\"name\":\"W\",\"x\":[3.141592653589793],\"y\":[6.283185307179586],\"z\":[0.0],\"type\":\"scatter3d\"},{\"marker\":{\"opacity\":0.9,\"size\":4},\"mode\":\"markers\",\"name\":\"X\",\"x\":[0.0],\"y\":[6.283185307179586],\"z\":[0.0],\"type\":\"scatter3d\"},{\"marker\":{\"color\":\"#1a962b\",\"opacity\":0.75,\"size\":2},\"mode\":\"markers\",\"name\":\"k-points\",\"x\":{\"dtype\":\"f8\",\"bdata\":\"GC1EVPshCUDSITN\\u002ffNkCQBgtRFT7Ifk\\u002fGC1EVPsh6T8AAAAAAAAAAODwnHYvG4Q84PCcdi8blDzg8Jx2LxuUvODwnHYvG6Q8AAAAAAAAAAA=\"},\"y\":{\"dtype\":\"f8\",\"bdata\":\"GC1EVPshCUDSITN\\u002ffNkCQBgtRFT7Ifk\\u002fGC1EVPsh6T8AAAAAAAAAAODwnHYvG\\u002fQ\\u002f4PCcdi8bBEBQaesxxygOQODwnHYvGxRAGC1EVPshGUA=\"},\"z\":{\"dtype\":\"f8\",\"bdata\":\"GC1EVPshCUDSITN\\u002ffNkCQBgtRFT7Ifk\\u002fGC1EVPsh6T8AAAAAAAAAAODwnHYvG4S84PCcdi8blLzg8Jx2LxuUPODwnHYvG6S8AAAAAAAAAAA=\"},\"type\":\"scatter3d\"}],                        {\"template\":{\"data\":{\"scatter\":[{\"type\":\"scatter\"}]}},\"scene\":{\"xaxis\":{\"title\":{\"text\":\"b\\u003csub\\u003e1\\u003c\\u002fsub\\u003e\"}},\"yaxis\":{\"title\":{\"text\":\"b\\u003csub\\u003e2\\u003c\\u002fsub\\u003e\"}},\"zaxis\":{\"title\":{\"text\":\"b\\u003csub\\u003e3\\u003c\\u002fsub\\u003e\"}},\"aspectmode\":\"data\"},\"legend\":{\"itemsizing\":\"constant\",\"title\":{\"text\":\"Selection\"}},\"hoverlabel\":{\"bgcolor\":\"black\"},\"width\":600,\"height\":400},                        {\"responsive\": true}                    ).then(function(){\n",
       "                            \n",
       "var gd = document.getElementById('98d20f40-9e81-4452-b0f2-130e929da9a5');\n",
       "var x = new MutationObserver(function (mutations, observer) {{\n",
       "        var display = window.getComputedStyle(gd).display;\n",
       "        if (!display || display === 'none') {{\n",
       "            console.log([gd, 'removed!']);\n",
       "            Plotly.purge(gd);\n",
       "            observer.disconnect();\n",
       "        }}\n",
       "}});\n",
       "\n",
       "// Listen for the removal of the full notebook cells\n",
       "var notebookContainer = gd.closest('#notebook-container');\n",
       "if (notebookContainer) {{\n",
       "    x.observe(notebookContainer, {childList: true});\n",
       "}}\n",
       "\n",
       "// Listen for the clearing of the current output cell\n",
       "var outputEl = gd.closest('.output');\n",
       "if (outputEl) {{\n",
       "    x.observe(outputEl, {childList: true});\n",
       "}}\n",
       "\n",
       "                        })                };            </script>        </div>"
      ]
     },
     "metadata": {},
     "output_type": "display_data"
    }
   ],
   "source": [
    "# Test viewer with custom sizes\n",
    "view(kpts, size=(600, 400))"
   ]
  },
  {
   "cell_type": "code",
   "execution_count": 8,
   "id": "7b87afe1-2dd2-4b39-8798-77262ced7e7d",
   "metadata": {},
   "outputs": [
    {
     "data": {
      "text/html": [
       "<div>            <script src=\"https://cdnjs.cloudflare.com/ajax/libs/mathjax/2.7.5/MathJax.js?config=TeX-AMS-MML_SVG\"></script><script type=\"text/javascript\">if (window.MathJax && window.MathJax.Hub && window.MathJax.Hub.Config) {window.MathJax.Hub.Config({SVG: {font: \"STIX-Web\"}});}</script>                <script type=\"text/javascript\">window.PlotlyConfig = {MathJaxConfig: 'local'};</script>\n",
       "        <script charset=\"utf-8\" src=\"https://cdn.plot.ly/plotly-3.0.1.min.js\"></script>                <div id=\"14bbf00e-c65b-4881-a244-16da505cc55f\" class=\"plotly-graph-div\" style=\"height:600px; width:600px;\"></div>            <script type=\"text/javascript\">                window.PLOTLYENV=window.PLOTLYENV || {};                                if (document.getElementById(\"14bbf00e-c65b-4881-a244-16da505cc55f\")) {                    Plotly.newPlot(                        \"14bbf00e-c65b-4881-a244-16da505cc55f\",                        [{\"marker\":{\"color\":\"black\",\"size\":0.1},\"name\":\"Brillouin zone\",\"showlegend\":false,\"x\":{\"dtype\":\"f8\",\"bdata\":\"Gi1EVPshCUB\\u002f10XrRYPQvBotRFT7IQnAf9dF60WD0DwaLURU+yEJQA==\"},\"y\":{\"dtype\":\"f8\",\"bdata\":\"GC1EVPshGcAYLURU+yEZwBgtRFT7IRnAGC1EVPshGcAYLURU+yEZwA==\"},\"z\":{\"dtype\":\"f8\",\"bdata\":\"f9dF60WD0LwaLURU+yEJQH\\u002fXRetFg9A8Gi1EVPshCcB\\u002f10XrRYPQvA==\"},\"type\":\"scatter3d\"},{\"marker\":{\"color\":\"black\",\"size\":0.1},\"name\":\"Brillouin zone\",\"showlegend\":false,\"x\":{\"dtype\":\"f8\",\"bdata\":\"GS1EVPshGcAYLURU+yEZwBotRFT7IQnAf9dF60WD0Lx\\u002f10XrRYPQvBotRFT7IQnAGS1EVPshGcA=\"},\"y\":{\"dtype\":\"f8\",\"bdata\":\"AAAAAAAAAAAaLURU+yEJwBgtRFT7IRnAGC1EVPshGcAaLURU+yEJwH\\u002fXRetFg9A8AAAAAAAAAAA=\"},\"z\":{\"dtype\":\"f8\",\"bdata\":\"Fi1EVPshCUB\\u002f10XrRYPQPH\\u002fXRetFg9A8Gi1EVPshCUAYLURU+yEZQBgtRFT7IRlAFi1EVPshCUA=\"},\"type\":\"scatter3d\"},{\"marker\":{\"color\":\"black\",\"size\":0.1},\"name\":\"Brillouin zone\",\"showlegend\":false,\"x\":{\"dtype\":\"f8\",\"bdata\":\"Gi1EVPshCUAYLURU+yEZQBktRFT7IRlAFi1EVPshCUB\\u002f10XrRYPQPH\\u002fXRetFg9A8Gi1EVPshCUA=\"},\"y\":{\"dtype\":\"f8\",\"bdata\":\"GC1EVPshGcAaLURU+yEJwAAAAAAAAAAAAAAAAAAAAAAaLURU+yEJwBgtRFT7IRnAGC1EVPshGcA=\"},\"z\":{\"dtype\":\"f8\",\"bdata\":\"f9dF60WD0Lx\\u002f10XrRYPQvBYtRFT7IQnAGS1EVPshGcAYLURU+yEZwBotRFT7IQnAf9dF60WD0Lw=\"},\"type\":\"scatter3d\"},{\"marker\":{\"color\":\"black\",\"size\":0.1},\"name\":\"Brillouin zone\",\"showlegend\":false,\"x\":{\"dtype\":\"f8\",\"bdata\":\"GS1EVPshGcAaLURU+yEJwAAAAAAAAAAAAAAAAAAAAAAaLURU+yEJwBktRFT7IRnAGS1EVPshGcA=\"},\"y\":{\"dtype\":\"f8\",\"bdata\":\"Fi1EVPshCUAYLURU+yEZQBktRFT7IRlAFi1EVPshCUB\\u002f10XrRYPQPAAAAAAAAAAAFi1EVPshCUA=\"},\"z\":{\"dtype\":\"f8\",\"bdata\":\"AAAAAAAAAAB\\u002f10XrRYPQPBYtRFT7IQlAGS1EVPshGUAYLURU+yEZQBYtRFT7IQlAAAAAAAAAAAA=\"},\"type\":\"scatter3d\"},{\"marker\":{\"color\":\"black\",\"size\":0.1},\"name\":\"Brillouin zone\",\"showlegend\":false,\"x\":{\"dtype\":\"f8\",\"bdata\":\"GC1EVPshGcAYLURU+yEZwBktRFT7IRnAGS1EVPshGcAYLURU+yEZwA==\"},\"y\":{\"dtype\":\"f8\",\"bdata\":\"Gi1EVPshCcB\\u002f10XrRYPQPBYtRFT7IQlAAAAAAAAAAAAaLURU+yEJwA==\"},\"z\":{\"dtype\":\"f8\",\"bdata\":\"f9dF60WD0DwaLURU+yEJwAAAAAAAAAAAFi1EVPshCUB\\u002f10XrRYPQPA==\"},\"type\":\"scatter3d\"},{\"marker\":{\"color\":\"black\",\"size\":0.1},\"name\":\"Brillouin zone\",\"showlegend\":false,\"x\":{\"dtype\":\"f8\",\"bdata\":\"GC1EVPshGcAaLURU+yEJwAAAAAAAAAAAAAAAAAAAAAAaLURU+yEJwBktRFT7IRnAGC1EVPshGcA=\"},\"y\":{\"dtype\":\"f8\",\"bdata\":\"f9dF60WD0Dx\\u002f10XrRYPQPBYtRFT7IQlAGS1EVPshGUAYLURU+yEZQBYtRFT7IQlAf9dF60WD0Dw=\"},\"z\":{\"dtype\":\"f8\",\"bdata\":\"Gi1EVPshCcAYLURU+yEZwBktRFT7IRnAFi1EVPshCcB\\u002f10XrRYPQPAAAAAAAAAAAGi1EVPshCcA=\"},\"type\":\"scatter3d\"},{\"marker\":{\"color\":\"black\",\"size\":0.1},\"name\":\"Brillouin zone\",\"showlegend\":false,\"x\":{\"dtype\":\"f8\",\"bdata\":\"GC1EVPshGcAaLURU+yEJwH\\u002fXRetFg9A8f9dF60WD0DwaLURU+yEJwBgtRFT7IRnAGC1EVPshGcA=\"},\"y\":{\"dtype\":\"f8\",\"bdata\":\"f9dF60WD0Dx\\u002f10XrRYPQPBotRFT7IQnAGC1EVPshGcAYLURU+yEZwBotRFT7IQnAf9dF60WD0Dw=\"},\"z\":{\"dtype\":\"f8\",\"bdata\":\"Gi1EVPshCcAYLURU+yEZwBgtRFT7IRnAGi1EVPshCcB\\u002f10XrRYPQPH\\u002fXRetFg9A8Gi1EVPshCcA=\"},\"type\":\"scatter3d\"},{\"marker\":{\"color\":\"black\",\"size\":0.1},\"name\":\"Brillouin zone\",\"showlegend\":false,\"x\":{\"dtype\":\"f8\",\"bdata\":\"GC1EVPshGUAaLURU+yEJQH\\u002fXRetFg9C8f9dF60WD0LwWLURU+yEJQBktRFT7IRlAGC1EVPshGUA=\"},\"y\":{\"dtype\":\"f8\",\"bdata\":\"Gi1EVPshCcAYLURU+yEZwBgtRFT7IRnAGi1EVPshCcAAAAAAAAAAAAAAAAAAAAAAGi1EVPshCcA=\"},\"z\":{\"dtype\":\"f8\",\"bdata\":\"f9dF60WD0Lx\\u002f10XrRYPQvBotRFT7IQlAGC1EVPshGUAZLURU+yEZQBYtRFT7IQlAf9dF60WD0Lw=\"},\"type\":\"scatter3d\"},{\"marker\":{\"color\":\"black\",\"size\":0.1},\"name\":\"Brillouin zone\",\"showlegend\":false,\"x\":{\"dtype\":\"f8\",\"bdata\":\"GS1EVPshGUAWLURU+yEJQAAAAAAAAAAAAAAAAAAAAAAaLURU+yEJQBgtRFT7IRlAGS1EVPshGUA=\"},\"y\":{\"dtype\":\"f8\",\"bdata\":\"AAAAAAAAAAAAAAAAAAAAABYtRFT7IQlAGS1EVPshGUAYLURU+yEZQBotRFT7IQlAAAAAAAAAAAA=\"},\"z\":{\"dtype\":\"f8\",\"bdata\":\"Fi1EVPshCcAZLURU+yEZwBktRFT7IRnAFi1EVPshCcAAAAAAAADQvAAAAAAAANC8Fi1EVPshCcA=\"},\"type\":\"scatter3d\"},{\"marker\":{\"color\":\"black\",\"size\":0.1},\"name\":\"Brillouin zone\",\"showlegend\":false,\"x\":{\"dtype\":\"f8\",\"bdata\":\"Gi1EVPshCcAAAAAAAAAAABotRFT7IQlAAAAAAAAAAAAaLURU+yEJwA==\"},\"y\":{\"dtype\":\"f8\",\"bdata\":\"GC1EVPshGUAZLURU+yEZQBgtRFT7IRlAGS1EVPshGUAYLURU+yEZQA==\"},\"z\":{\"dtype\":\"f8\",\"bdata\":\"f9dF60WD0DwWLURU+yEJwAAAAAAAANC8Fi1EVPshCUB\\u002f10XrRYPQPA==\"},\"type\":\"scatter3d\"},{\"marker\":{\"color\":\"black\",\"size\":0.1},\"name\":\"Brillouin zone\",\"showlegend\":false,\"x\":{\"dtype\":\"f8\",\"bdata\":\"Gi1EVPshCcB\\u002f10XrRYPQPBYtRFT7IQlAAAAAAAAAAAAaLURU+yEJwA==\"},\"y\":{\"dtype\":\"f8\",\"bdata\":\"f9dF60WD0DwaLURU+yEJwAAAAAAAAAAAFi1EVPshCUB\\u002f10XrRYPQPA==\"},\"z\":{\"dtype\":\"f8\",\"bdata\":\"GC1EVPshGcAYLURU+yEZwBktRFT7IRnAGS1EVPshGcAYLURU+yEZwA==\"},\"type\":\"scatter3d\"},{\"marker\":{\"color\":\"black\",\"size\":0.1},\"name\":\"Brillouin zone\",\"showlegend\":false,\"x\":{\"dtype\":\"f8\",\"bdata\":\"GC1EVPshGUAZLURU+yEZQBgtRFT7IRlAGS1EVPshGUAYLURU+yEZQA==\"},\"y\":{\"dtype\":\"f8\",\"bdata\":\"Gi1EVPshCcAAAAAAAAAAABotRFT7IQlAAAAAAAAAAAAaLURU+yEJwA==\"},\"z\":{\"dtype\":\"f8\",\"bdata\":\"f9dF60WD0LwWLURU+yEJQAAAAAAAANC8Fi1EVPshCcB\\u002f10XrRYPQvA==\"},\"type\":\"scatter3d\"},{\"marker\":{\"color\":\"black\",\"size\":0.1},\"name\":\"Brillouin zone\",\"showlegend\":false,\"x\":{\"dtype\":\"f8\",\"bdata\":\"f9dF60WD0LwWLURU+yEJQAAAAAAAAAAAGi1EVPshCcB\\u002f10XrRYPQvA==\"},\"y\":{\"dtype\":\"f8\",\"bdata\":\"Gi1EVPshCcAAAAAAAAAAABYtRFT7IQlAf9dF60WD0DwaLURU+yEJwA==\"},\"z\":{\"dtype\":\"f8\",\"bdata\":\"GC1EVPshGUAZLURU+yEZQBktRFT7IRlAGC1EVPshGUAYLURU+yEZQA==\"},\"type\":\"scatter3d\"},{\"marker\":{\"color\":\"black\",\"size\":0.1},\"name\":\"Brillouin zone\",\"showlegend\":false,\"x\":{\"dtype\":\"f8\",\"bdata\":\"GC1EVPshGUAZLURU+yEZQBYtRFT7IQlAAAAAAAAAAAAAAAAAAAAAABotRFT7IQlAGC1EVPshGUA=\"},\"y\":{\"dtype\":\"f8\",\"bdata\":\"Gi1EVPshCUAAAAAAAAAAAAAAAAAAAAAAFi1EVPshCUAZLURU+yEZQBgtRFT7IRlAGi1EVPshCUA=\"},\"z\":{\"dtype\":\"f8\",\"bdata\":\"AAAAAAAA0LwWLURU+yEJQBktRFT7IRlAGS1EVPshGUAWLURU+yEJQAAAAAAAANC8AAAAAAAA0Lw=\"},\"type\":\"scatter3d\"},{\"marker\":{\"opacity\":0.9,\"size\":4},\"mode\":\"markers\",\"name\":\"\\u0393\",\"x\":[0.0],\"y\":[0.0],\"z\":[0.0],\"type\":\"scatter3d\"},{\"marker\":{\"opacity\":0.9,\"size\":4},\"mode\":\"markers\",\"name\":\"K\",\"x\":[4.71238898038469],\"y\":[4.71238898038469],\"z\":[0.0],\"type\":\"scatter3d\"},{\"marker\":{\"opacity\":0.9,\"size\":4},\"mode\":\"markers\",\"name\":\"L\",\"x\":[3.141592653589793],\"y\":[3.141592653589793],\"z\":[3.141592653589793],\"type\":\"scatter3d\"},{\"marker\":{\"opacity\":0.9,\"size\":4},\"mode\":\"markers\",\"name\":\"U\",\"x\":[1.5707963267948966],\"y\":[6.283185307179586],\"z\":[1.5707963267948966],\"type\":\"scatter3d\"},{\"marker\":{\"opacity\":0.9,\"size\":4},\"mode\":\"markers\",\"name\":\"W\",\"x\":[3.141592653589793],\"y\":[6.283185307179586],\"z\":[0.0],\"type\":\"scatter3d\"},{\"marker\":{\"opacity\":0.9,\"size\":4},\"mode\":\"markers\",\"name\":\"X\",\"x\":[0.0],\"y\":[6.283185307179586],\"z\":[0.0],\"type\":\"scatter3d\"},{\"marker\":{\"color\":\"#1a962b\",\"opacity\":0.75,\"size\":2},\"mode\":\"markers\",\"name\":\"k-points\",\"x\":{\"dtype\":\"f8\",\"bdata\":\"GC1EVPshCUDSITN\\u002ffNkCQBgtRFT7Ifk\\u002fGC1EVPsh6T8AAAAAAAAAAODwnHYvG4Q84PCcdi8blDzg8Jx2LxuUvODwnHYvG6Q8AAAAAAAAAAA=\"},\"y\":{\"dtype\":\"f8\",\"bdata\":\"GC1EVPshCUDSITN\\u002ffNkCQBgtRFT7Ifk\\u002fGC1EVPsh6T8AAAAAAAAAAODwnHYvG\\u002fQ\\u002f4PCcdi8bBEBQaesxxygOQODwnHYvGxRAGC1EVPshGUA=\"},\"z\":{\"dtype\":\"f8\",\"bdata\":\"GC1EVPshCUDSITN\\u002ffNkCQBgtRFT7Ifk\\u002fGC1EVPsh6T8AAAAAAAAAAODwnHYvG4S84PCcdi8blLzg8Jx2LxuUPODwnHYvG6S8AAAAAAAAAAA=\"},\"type\":\"scatter3d\"}],                        {\"template\":{\"data\":{\"scatter\":[{\"type\":\"scatter\"}]}},\"scene\":{\"xaxis\":{\"title\":{\"text\":\"b\\u003csub\\u003e1\\u003c\\u002fsub\\u003e\"}},\"yaxis\":{\"title\":{\"text\":\"b\\u003csub\\u003e2\\u003c\\u002fsub\\u003e\"}},\"zaxis\":{\"title\":{\"text\":\"b\\u003csub\\u003e3\\u003c\\u002fsub\\u003e\"}},\"aspectmode\":\"data\"},\"legend\":{\"itemsizing\":\"constant\",\"title\":{\"text\":\"Selection\"}},\"hoverlabel\":{\"bgcolor\":\"black\"},\"width\":600,\"height\":600},                        {\"responsive\": true}                    ).then(function(){\n",
       "                            \n",
       "var gd = document.getElementById('14bbf00e-c65b-4881-a244-16da505cc55f');\n",
       "var x = new MutationObserver(function (mutations, observer) {{\n",
       "        var display = window.getComputedStyle(gd).display;\n",
       "        if (!display || display === 'none') {{\n",
       "            console.log([gd, 'removed!']);\n",
       "            Plotly.purge(gd);\n",
       "            observer.disconnect();\n",
       "        }}\n",
       "}});\n",
       "\n",
       "// Listen for the removal of the full notebook cells\n",
       "var notebookContainer = gd.closest('#notebook-container');\n",
       "if (notebookContainer) {{\n",
       "    x.observe(notebookContainer, {childList: true});\n",
       "}}\n",
       "\n",
       "// Listen for the clearing of the current output cell\n",
       "var outputEl = gd.closest('.output');\n",
       "if (outputEl) {{\n",
       "    x.observe(outputEl, {childList: true});\n",
       "}}\n",
       "\n",
       "                        })                };            </script>        </div>"
      ]
     },
     "metadata": {},
     "output_type": "display_data"
    }
   ],
   "source": [
    "# Test the view method\n",
    "kpts.view()"
   ]
  }
 ],
 "metadata": {
  "kernelspec": {
   "display_name": "Python 3 (ipykernel)",
   "language": "python",
   "name": "python3"
  },
  "language_info": {
   "codemirror_mode": {
    "name": "ipython",
    "version": 3
   },
   "file_extension": ".py",
   "mimetype": "text/x-python",
   "name": "python",
   "nbconvert_exporter": "python",
   "pygments_lexer": "ipython3",
   "version": "3.12.3"
  }
 },
 "nbformat": 4,
 "nbformat_minor": 5
}
