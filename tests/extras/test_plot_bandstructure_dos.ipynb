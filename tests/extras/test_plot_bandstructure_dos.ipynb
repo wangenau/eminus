{
 "cells": [
  {
   "cell_type": "code",
   "execution_count": 1,
   "id": "28ad3c26-7111-4052-9add-12db5730e24f",
   "metadata": {},
   "outputs": [],
   "source": [
    "# SPDX-FileCopyrightText: 2024 The eminus developers\n",
    "# SPDX-License-Identifier: Apache-2.0\n",
    "import os\n",
    "\n",
    "import plotly.io as pio\n",
    "\n",
    "from eminus import Cell, SCF\n",
    "from eminus.extras import plot_bandstructure, plot_dos\n",
    "\n",
    "try:\n",
    "    file_path = os.environ[\"PYTEST_TEST_DIR\"]\n",
    "except KeyError:\n",
    "    file_path = \".\"\n",
    "pio.renderers.default = \"notebook_connected\"  # Keep the notebook small for the source distribution"
   ]
  },
  {
   "cell_type": "code",
   "execution_count": 2,
   "id": "e61ccf32-46e9-4bf0-989e-eabea55cfb02",
   "metadata": {},
   "outputs": [
    {
     "name": "stdout",
     "output_type": "stream",
     "text": [
      "WARNING: Reset previously set fillings.\n",
      "Start auto minimization...\n",
      "Method  Iteration  Etot [Eh]    dEtot [Eh]   |Gradient|             \n",
      "pccg           1   -1.452887    \n",
      "pccg           2   -4.882175    -3.4293e+00  [+4.89e+01 +4.17e+01]  \n",
      "pccg           3   -6.225577    -1.3434e+00  [+6.44e+00 +6.05e+00]  \n",
      "pccg           4   -6.768184    -5.4261e-01  [+1.22e+00 +1.12e+00]  \n",
      "pccg           5   -6.988449    -2.2026e-01  [+3.52e-01 +2.84e-01]  \n",
      "pccg           6   -7.084195    -9.5746e-02  [+1.02e-01 +8.99e-02]  \n",
      "pccg           7   -7.134544    -5.0349e-02  [+3.79e-02 +3.83e-02]  \n",
      "pccg           8   -7.173182    -3.8638e-02  [+2.35e-02 +2.53e-02]  \n",
      "pccg           9   -7.197571    -2.4389e-02  [+1.80e-02 +1.41e-02]  \n",
      "pccg          10   -7.210342    -1.2771e-02  [+9.29e-03 +6.84e-03]  \n",
      "pccg          11   -7.216227    -5.8854e-03  [+4.74e-03 +2.85e-03]  \n",
      "pccg          12   -7.219132    -2.9047e-03  [+2.05e-03 +1.63e-03]  \n",
      "pccg          13   -7.220479    -1.3467e-03  [+8.99e-04 +8.87e-04]  \n",
      "pccg          14   -7.221198    -7.1920e-04  [+3.99e-04 +4.83e-04]  \n",
      "SCF converged after 14 iterations.\n",
      "Total SCF time: 0.16357 s\n",
      "<S^2> = 1.125568e-01\n",
      "Etot = -7.221197854 Eh\n",
      "Minimize occupied band energies...\n",
      "Start auto minimization...\n",
      "Method  Iteration  Etot [Eh]    dEtot [Eh]   |Gradient|             \n",
      "pccg           1   +10.612108   \n",
      "pccg           2   +4.424191    -6.1879e+00  [+3.72e+01 +3.55e+01]  \n",
      "pccg           3   +2.643777    -1.7804e+00  [+9.13e+00 +8.81e+00]  \n",
      "pccg           4   +1.840862    -8.0292e-01  [+3.15e+00 +3.15e+00]  \n",
      "pccg           5   +1.484692    -3.5617e-01  [+1.10e+00 +1.15e+00]  \n",
      "pccg           6   +1.307973    -1.7672e-01  [+4.66e-01 +4.55e-01]  \n",
      "pccg           7   +1.206591    -1.0138e-01  [+2.66e-01 +2.42e-01]  \n",
      "pccg           8   +1.134770    -7.1822e-02  [+1.57e-01 +1.60e-01]  \n",
      "pccg           9   +1.080557    -5.4212e-02  [+1.04e-01 +1.32e-01]  \n",
      "pccg          10   +1.044869    -3.5689e-02  [+6.75e-02 +9.55e-02]  \n",
      "pccg          11   +1.026310    -1.8559e-02  [+7.06e-02 +5.22e-02]  \n",
      "pccg          12   +1.013293    -1.3017e-02  [+5.15e-02 +2.62e-02]  \n",
      "pccg          13   +1.005407    -7.8855e-03  [+4.31e-02 +1.43e-02]  \n",
      "pccg          14   +0.999001    -6.4060e-03  [+4.03e-02 +8.34e-03]  \n",
      "pccg          15   +0.993508    -5.4931e-03  [+2.91e-02 +4.78e-03]  \n",
      "pccg          16   +0.989938    -3.5707e-03  [+1.91e-02 +2.46e-03]  \n",
      "pccg          17   +0.987426    -2.5119e-03  [+1.42e-02 +1.38e-03]  \n",
      "pccg          18   +0.986188    -1.2375e-03  [+7.11e-03 +7.20e-04]  \n",
      "pccg          19   +0.985574    -6.1377e-04  [+4.02e-03 +3.67e-04]  \n",
      "Band minimization converged after 19 iterations.\n",
      "Total band minimization time: 2.42628 s\n",
      "Minimize unoccupied band energies...\n",
      "Start auto minimization...\n",
      "Method  Iteration  Etot [Eh]    dEtot [Eh]   |Gradient|             \n",
      "pccg           1   +8.575679    \n",
      "pccg           2   +5.414180    -3.1615e+00  [+2.68e+00 +1.95e+00]  \n",
      "pccg           3   +4.318355    -1.0958e+00  [+3.54e-01 +2.34e-01]  \n",
      "pccg           4   +3.894325    -4.2403e-01  [+6.42e-02 +4.30e-02]  \n",
      "pccg           5   +3.695730    -1.9859e-01  [+1.88e-02 +1.27e-02]  \n",
      "pccg           6   +3.587863    -1.0787e-01  [+7.91e-03 +5.62e-03]  \n",
      "pccg           7   +3.527803    -6.0061e-02  [+3.84e-03 +2.82e-03]  \n",
      "pccg           8   +3.492714    -3.5089e-02  [+1.74e-03 +1.51e-03]  \n",
      "pccg           9   +3.473139    -1.9575e-02  [+8.07e-04 +8.80e-04]  \n",
      "pccg          10   +3.461514    -1.1626e-02  [+4.97e-04 +4.65e-04]  \n",
      "pccg          11   +3.453340    -8.1739e-03  [+3.86e-04 +2.84e-04]  \n",
      "pccg          12   +3.447224    -6.1153e-03  [+2.21e-04 +2.59e-04]  \n",
      "pccg          13   +3.442930    -4.2944e-03  [+1.35e-04 +1.50e-04]  \n",
      "pccg          14   +3.439925    -3.0053e-03  [+8.55e-05 +1.11e-04]  \n",
      "pccg          15   +3.437862    -2.0632e-03  [+4.96e-05 +6.95e-05]  \n",
      "pccg          16   +3.436457    -1.4044e-03  [+3.40e-05 +4.37e-05]  \n",
      "pccg          17   +3.435395    -1.0618e-03  [+1.95e-05 +3.44e-05]  \n",
      "pccg          18   +3.434450    -9.4502e-04  [+1.18e-05 +3.03e-05]  \n",
      "Band minimization converged after 18 iterations.\n",
      "Total band minimization time: 1.32839 s\n"
     ]
    }
   ],
   "source": [
    "cell = Cell(\"Si\", \"diamond\", 5, 10, bands=8)\n",
    "cell.unrestricted = True\n",
    "scf = SCF(cell, etol=1e-3)\n",
    "scf.run()\n",
    "scf.kpts.path = \"LGX\"\n",
    "scf.kpts.Nk = 10\n",
    "scf.converge_bands();"
   ]
  },
  {
   "cell_type": "code",
   "execution_count": 3,
   "id": "9a24225e-f1d5-4407-b166-f047e29f4550",
   "metadata": {},
   "outputs": [
    {
     "data": {
      "text/html": [
       "        <script type=\"text/javascript\">\n",
       "        window.PlotlyConfig = {MathJaxConfig: 'local'};\n",
       "        if (window.MathJax && window.MathJax.Hub && window.MathJax.Hub.Config) {window.MathJax.Hub.Config({SVG: {font: \"STIX-Web\"}});}\n",
       "        </script>\n",
       "        <script type=\"module\">import \"https://cdn.plot.ly/plotly-3.0.1.min\"</script>\n",
       "        "
      ]
     },
     "metadata": {},
     "output_type": "display_data"
    },
    {
     "data": {
      "text/html": [
       "<div>            <script src=\"https://cdnjs.cloudflare.com/ajax/libs/mathjax/2.7.5/MathJax.js?config=TeX-AMS-MML_SVG\"></script><script type=\"text/javascript\">if (window.MathJax && window.MathJax.Hub && window.MathJax.Hub.Config) {window.MathJax.Hub.Config({SVG: {font: \"STIX-Web\"}});}</script>                <script type=\"text/javascript\">window.PlotlyConfig = {MathJaxConfig: 'local'};</script>\n",
       "        <script charset=\"utf-8\" src=\"https://cdn.plot.ly/plotly-3.0.1.min.js\"></script>                <div id=\"6c5e2a43-d663-44f0-9edd-036fc706336d\" class=\"plotly-graph-div\" style=\"height:600px; width:800px;\"></div>            <script type=\"text/javascript\">                window.PLOTLYENV=window.PLOTLYENV || {};                                if (document.getElementById(\"6c5e2a43-d663-44f0-9edd-036fc706336d\")) {                    Plotly.newPlot(                        \"6c5e2a43-d663-44f0-9edd-036fc706336d\",                        [{\"mode\":\"lines+markers\",\"name\":\"Band 1\",\"x\":{\"dtype\":\"f8\",\"bdata\":\"AAAAAAAAAAAXj6jjl2nBPxePqOOXadE\\u002fotZ81WMe2j8Xj6jjl2nhP95YLsgHb+U\\u002fpCK0rHd06T9q7DmR53ntPxjb37qrv\\u002fA\\u002f+78irWPC8j8=\"},\"y\":{\"dtype\":\"f8\",\"bdata\":\"++jV7Cy2I8DSlNwZfk4lwL3L+QUCSCfADqrkhWOfKMCJELV3RRYpwLoVLvoAryjASyzAbu52J8BXRtix0polwIQnJqSxDCPAD2zLn\\u002fDBH8A=\"},\"type\":\"scatter\"},{\"mode\":\"lines+markers\",\"name\":\"Band 2\",\"x\":{\"dtype\":\"f8\",\"bdata\":\"AAAAAAAAAAAXj6jjl2nBPxePqOOXadE\\u002fotZ81WMe2j8Xj6jjl2nhP95YLsgHb+U\\u002fpCK0rHd06T9q7DmR53ntPxjb37qrv\\u002fA\\u002f+78irWPC8j8=\"},\"y\":{\"dtype\":\"f8\",\"bdata\":\"DXQ\\u002fmvyaHsAe0dh5980ZwKbuqMxxvxDAJI5EKbo\\u002f+r8ArWHE1+u0P8iUhJLTX+e\\u002fWMzOlAwQA8CMwv4UIwARwN6bO5B4lxjAwmkKSdK0H8A=\"},\"type\":\"scatter\"},{\"mode\":\"lines+markers\",\"name\":\"Band 3\",\"x\":{\"dtype\":\"f8\",\"bdata\":\"AAAAAAAAAAAXj6jjl2nBPxePqOOXadE\\u002fotZ81WMe2j8Xj6jjl2nhP95YLsgHb+U\\u002fpCK0rHd06T9q7DmR53ntPxjb37qrv\\u002fA\\u002f+78irWPC8j8=\"},\"y\":{\"dtype\":\"f8\",\"bdata\":\"9NunOIc49b80KUO5hlTzvzAKs+WMGOu\\u002fcEOItF0i0r+AgsFMQRW3P6DmdHwoSua\\u002f1L1SMxZ4\\u002fL90cHMZrgYFwNxpLz5LOQnAJOyeV12XCsA=\"},\"type\":\"scatter\"},{\"mode\":\"lines+markers\",\"name\":\"Band 4\",\"x\":{\"dtype\":\"f8\",\"bdata\":\"AAAAAAAAAAAXj6jjl2nBPxePqOOXadE\\u002fotZ81WMe2j8Xj6jjl2nhP95YLsgHb+U\\u002fpCK0rHd06T9q7DmR53ntPxjb37qrv\\u002fA\\u002f+78irWPC8j8=\"},\"y\":{\"dtype\":\"f8\",\"bdata\":\"hCbcsvEJ9b8IbTcprSTzv\\u002fCVtetrs+q\\u002fkP0o6TYr0L+AXebnZUG5P\\u002fji6d2CZuW\\u002fhJNIj\\u002fD0+7++7F8BasMEwPZNREZj9QjAsNfqlSpMCsA=\"},\"type\":\"scatter\"},{\"line\":{\"dash\":\"dash\"},\"mode\":\"lines+markers\",\"name\":\"Unocc. band 1\",\"x\":{\"dtype\":\"f8\",\"bdata\":\"AAAAAAAAAAAXj6jjl2nBPxePqOOXadE\\u002fotZ81WMe2j8Xj6jjl2nhP95YLsgHb+U\\u002fpCK0rHd06T9q7DmR53ntPxjb37qrv\\u002fA\\u002f+78irWPC8j8=\"},\"y\":{\"dtype\":\"f8\",\"bdata\":\"XItp11Bh\\u002fz8cWPuIfUX+P5p3WgZSagFA6kfqO0HTA0DW81QCfrcBQNSsOIy0f\\u002fw\\u002fGFcvyYhE7j8w2JQCjqLQP8Bd5udlQbm\\u002fgJR+tQgppb8=\"},\"type\":\"scatter\"},{\"line\":{\"dash\":\"dash\"},\"mode\":\"lines+markers\",\"name\":\"Unocc. band 2\",\"x\":{\"dtype\":\"f8\",\"bdata\":\"AAAAAAAAAAAXj6jjl2nBPxePqOOXadE\\u002fotZ81WMe2j8Xj6jjl2nhP95YLsgHb+U\\u002fpCK0rHd06T9q7DmR53ntPxjb37qrv\\u002fA\\u002f+78irWPC8j8=\"},\"y\":{\"dtype\":\"f8\",\"bdata\":\"9sZQRy+uBkD62zjFTwwIQLLb5nfv7glAKpJrzEDzBUA+aSg0l8sBQD6WaA9IyglAln3mWZosC0CU1E70nFz6P\\u002fjZx2zNK+E\\u002fACg5njkrjD8=\"},\"type\":\"scatter\"},{\"line\":{\"dash\":\"dash\"},\"mode\":\"lines+markers\",\"name\":\"Unocc. band 3\",\"x\":{\"dtype\":\"f8\",\"bdata\":\"AAAAAAAAAAAXj6jjl2nBPxePqOOXadE\\u002fotZ81WMe2j8Xj6jjl2nhP95YLsgHb+U\\u002fpCK0rHd06T9q7DmR53ntPxjb37qrv\\u002fA\\u002f+78irWPC8j8=\"},\"y\":{\"dtype\":\"f8\",\"bdata\":\"Frq1+w3CBkACqj\\u002f3ZSEIQGIs+8VpBQpAWgSzEfz\\u002fBUDSs9ifFdQBQMIIRVvT+glALXT1eq7nE0AR6wEG1qQbQCRGCXTyxiFAQtcC4LARJUA=\"},\"type\":\"scatter\"},{\"line\":{\"dash\":\"dash\"},\"mode\":\"lines+markers\",\"name\":\"Unocc. band 4\",\"x\":{\"dtype\":\"f8\",\"bdata\":\"AAAAAAAAAAAXj6jjl2nBPxePqOOXadE\\u002fotZ81WMe2j8Xj6jjl2nhP95YLsgHb+U\\u002fpCK0rHd06T9q7DmR53ntPxjb37qrv\\u002fA\\u002f+78irWPC8j8=\"},\"y\":{\"dtype\":\"f8\",\"bdata\":\"A4yZiay2GkD51BxgEbsbQLMmw3Zh6htAreAH9A8yFkCplQ44dkESQIMh\\u002fdyWARRAw4o0x40AFEBrc1UwKgEcQFyLKJ+uzyFA9OKN3xQaJUA=\"},\"type\":\"scatter\"}],                        {\"template\":{\"data\":{\"scatter\":[{\"type\":\"scatter\"}]}},\"font\":{\"size\":20},\"xaxis\":{\"zeroline\":false,\"showline\":true,\"mirror\":true,\"ticks\":\"outside\",\"tickmode\":\"array\",\"tickvals\":{\"dtype\":\"f8\",\"bdata\":\"AAAAAAAAAAAXj6jjl2nhP\\u002fu\\u002fIq1jwvI\\u002f\"},\"ticktext\":[\"L\",\"\\u0393\",\"X\"],\"gridcolor\":\"grey\",\"gridwidth\":2,\"range\":[0,1.1724583399882238],\"title\":{\"text\":\"k-path\"}},\"yaxis\":{\"zeroline\":false,\"showline\":true,\"mirror\":true,\"ticks\":\"outside\",\"showgrid\":false,\"title\":{\"text\":\"E - E\\u003csub\\u003eF\\u003c\\u002fsub\\u003e [eV]\"}},\"hoverlabel\":{\"bgcolor\":\"black\"},\"width\":800,\"height\":600,\"showlegend\":false},                        {\"responsive\": true}                    ).then(function(){\n",
       "                            \n",
       "var gd = document.getElementById('6c5e2a43-d663-44f0-9edd-036fc706336d');\n",
       "var x = new MutationObserver(function (mutations, observer) {{\n",
       "        var display = window.getComputedStyle(gd).display;\n",
       "        if (!display || display === 'none') {{\n",
       "            console.log([gd, 'removed!']);\n",
       "            Plotly.purge(gd);\n",
       "            observer.disconnect();\n",
       "        }}\n",
       "}});\n",
       "\n",
       "// Listen for the removal of the full notebook cells\n",
       "var notebookContainer = gd.closest('#notebook-container');\n",
       "if (notebookContainer) {{\n",
       "    x.observe(notebookContainer, {childList: true});\n",
       "}}\n",
       "\n",
       "// Listen for the clearing of the current output cell\n",
       "var outputEl = gd.closest('.output');\n",
       "if (outputEl) {{\n",
       "    x.observe(outputEl, {childList: true});\n",
       "}}\n",
       "\n",
       "                        })                };            </script>        </div>"
      ]
     },
     "metadata": {},
     "output_type": "display_data"
    }
   ],
   "source": [
    "# Test normal plotting\n",
    "plot_bandstructure(scf)"
   ]
  },
  {
   "cell_type": "code",
   "execution_count": 4,
   "id": "b2e7862b-f556-4ace-a4ed-539163b8608e",
   "metadata": {},
   "outputs": [
    {
     "data": {
      "text/html": [
       "<div>            <script src=\"https://cdnjs.cloudflare.com/ajax/libs/mathjax/2.7.5/MathJax.js?config=TeX-AMS-MML_SVG\"></script><script type=\"text/javascript\">if (window.MathJax && window.MathJax.Hub && window.MathJax.Hub.Config) {window.MathJax.Hub.Config({SVG: {font: \"STIX-Web\"}});}</script>                <script type=\"text/javascript\">window.PlotlyConfig = {MathJaxConfig: 'local'};</script>\n",
       "        <script charset=\"utf-8\" src=\"https://cdn.plot.ly/plotly-3.0.1.min.js\"></script>                <div id=\"4a66bff7-b3ea-42e4-a074-b40278e97224\" class=\"plotly-graph-div\" style=\"height:600px; width:800px;\"></div>            <script type=\"text/javascript\">                window.PLOTLYENV=window.PLOTLYENV || {};                                if (document.getElementById(\"4a66bff7-b3ea-42e4-a074-b40278e97224\")) {                    Plotly.newPlot(                        \"4a66bff7-b3ea-42e4-a074-b40278e97224\",                        [{\"marker\":{\"color\":\"blue\"},\"mode\":\"lines+markers\",\"name\":\"Spin 1\",\"x\":{\"dtype\":\"f8\",\"bdata\":\"iRC1d0UWKsCo16IXRggqwMiekLdG+inA6GV+V0fsKcAILWz3R94pwCj0WZdI0CnAR7tHN0nCKcBmgjXXSbQpwIZJI3dKpinAphARF0uYKcDG1\\u002f62S4opwOae7FZMfCnABWba9kxuKcAkLciWTWApwET0tTZOUinAZLuj1k5EKcCEgpF2TzYpwKRJfxZQKCnAwxBttlAaKcDi11pWUQwpwAKfSPZR\\u002fijAImY2llLwKMBCLSQ2U+IowGL0EdZT1CjAgbv\\u002fdVTGKMChgu0VVbgowMBJ27VVqijA4BDJVVacKMAA2Lb1Vo4owCCfpJVXgCjAP2aSNVhyKMBfLYDVWGQowH70bXVZVijAnrtbFVpIKMC+gkm1WjoowN5JN1VbLCjA\\u002fRAl9VseKMAd2BKVXBAowDyfADVdAijAXGbu1F30J8B8Ldx0XuYnwJz0yRRf2CfAvLu3tF\\u002fKJ8DbgqVUYLwnwPpJk\\u002fRgrifAGhGBlGGgJ8A62G40YpInwFqfXNRihCfAeWZKdGN2J8CZLTgUZGgnwLj0JbRkWifA2LsTVGVMJ8D4ggH0ZT4nwBhK75NmMCfANxHdM2ciJ8BX2MrTZxQnwHafuHNoBifAlmamE2n4JsC2LZSzaeomwNb0gVNq3CbA9btv82rOJsAVg12Ta8AmwDRKSzNssibAVBE502ykJsB02CZzbZYmwJSfFBNuiCbAtGYCs256JsDTLfBSb2wmwPP03fJvXibAErzLknBQJsAyg7kycUImwFJKp9JxNCbAchGVcnImJsCR2IIScxgmwLGfcLJzCibA0GZeUnT8JcDwLUzydO4lwBD1OZJ14CXAMLwnMnbSJcBPgxXSdsQlwG9KA3J3tiXAjhHxEXioJcCu2N6xeJolwM6fzFF5jCXA7ma68Xl+JcANLqiRenAlwC31lTF7YiXATLyD0XtUJcBsg3FxfEYlwIxKXxF9OCXArBFNsX0qJcDL2DpRfhwlwOufKPF+DiXACmcWkX8AJcAqLgQxgPIkwEr18dCA5CTAarzfcIHWJMCJg80QgsgkwKlKu7CCuiTAyBGpUIOsJMDo2Jbwg54kwAighJCEkCTAKGdyMIWCJMBHLmDQhXQkwGf1TXCGZiTAhrw7EIdYJMCmgymwh0okwMZKF1CIPCTA5hEF8IguJMAF2fKPiSAkwCWg4C+KEiTARGfOz4oEJMBkLrxvi\\u002fYjwIT1qQ+M6CPApLyXr4zaI8DDg4VPjcwjwONKc++NviPAAhJhj46wI8Ai2U4vj6IjwEKgPM+PlCPAYmcqb5CGI8CBLhgPkXgjwKH1Ba+RaiPAwbzzTpJcI8Dgg+Hukk4jwABLz46TQCPAIBK9LpQyI8A\\u002f2arOlCQjwF+gmG6VFiPAf2eGDpYII8CeLnSulvoiwL71YU6X7CLA3rxP7pfeIsD9gz2OmNAiwB1LKy6ZwiLAPRIZzpm0IsBc2QZumqYiwHyg9A2bmCLAnGfirZuKIsC8LtBNnHwiwNv1ve2cbiLA+7yrjZ1gIsAahJktnlIiwDpLh82eRCLAWhJ1bZ82IsB62WINoCgiwJmgUK2gGiLAuWc+TaEMIsDYLiztof4hwPj1GY2i8CHAGL0HLaPiIcA4hPXMo9QhwFdL42ykxiHAdxLRDKW4IcCW2b6spaohwLagrEymnCHA1mea7KaOIcD2LoiMp4AhwBX2dSyociHANb1jzKhkIcBUhFFsqVYhwHRLPwyqSCHAlBItrKo6IcC02RpMqywhwNOgCOyrHiHA82f2i6wQIcASL+QrrQIhwDL20cut9CDAUr2\\u002fa67mIMByhK0Lr9ggwJFLm6uvyiDAsRKJS7C8IMDQ2XbrsK4gwPCgZIuxoCDAEGhSK7KSIMAwL0DLsoQgwE\\u002f2LWuzdiDAb70bC7RoIMCOhAmrtFogwK5L90q1TCDAzhLl6rU+IMDu2dKKtjAgwA6hwCq3IiDALWiuyrcUIMBML5xquAYgwNnsExVy8R\\u002fAGHvvVHPVH8BXCcuUdLkfwJeXptR1nR\\u002fA1iWCFHeBH8AVtF1UeGUfwFVCOZR5SR\\u002fAlNAU1HotH8DTXvATfBEfwBPty1N99R7AUnunk37ZHsCRCYPTf70ewNGXXhOBoR7AECY6U4KFHsBPtBWTg2kewI9C8dKETR7AztDMEoYxHsANX6hShxUewE3tg5KI+R3AjHtf0ondHcDLCTsSi8EdwAuYFlKMpR3ASibykY2JHcCKtM3Rjm0dwMlCqRGQUR3ACNGEUZE1HcBIX2CRkhkdwIftO9GT\\u002fRzAxnsXEZXhHMAGCvNQlsUcwEWYzpCXqRzAhCaq0JiNHMDEtIUQmnEcwANDYVCbVRzAQtE8kJw5HMCCXxjQnR0cwMHt8w+fARzAAHzPT6DlG8BACquPockbwH+Yhs+irRvAviZiD6SRG8D+tD1PpXUbwD1DGY+mWRvAfNH0zqc9G8C8X9AOqSEbwPvtq06qBRvAOnyHjqvpGsB6CmPOrM0awLmYPg6usRrA+CYaTq+VGsA4tfWNsHkawHdD0c2xXRrAttGsDbNBGsD2X4hNtCUawDXuY421CRrAdHw\\u002fzbbtGcC0ChsNuNEZwPOY9ky5tRnAMyfSjLqZGcByta3Mu30ZwLFDiQy9YRnA8dFkTL5FGcAwYECMvykZwG\\u002fuG8zADRnAr3z3C8LxGMDuCtNLw9UYwC2ZrovEuRjAbSeKy8WdGMCstWULx4EYwOtDQUvIZRjAK9Ici8lJGMBqYPjKyi0YwKnu0wrMERjA6XyvSs31F8AoC4uKztkXwGeZZsrPvRfApydCCtGhF8DmtR1K0oUXwCVE+YnTaRfAZdLUydRNF8CkYLAJ1jEXwOPui0nXFRfAI31nidj5FsBiC0PJ2d0WwKGZHgnbwRbA4Sf6SNylFsAgttWI3YkWwGBEscjebRbAn9KMCOBRFsDeYGhI4TUWwB7vQ4jiGRbAXX0fyOP9FcCcC\\u002fsH5eEVwNyZ1kfmxRXAGyiyh+epFcBato3H6I0VwJpEaQfqcRXA2dJER+tVFcAYYSCH7DkVwFjv+8btHRXAl33XBu8BFcDWC7NG8OUUwBaajobxyRTAVShqxvKtFMCUtkUG9JEUwNREIUb1dRTAE9P8hfZZFMBSYdjF9z0UwJLvswX5IRTA0n2PRfoFFMAQDGuF++kTwFCaRsX8zRPAkCgiBf6xE8DOtv1E\\u002f5UTwA5F2YQAehPATtO0xAFeE8CMYZAEA0ITwMzva0QEJhPADH5HhAUKE8BKDCPEBu4SwIqa\\u002fgMI0hLAyijaQwm2EsAIt7WDCpoSwEhFkcMLfhLAiNNsAw1iEsDGYUhDDkYSwAbwI4MPKhLARn7\\u002fwhAOEsCEDNsCEvIRwMSatkIT1hHABCmSghS6EcBCt23CFZ4RwIJFSQIXghHAwtMkQhhmEcAAYgCCGUoRwEDw28EaLhHAgH63ARwSEcC+DJNBHfYQwP6aboEe2hDAPilKwR++EMB8tyUBIaIQwLxFAUEihhDA\\u002fNPcgCNqEMA6YrjAJE4QwHrwkwAmMhDAun5vQCcWEMDwGZYAUfQPwHA2TYBTvA\\u002fA8FIEAFaED8Bsb7t\\u002fWEwPwOyLcv9aFA\\u002fAbKgpf13cDsDoxOD+X6QOwGjhl35ibA7A6P1O\\u002fmQ0DsBkGgZ+Z\\u002fwNwOQ2vf1pxA3AZFN0fWyMDcDgbyv9blQNwGCM4nxxHA3A4KiZ\\u002fHPkDMBcxVB8dqwMwNzhB\\u002fx4dAzAXP6+e3s8DMDYGnb7fQQMwFg3LXuAzAvA2FPk+oKUC8BUcJt6hVwLwNSMUvqHJAvAVKkJeorsCsDUxcD5jLQKwFDid3mPfArA0P4u+ZFECsBQG+Z4lAwKwMw3nfiW1AnATFRUeJmcCcDMcAv4m2QJwEiNwneeLAnAyKl596D0CMBIxjB3o7wIwMTi5\\u002falhAjARP+edqhMCMDEG1b2qhQIwEA4DXat3AfAwFTE9a+kB8BAcXt1smwHwLyNMvW0NAfAPKrpdLf8BsC8xqD0ucQGwDjjV3S8jAbAuP8O9L5UBsA4HMZzwRwGwLQ4ffPD5AXANFU0c8asBcC0cevyyHQFwDCOonLLPAXAsKpZ8s0EBcAwxxBy0MwEwKzjx\\u002fHSlATALAB\\u002fcdVcBMCsHDbx1yQEwCg57XDa7APAqFWk8Ny0A8Aocltw33wDwKSOEvDhRAPAJKvJb+QMA8Ckx4Dv5tQCwCDkN2\\u002fpnALAoADv7utkAsAgHaZu7iwCwJw5Xe7w9AHAHFYUbvO8AcCccsvt9YQBwBiPgm34TAHAmKs57foUAcAYyPBs\\u002fdwAwJTkp+z\\u002fpADAFAFfbAJtAMCUHRbsBDUAwCB0mtcO+v+\\u002fIK0I1xOK\\u002f78g5nbWGBr\\u002fvxgf5dUdqv6\\u002fGFhT1SI6\\u002fr8YkcHUJ8r9vxDKL9QsWv2\\u002fEAOe0zHq\\u002fL8QPAzTNnr8vwh1etI7Cvy\\u002fCK7o0UCa+78I51bRRSr7vwggxdBKuvq\\u002fAFkz0E9K+r8AkqHPVNr5vwDLD89Zavm\\u002f+AN+zl76+L\\u002f4POzNY4r4v\\u002fh1Ws1oGvi\\u002f8K7IzG2q97\\u002fw5zbMcjr3v\\u002fAgpct3yva\\u002f6FkTy3xa9r\\u002fokoHKger1v+jL78mGevW\\u002f4AReyYsK9b\\u002fgPczIkJr0v+B2OsiVKvS\\u002f2K+ox5q687\\u002fY6BbHn0rzv9ghhcak2vK\\u002f0Frzxalq8r\\u002fQk2HFrvrxv9DMz8SzivG\\u002fyAU+xLga8b\\u002fIPqzDvarwv8h3GsPCOvC\\u002fgGERhY+V77+A0+2DmbXuv4BFyoKj1e2\\u002fcLemga317L9wKYOAtxXsv3CbX3\\u002fBNeu\\u002fYA08fstV6r9gfxh91XXpv2Dx9Hvflei\\u002fUGPReum1579Q1a1589Xmv1BHinj99eW\\u002fQLlmdwcW5b9AK0N2ETbkv0CdH3UbVuO\\u002fMA\\u002f8cyV24r8wgdhyL5bhvzDztHE5tuC\\u002fQMoi4Yas379Artvemuzdv0CSlNyuLNy\\u002fIHZN2sJs2r8gWgbY1qzYvyA+v9Xq7Na\\u002fACJ40\\u002f4s1b8ABjHREm3TvwDq6c4mrdG\\u002fwJtFmXXaz7\\u002fAY7eUnVrMv8ArKZDF2si\\u002fgPOai+1axb+AuwyHFdvBvwAH\\u002fQR7try\\u002fgJbg+8q2tb8ATYjlNW6tvwDanqar3Z6\\u002fAMBoEVz3Zr8AqESi1B+ZPwA0W2NKj6o\\u002fgArKOlVHtD+AeuZDBUe7P2B1gaZaI8E\\u002fYK0PqzKjxD9g5Z2vCiPIP2AdLLTioss\\u002fYFW6uLoizz\\u002fwRqReSVHRP\\u002fBi62A1EdM\\u002f8H4yYyHR1D\\u002fwmnllDZHWP\\u002fC2wGf5UNg\\u002f8NIHauUQ2j8w705s0dDbPzALlm69kN0\\u002fMCfdcKlQ3z+YIZK5SojgP5ivtbpAaOE\\u002fmD3ZuzZI4j+4y\\u002fy8LCjjPw==\"},\"y\":{\"dtype\":\"f8\",\"bdata\":\"R7qnpLoHIy7ES3gwWH3SLhBh8KGw8H4vO9bx5P9KJjCIf2PPG6rLMNRUJO9HkG0xjPob3tk0CzILecN5lY+lMhKJLAe+bT0zdyQVEJFL0TNTtdPFj4FhNF8x8kS+hO40fFoRenTodjX\\u002fah86nZ39NX5+JodSfIA2\\u002fS5o7UCc\\u002fzbSHzAVBxl6N8\\u002f2sGwJjvI3Jn3UG3y4Zjg3HnW1cPXXODCOeGmlwUU58bGe820DsTlzdmq2B+oWOkC4YYqUk3o6td3f4lSL2jqc\\u002f65XuNQ2OzD60kIX6ZA7UAF0n4yS5Ts694Oe1rI3PE9oE+lha4Y8KQnHe7ZD0jwq+BNrjaAZPcQHNe8S9149aexIjCgcoD2nCaDq597cPbrnuhIWRxY+YFDWSlqbTT6BAVnWJfGAPhpb+1KCsrA+iIB5V65X3D6N5+oN+7YEP6hwluBQEyo\\u002fnLqhLxVETD8VP99b12JqP6fvc\\u002fQVNoU\\u002fdO6u0RlenT9opghz34GxPxP00w+6+cE\\u002fQk3tBYXJzz\\u002fFa\\u002fmBBjTYP2KnBAFkvd8\\u002fUOHm7gTs4T\\u002f1MdWr3G3hP\\u002fWVCMZgMd0\\u002f8pqtDL0N1T\\u002fdrIBFqCbKPz24WPrr+Ls\\u002fKtzoJiLEqT+8Ncc1RHCUP5q+PuxB7Hs\\u002f4R2DP\\u002fJsYD\\u002fke77QNKRAPxDskynMCR0\\u002fOv2c2DnR9T6GwCRpYDvMPpKEOmTLdZ8+5S32T5cwbj7RS7\\u002frxPI4Pj2qqJ\\u002fWwwE+uSLZhX6zyD3k3\\u002fEzUCnWPfT\\u002f6X2\\u002f1RA+8LWFQ6XBRj43kqQMXn56PkZL9mDXj6o+6Q8s78ju1j48IO5K5AwBP\\u002fsCnqBX1SU\\u002fkdENp4ETSD\\u002f3KY+U89xmPw5B8G9SsoI\\u002fWIiplzlVmj9YWHYpR\\u002fCvP\\u002fAVnTjyrcA\\u002fsMEWKjMBzj+KUlkwkj3XPygfUUPsAN8\\u002fNyLCUP3O4T8wq17qMJ7hPyLmyZ\\u002fGBN4\\u002f2rCVfeYF1j\\u002fEcm1K1NPLP5XG+0KRR74\\u002fRUu+A35frD9sZnhAIeWWP\\u002fkt3w2t0X8\\u002fTkPCN2sKYz9RUglVwZ9DP1W6KWHCaiE\\u002fUbUfrLKf+j7OFBwhpYbRPmys0quCGqQ+xCons0DYgj67xiza7BKjPg4g6oCmq9A+FjQ+IL1s+T6pIqpd67IgP2PRbzDR40I\\u002fVYoIr8RmYj\\u002fWSYn8kt9+PwGh3iGYTZY\\u002fFPW5kOa\\u002fqz9q0JLUd7u9P8ezBI70bss\\u002fewrNPTjM1T\\u002f0uCkheNTdP9C+gfOzk+E\\u002fPx5hIITW4T\\u002f1bstRti3fPwix1\\u002fb9dtc\\u002fMAxXRT5qzj+TRl4tl\\u002fnAP3YUvCAlUbA\\u002fmkZuSnIDmz8gpjoWl0GDP5VCxEIspGc\\u002f817zOrP+SD9gytbowMEmP3A9Izml1wE\\u002fG5KMefkX2D7VuC\\u002f6iASsPvTIzfWdDnw+p6MmVgUySD4I8g2G1vcRPpH5RWlR+9Y9LeRd2BpQmT3GG411aQJYPQnuvfdunBM9BZAS47KWyzwmstxxF7aAPMojr+IgbzE80oK6+VZT3zu4MX1sOjyIO6v+tE59JTA7lBIyjQeH0jpv1mUkyE5yOmqbApZWKA86ppYXafjUpjlwSaC42dA8ObTrodaCUc841CUMAetPXTiX+sLZEKDnN6UyVYPUZXA3H+mG4ySa8zabaGEn2C10NjMqrK2D4\\u002fE1hxuiqDVQazV4pMnliOMANQz9iT5pZII1k3pczxh+BzbDK+ERRNeJNsJPp6syegg3DSykTmn3gzdg3P3ICg38N6+S+TXx93A4g+gs57+t4Tifiyud87hPOV5LW0Rqgrg5302e+qROIDpPiMs+1K+COlhjEQzCcOI6tUXdDWNXPzvc8hHoj++WO9o+zTB56Ow77AItGWZgPzyQp8IPxVONPGpfHBcOm9c8PogEKLpcID1A8ToJjIhjPakX8V7TFKQ9YVh1NDnH4T06yV0ulRsbPrcCT80MzFE+Pzf8LrwfhD7wlaoaeZizPioMPyKGbuA+1kY5jiq7Bz9aFNMXq4MtP8\\u002fdo5Q3nE8\\u002fXVXNBX4nbT\\u002fDMwth1yeHP6fqSbzhrJ8\\u002frSCo5R6osj8jmmJtEO3CP\\u002fuFF8mQiNA\\u002faAQ+Pzfg2D8D0GGbjB3gP7Qs5fAn++E\\u002fS+1ssuxG4T9FCV30XJfcP6mcU2hkX9Q\\u002fhorvcHMAyT\\u002fP7RDXKWy6P4RmXRb8C6g\\u002fP7v2aJjYkj+mwpvtS3B5Px1ztQfakV0\\u002frBbxoWeZPT\\u002fcjNVOz4MZP5ucJZC28PI+lIjzQBw3yD583KZDJqmaPkyhR0wNR2k+qDje9nKjND7zVDL3rQX9PfZMZtWMksE98OlzATZTgj1q6klw3XRAPZMkZ\\u002fe8dvk86IIycJoJtjwW2H2+iTbgPA8jHqADCyY9CjIoVOjtaT2nTm8sGUSqPY2Z+8uo6eY9SNMxCFs2IT61mi3EA0VWPlnPE1Xqz4g+M8latHzOtz6AqzWelKvjPk9KJg7r\\u002fQs\\u002f4LoW380mMT9pLKGMrhlSPxceh4UHc3A\\u002fWjy6uSK\\u002fiT\\u002fDZiBsCVqhP7R1ojsDJLQ\\u002fKb9iL8chxD\\u002fIobyPQ1TRP4C7N4ndsNk\\u002fUjGEV0Vm4D93MbqxowfiPzROR9LqEeE\\u002fRWC7VqbV2z9ClHyz8YrTP7QEd5e9occ\\u002frAcyjdCbuD9kGl1eWhGmP\\u002fl5oVikCpE\\u002fcAgul2+qdj9CoEqe2\\u002fVZP+ynfwj8mjk\\u002fg4NlVKe\\u002fFT+AMUKQ19DvPlQnoqpNCsQ+bO+4DJ69lT4j1TQUhk9kPuDeTGcOVzA+B2asZhKk9j1VCD3t+gO7Peflfxx3wns9YpJEj02QOD2vOENOvbfyPECBI4e6kKg8mmFcaW3DWzxUN398YgULPEvHJjKkpbY73E8943hYYDux5+jGolEEOzSWUE1BwKU6DWA9DBUNRDpPCSwqztXfOaz7P21sw3U55bLM8N2fCTmfgYAaQvuZOBTTfkGLryY4OgW1MscOsTcc\\u002fWiBFxc2N3aASh+korg2+B9VvbSoNzaAIT0aC5GzNW3KBt7R3is1qKZ5dxMdoTRvyxfFKiuUNILSgghimSA12H6NCJecpzVFVDUjXewsNqXrB9Wsgq42h0Ztw0a3KzeZIBQPea6lN1Xj+5dCNh04ZC12n1DykDij1mjrn+4AOY8CcWQxI205sLNDB+iW1TmXI+TxIo07OlxaRUUVR5469EDqaWCn\\u002fDq9zzu7FlpXO7+fg0t8Y7A7nDq7\\u002fzbPAzzdBejOop5UPB8QoNeie6I8mOQLxdeI7DyHO8GEy\\u002fcyPTslb4lLt3U9BM8YgP1otT0r2pf6ey3yPcSWH9KslCo+NyXIbV28YD4LaG6w9SWSPj\\u002fHWiCM8sA+Cjx06N9B6z7Rk2goR+ASPzsx5oKOgzY\\u002fG758L9QfVz+E6ZK9GHR0P2wE62mRKI8\\u002fRBDomxRwpD91ZV9OwBa3P+RpOwNOdsY\\u002f62iqKXjR0j+K\\u002fpu4JyfbP5WiTY6e3uA\\u002fGZaHkxIN4j9GO1ZuJaLgP4WDqnzYZdo\\u002feimLH+oJ0j9kI45n7DrFP3t6BYpXhLU\\u002fbWPhc5nHoj9VC7rTyjqMP6NIJj59RXI\\u002fnEs1HjpeVD8AOd2dfo0zP\\u002fWIUSDwKRA\\u002fesxuWJED5z6IY7Goqje8Pi83gQ4wy40+tfgU7hIXWz4yTPcgOTYlPtRttTEWm+w9HJDTiEScsD1Akyegn5xwPUi8p9rsnCw97Lnq2X445TwQJE8fIxubPMAtRArv0E08EMCBjVE+\\u002fDtsGBXf+gmnO87U+YgiL1A78aF5sJ6U8zpfcab6hWaUOhnFBTW3TTI6+lLLwLZIzDkpsvy4qtFiOeLhRvfMkPU4qghjtSBIhTjMpAue6BUSOAXYqCKIeJo3zqrbkqKuIDdL9HbJZhuiNiVUFEm87CA2P8tqGQs\\u002fmzVJyguE1eISNYwWY2j\\u002fi4Y0nHVo2wou9zP4iWGYk4VkM38EbCeuSs8yFbpFhF6LNDJf8BGyIjuXMSHJ4pAcn\\u002fYw+\\u002fXfcTH4UjDMm6wFlWWrLzuFuoV6CQEvoqeoJkw\\u002fUi5CBXNT0xShLRaWmMFO9\\u002fItQxX0rRBAoy5\\u002fhDofG9RQL\\u002f2Qjrd5V\\u002fkvhDpSyydvoDDUfazJ51tCMW+3\\u002fNs4quExcPXKarBHfTJazMUPu+YUM\\u002fju5Hvvs6kz7oEVJa05OzSgaRK9CtfINFlv5VSjhVM1UAQ5D5Bu2jWRgxk21tNeNq5F6ryw+N42O1HEr+nNWjfcj8\\u002fg1fvTN8g53sZTq0k4pugPvqRnvDi5idJ\\u002fEhQrOTYdXF0nPZY54j7ClWR4\\u002fzlAgMLbDi9jOimShGyFJsQ6CMmBqmw8IjvuY2FET3B8OxANiUktG9M7cluh28oeJjz1nXEyIRF2PJ+RYHr498I8K2ICJLsZDD2w3EkQn+9RPUPcXgoNu5M9hVVqxky00j3BH+7WkY8OPi97UbAchEU+ZxuGWCIcej7HL3TNk06rPpGu+o4hndg+gTHGgUMfAz9a8NOD8ZspP7fu9Fg9kE0\\u002fC7eZjt5rbT8jUnDnHj+JPwfWsIG1r6I\\u002fK284yfXftz89AEmdGlzKPxPjEUeoNNk\\u002fMjlCkrv15D\\u002fQqvSLKYnuPyyLBenNufM\\u002fPqCNMSwH9z\\u002fhbByqi+D4P8xM2W1Fa\\u002fk\\u002flerRedLH+D82vx3Iz9H2PyL2Ctv+aPM\\u002fKWDbuNnJ7T8c8oupnD\\u002fkPyQ0WDcPGdg\\u002fhMJdZWPuyD\\u002fyChHMw1W2P8YSPBcdSqE\\u002fKtUB0U4ahz9ldfHGraBqP85owD2cdko\\u002fpv6DC2msJj\\u002fvRPyZ8b4APxDDHaxDUtU+QEdbwgZmpz4l5VicuCF2PnofRue2CkI+axVUNwBaCT7a5cZqUbPOPebFGq4ZBZA9oP0W7dbQTD1zh18eVlUGPVahpuzx1L088oh+ci8rcTwccHOKSQchPG4rGJ8oG807bsT9AvVudTs7AnO13jIbO6o20oX2vL06wqHlA6EDXDr4n0zeo7z2OV9KY\\u002f0ozI85sKEJotMnIznYK1xFH+KzOCQQQsyyx0E4PPgoDtFkyzdycGpy5i1SNxJfVCMTydQ2YpB54dl4VDZ0rm8ZfV7RNcawLCtUY0k1emEqqR\\u002f3vzSCjfEIcVUxNKG\\u002fHf1dMaAzC89m0jQPCjNg1MGEtw9yMiPUrpx\\u002fkNUxIrz6\\u002fSYtNjHEDrIbjqSTMEnmWACW+O0vRWuST4axQy\\u002f1w69cXUqWLj9I\\u002ftzkuuUtYITJTbM+Mi2SlnptEWN6LAbYSTkUb8Ar45ZwKkahASumKrHt8ElAKh26LDQ\\u002f7HkpJcjMvtvDsShlgZABWfjkJ0msyS54URUn1CAt7B2qQiYzevVjgyVsJV5AYCMCR5IknIH4Ql9xtCNc9sqi\\u002f7DTIg==\"},\"type\":\"scatter\"}],                        {\"template\":{\"data\":{\"scatter\":[{\"type\":\"scatter\"}]}},\"font\":{\"size\":20},\"xaxis\":{\"zeroline\":false,\"showline\":true,\"mirror\":true,\"ticks\":\"outside\",\"title\":{\"text\":\"E - E\\u003csub\\u003eF\\u003c\\u002fsub\\u003e [eV]\"}},\"yaxis\":{\"showline\":true,\"mirror\":true,\"ticks\":\"outside\",\"title\":{\"text\":\"DOS\"}},\"hoverlabel\":{\"bgcolor\":\"black\"},\"width\":800,\"height\":600},                        {\"responsive\": true}                    ).then(function(){\n",
       "                            \n",
       "var gd = document.getElementById('4a66bff7-b3ea-42e4-a074-b40278e97224');\n",
       "var x = new MutationObserver(function (mutations, observer) {{\n",
       "        var display = window.getComputedStyle(gd).display;\n",
       "        if (!display || display === 'none') {{\n",
       "            console.log([gd, 'removed!']);\n",
       "            Plotly.purge(gd);\n",
       "            observer.disconnect();\n",
       "        }}\n",
       "}});\n",
       "\n",
       "// Listen for the removal of the full notebook cells\n",
       "var notebookContainer = gd.closest('#notebook-container');\n",
       "if (notebookContainer) {{\n",
       "    x.observe(notebookContainer, {childList: true});\n",
       "}}\n",
       "\n",
       "// Listen for the clearing of the current output cell\n",
       "var outputEl = gd.closest('.output');\n",
       "if (outputEl) {{\n",
       "    x.observe(outputEl, {childList: true});\n",
       "}}\n",
       "\n",
       "                        })                };            </script>        </div>"
      ]
     },
     "metadata": {},
     "output_type": "display_data"
    }
   ],
   "source": [
    "plot_dos(scf)"
   ]
  },
  {
   "cell_type": "code",
   "execution_count": 5,
   "id": "b6aab018-dde1-45aa-85d8-d9d738507960",
   "metadata": {},
   "outputs": [
    {
     "data": {
      "text/html": [
       "<div>            <script src=\"https://cdnjs.cloudflare.com/ajax/libs/mathjax/2.7.5/MathJax.js?config=TeX-AMS-MML_SVG\"></script><script type=\"text/javascript\">if (window.MathJax && window.MathJax.Hub && window.MathJax.Hub.Config) {window.MathJax.Hub.Config({SVG: {font: \"STIX-Web\"}});}</script>                <script type=\"text/javascript\">window.PlotlyConfig = {MathJaxConfig: 'local'};</script>\n",
       "        <script charset=\"utf-8\" src=\"https://cdn.plot.ly/plotly-3.0.1.min.js\"></script>                <div id=\"caf04283-f8ad-4623-a138-dddbb3112470\" class=\"plotly-graph-div\" style=\"height:600px; width:800px;\"></div>            <script type=\"text/javascript\">                window.PLOTLYENV=window.PLOTLYENV || {};                                if (document.getElementById(\"caf04283-f8ad-4623-a138-dddbb3112470\")) {                    Plotly.newPlot(                        \"caf04283-f8ad-4623-a138-dddbb3112470\",                        [{\"mode\":\"lines+markers\",\"name\":\"Band 1\",\"x\":{\"dtype\":\"f8\",\"bdata\":\"AAAAAAAAAAAXj6jjl2nBPxePqOOXadE\\u002fotZ81WMe2j8Xj6jjl2nhP95YLsgHb+U\\u002fpCK0rHd06T9q7DmR53ntPxjb37qrv\\u002fA\\u002f+78irWPC8j8=\"},\"y\":{\"dtype\":\"f8\",\"bdata\":\"UIc1abi1I8DC61VMPU4lwPBEJPTWRyfAxvQSUfiiKMAcrxlTvBgpwBJ2aufgrijA3kQ7LMx2J8DsykVPrpolwEfJOoaIDCPAqIyFotXFH8A=\"},\"type\":\"scatter\"},{\"mode\":\"lines+markers\",\"name\":\"Band 2\",\"x\":{\"dtype\":\"f8\",\"bdata\":\"AAAAAAAAAAAXj6jjl2nBPxePqOOXadE\\u002fotZ81WMe2j8Xj6jjl2nhP95YLsgHb+U\\u002fpCK0rHd06T9q7DmR53ntPxjb37qrv\\u002fA\\u002f+78irWPC8j8=\"},\"y\":{\"dtype\":\"f8\",\"bdata\":\"lgWfpJubHsBkMsXcLc4ZwMt\\u002fjgtfvxDASHHr1K+Q+r8AA2w5iyS1Pxhq2xFPWOe\\u002fei\\u002fX\\u002fAwOA8AiLPGJd\\u002f8QwNyj8Zv3lhjAiAk7CSS0H8A=\"},\"type\":\"scatter\"},{\"mode\":\"lines+markers\",\"name\":\"Band 3\",\"x\":{\"dtype\":\"f8\",\"bdata\":\"AAAAAAAAAAAXj6jjl2nBPxePqOOXadE\\u002fotZ81WMe2j8Xj6jjl2nhP95YLsgHb+U\\u002fpCK0rHd06T9q7DmR53ntPxjb37qrv\\u002fA\\u002f+78irWPC8j8=\"},\"y\":{\"dtype\":\"f8\",\"bdata\":\"dDYQwcAx9b98z4a04k3zv5jaN\\u002fRiCeu\\u002f4N++PaQ507+AaqD+QvK1PxBraXmluOa\\u002fCHiOR2m7\\u002fL86NR6kxCkFwBixuuLGXAnAqO0hiiPFCsA=\"},\"type\":\"scatter\"},{\"mode\":\"lines+markers\",\"name\":\"Band 4\",\"x\":{\"dtype\":\"f8\",\"bdata\":\"AAAAAAAAAAAXj6jjl2nBPxePqOOXadE\\u002fotZ81WMe2j8Xj6jjl2nhP95YLsgHb+U\\u002fpCK0rHd06T9q7DmR53ntPxjb37qrv\\u002fA\\u002f+78irWPC8j8=\"},\"y\":{\"dtype\":\"f8\",\"bdata\":\"GIZXPikR9b\\u002f4L0D6BCzzvwjzGHD4wOq\\u002fQASZVKad0r9AS2FV7724Pzha4T5a8uS\\u002fQIFF8ryu+7+k7Gl\\u002f554EwIYO\\u002fb8X0AjAzrO6\\u002fQc4CsA=\"},\"type\":\"scatter\"},{\"line\":{\"dash\":\"dash\"},\"mode\":\"lines+markers\",\"name\":\"Unocc. band 1\",\"x\":{\"dtype\":\"f8\",\"bdata\":\"AAAAAAAAAAAXj6jjl2nBPxePqOOXadE\\u002fotZ81WMe2j8Xj6jjl2nhP95YLsgHb+U\\u002fpCK0rHd06T9q7DmR53ntPxjb37qrv\\u002fA\\u002f+78irWPC8j8=\"},\"y\":{\"dtype\":\"f8\",\"bdata\":\"5LEVWAlc\\u002fz\\u002fcF0Te9T\\u002f+P4rYmDtdaAFAMjXfuHgPBEDCY7rLIrcBQOyAvxysePw\\u002fqFXpx1Y97j+weGqdkWDQPwA9IwEXMbm\\u002fAOQW2g1ph78=\"},\"type\":\"scatter\"},{\"line\":{\"dash\":\"dash\"},\"mode\":\"lines+markers\",\"name\":\"Unocc. band 2\",\"x\":{\"dtype\":\"f8\",\"bdata\":\"AAAAAAAAAAAXj6jjl2nBPxePqOOXadE\\u002fotZ81WMe2j8Xj6jjl2nhP95YLsgHb+U\\u002fpCK0rHd06T9q7DmR53ntPxjb37qrv\\u002fA\\u002f+78irWPC8j8=\"},\"y\":{\"dtype\":\"f8\",\"bdata\":\"hs6D\\u002faW0BkCqSzHWwxIIQEYOhHs19glAqu7DctUSBkDKEThASNEBQHbXVb8rrwlACoAXTposC0CUtW8udkr6Pygy7wG2IuE\\u002fAGk9HqN2mT8=\"},\"type\":\"scatter\"},{\"line\":{\"dash\":\"dash\"},\"mode\":\"lines+markers\",\"name\":\"Unocc. band 3\",\"x\":{\"dtype\":\"f8\",\"bdata\":\"AAAAAAAAAAAXj6jjl2nBPxePqOOXadE\\u002fotZ81WMe2j8Xj6jjl2nhP95YLsgHb+U\\u002fpCK0rHd06T9q7DmR53ntPxjb37qrv\\u002fA\\u002f+78irWPC8j8=\"},\"y\":{\"dtype\":\"f8\",\"bdata\":\"enxq9q3DBkA28aXlEiMIQIIMceNqCgpAcocGcWkrBkAWZfcX7dQBQJa4MdoWFgpAVZydVKXaE0DRukKlhYkbQOAxhO\\u002fXwiFA\\u002fsnOFMIjJUA=\"},\"type\":\"scatter\"},{\"line\":{\"dash\":\"dash\"},\"mode\":\"lines+markers\",\"name\":\"Unocc. band 4\",\"x\":{\"dtype\":\"f8\",\"bdata\":\"AAAAAAAAAAAXj6jjl2nBPxePqOOXadE\\u002fotZ81WMe2j8Xj6jjl2nhP95YLsgHb+U\\u002fpCK0rHd06T9q7DmR53ntPxjb37qrv\\u002fA\\u002f+78irWPC8j8=\"},\"y\":{\"dtype\":\"f8\",\"bdata\":\"Pawrvna3GkDz2W7upbobQAeJWBse\\u002fBtACWAPjmSxFkAr0XDaoUMSQJNFfX+cAhRA+416RywOFEAHhcbbDbUbQIbCahro0yFA0L4nmzZxJUA=\"},\"type\":\"scatter\"}],                        {\"template\":{\"data\":{\"scatter\":[{\"type\":\"scatter\"}]}},\"font\":{\"size\":20},\"xaxis\":{\"zeroline\":false,\"showline\":true,\"mirror\":true,\"ticks\":\"outside\",\"tickmode\":\"array\",\"tickvals\":{\"dtype\":\"f8\",\"bdata\":\"AAAAAAAAAAAXj6jjl2nhP\\u002fu\\u002fIq1jwvI\\u002f\"},\"ticktext\":[\"L\",\"\\u0393\",\"X\"],\"gridcolor\":\"grey\",\"gridwidth\":2,\"range\":[0,1.1724583399882238],\"title\":{\"text\":\"k-path\"}},\"yaxis\":{\"zeroline\":false,\"showline\":true,\"mirror\":true,\"ticks\":\"outside\",\"showgrid\":false,\"title\":{\"text\":\"E - E\\u003csub\\u003eF\\u003c\\u002fsub\\u003e [eV]\"}},\"hoverlabel\":{\"bgcolor\":\"black\"},\"width\":800,\"height\":600,\"showlegend\":false},                        {\"responsive\": true}                    ).then(function(){\n",
       "                            \n",
       "var gd = document.getElementById('caf04283-f8ad-4623-a138-dddbb3112470');\n",
       "var x = new MutationObserver(function (mutations, observer) {{\n",
       "        var display = window.getComputedStyle(gd).display;\n",
       "        if (!display || display === 'none') {{\n",
       "            console.log([gd, 'removed!']);\n",
       "            Plotly.purge(gd);\n",
       "            observer.disconnect();\n",
       "        }}\n",
       "}});\n",
       "\n",
       "// Listen for the removal of the full notebook cells\n",
       "var notebookContainer = gd.closest('#notebook-container');\n",
       "if (notebookContainer) {{\n",
       "    x.observe(notebookContainer, {childList: true});\n",
       "}}\n",
       "\n",
       "// Listen for the clearing of the current output cell\n",
       "var outputEl = gd.closest('.output');\n",
       "if (outputEl) {{\n",
       "    x.observe(outputEl, {childList: true});\n",
       "}}\n",
       "\n",
       "                        })                };            </script>        </div>"
      ]
     },
     "metadata": {},
     "output_type": "display_data"
    }
   ],
   "source": [
    "# Test the selection of the spin channel\n",
    "plot_bandstructure(scf, spin=1)"
   ]
  },
  {
   "cell_type": "code",
   "execution_count": 6,
   "id": "7288db28-73a2-4131-998a-20d3d3df20ae",
   "metadata": {},
   "outputs": [
    {
     "data": {
      "text/html": [
       "<div>            <script src=\"https://cdnjs.cloudflare.com/ajax/libs/mathjax/2.7.5/MathJax.js?config=TeX-AMS-MML_SVG\"></script><script type=\"text/javascript\">if (window.MathJax && window.MathJax.Hub && window.MathJax.Hub.Config) {window.MathJax.Hub.Config({SVG: {font: \"STIX-Web\"}});}</script>                <script type=\"text/javascript\">window.PlotlyConfig = {MathJaxConfig: 'local'};</script>\n",
       "        <script charset=\"utf-8\" src=\"https://cdn.plot.ly/plotly-3.0.1.min.js\"></script>                <div id=\"2e0be070-47f4-47ed-bd84-22704b3490a8\" class=\"plotly-graph-div\" style=\"height:600px; width:800px;\"></div>            <script type=\"text/javascript\">                window.PLOTLYENV=window.PLOTLYENV || {};                                if (document.getElementById(\"2e0be070-47f4-47ed-bd84-22704b3490a8\")) {                    Plotly.newPlot(                        \"2e0be070-47f4-47ed-bd84-22704b3490a8\",                        [{\"marker\":{\"color\":\"red\"},\"mode\":\"lines+markers\",\"name\":\"Spin 2\",\"x\":{\"dtype\":\"f8\",\"bdata\":\"HK8ZU7wYKsAcaUU2vAoqwBwjcRm8\\u002fCnAHN2c\\u002fLvuKcAcl8jfu+ApwB1R9MK70inAHQsgprvEKcAdxUuJu7YpwB5\\u002fd2y7qCnAHjmjT7uaKcAe884yu4wpwB6t+hW7finAHmcm+bpwKcAeIVLcumIpwB7bfb+6VCnAHpWporpGKcAeT9WFujgpwB4JAWm6KinAH8MsTLocKcAffVgvug4pwB83hBK6ACnAIPGv9bnyKMAgq9vYueQowCBlB7y51ijAIB8zn7nIKMAg2V6CuboowCCTimW5rCjAIE22SLmeKMAgB+IruZAowCDBDQ+5gijAIHs58rh0KMAhNWXVuGYowCHvkLi4WCjAIam8m7hKKMAiY+h+uDwowCIdFGK4LijAItc\\u002fRbggKMAikWsouBIowCJLlwu4BCjAIgXD7rf2J8Aiv+7Rt+gnwCJ5GrW32ifAIjNGmLfMJ8Ai7XF7t74nwCOnnV63sCfAI2HJQbeiJ8AjG\\u002fUkt5QnwCTVIAi3hifAJI9M67Z4J8AkSXjOtmonwCQDpLG2XCfAJL3PlLZOJ8Akd\\u002ft3tkAnwCQxJ1u2MifAJOtSPrYkJ8AkpX4hthYnwCVfqgS2CCfAJRnW57X6JsAl0wHLtewmwCWNLa613ibAJkdZkbXQJsAmAYV0tcImwCa7sFe1tCbAJnXcOrWmJsAmLwgetZgmwCbpMwG1iibAJqNf5LR8JsAmXYvHtG4mwCYXt6q0YCbAJ9HijbRSJsAniw5xtEQmwCdFOlS0NibAJ\\u002f9lN7QoJsAouZEatBomwChzvf2zDCbAKC3p4LP+JcAo5xTEs\\u002fAlwCihQKez4iXAKFtsirPUJcAoFZhts8YlwCjPw1CzuCXAKYnvM7OqJcApQxsXs5wlwCn9RvqyjiXAKbdy3bKAJcApcZ7AsnIlwCoryqOyZCXAKuX1hrJWJcAqnyFqskglwCpZTU2yOiXAKhN5MLIsJcAqzaQTsh4lwCqH0PaxECXAKkH82bECJcAr+ye9sfQkwCu1U6Cx5iTAK29\\u002fg7HYJMArKatmscokwCvj1kmxvCTALJ0CLbGuJMAsVy4QsaAkwCwRWvOwkiTALMuF1rCEJMAshbG5sHYkwCw\\u002f3ZywaCTALPkIgLBaJMAsszRjsEwkwC1tYEawPiTALSeMKbAwJMAt4bcMsCIkwC2b4++vFCTALVUP068GJMAuDzu2r\\u002fgjwC7JZpmv6iPALoOSfK\\u002fcI8AuPb5fr84jwC736UKvwCPALrEVJq+yI8Aua0EJr6QjwC4lbeyuliPAL9+Yz66II8AvmcSyrnojwC9T8JWubCPALw0cea5eI8Awx0dcrlAjwDCBcz+uQiPAMDufIq40I8Aw9coFriYjwDCv9uitGCPAMGkizK0KI8AwI06vrfwiwDDdeZKt7iLAMJelda3gIsAxUdFYrdIiwDEL\\u002fTutxCLAMcUoH622IsAxf1QCragiwDI5gOWsmiLAMvOryKyMIsAyrderrH4iwDJnA4+scCLAMiEvcqxiIsAy21pVrFQiwDKVhjisRiLAMk+yG6w4IsAzCd7+qyoiwDPDCeKrHCLAM301xasOIsAzN2GoqwAiwDTxjIur8iHANKu4bqvkIcA0ZeRRq9YhwDQfEDWryCHANNk7GKu6IcA0k2f7qqwhwDRNk96qniHANAe\\u002fwaqQIcA0weqkqoIhwDR7FoiqdCHANTVCa6pmIcA1721OqlghwDWpmTGqSiHANmPFFKo8IcA2HfH3qS4hwDbXHNupICHANpFIvqkSIcA2S3ShqQQhwDYFoISp9iDANr\\u002fLZ6noIMA2efdKqdogwDYzIy6pzCDANu1OEam+IMA3p3r0qLAgwDdhpteooiDANxvSuqiUIMA41f2dqIYgwDiPKYGoeCDAOElVZKhqIMA4A4FHqFwgwDi9rCqoTiDAOHfYDahAIMA4MQTxpzIgwDjrL9SnJCDAOKVbt6cWIMA5X4eapwggwHIyZvtO9R\\u002fAcqa9wU7ZH8ByGhWITr0fwHOObE5OoR\\u002fAcwLEFE6FH8BzdhvbTWkfwHTqcqFNTR\\u002fAdF7KZ00xH8B00iEuTRUfwHVGefRM+R7AdbrQukzdHsB1LiiBTMEewHaif0dMpR7AdhbXDUyJHsB2ii7US20ewHb+hZpLUR7Ad3LdYEs1HsB35jQnSxkewHdajO1K\\u002fR3AeM7js0rhHcB4Qjt6SsUdwHi2kkBKqR3AeSrqBkqNHcB5nkHNSXEdwHkSmZNJVR3AeobwWUk5HcB6+kcgSR0dwHpun+ZIAR3Ae+L2rEjlHMB7Vk5zSMkcwHvKpTlIrRzAfD79\\u002f0eRHMB8slTGR3UcwHwmrIxHWRzAfJoDU0c9HMB9DlsZRyEcwH2Cst9GBRzAffYJpkbpG8B+amFsRs0bwH7euDJGsRvAflIQ+UWVG8B\\u002fxme\\u002fRXkbwH86v4VFXRvAf64WTEVBG8CAIm4SRSUbwICWxdhECRvAgAodn0TtGsCAfnRlRNEawIHyyytEtRrAgWYj8kOZGsCB2nq4Q30awIJO0n5DYRrAgsIpRUNFGsCCNoELQykawIOq2NFCDRrAgx4wmELxGcCDkodeQtUZwIQG3yRCuRnAhHo260GdGcCE7o2xQYEZwIVi5XdBZRnAhdY8PkFJGcCFSpQEQS0ZwIa+68pAERnAhjJDkUD1GMCGpppXQNkYwIYa8h1AvRjAh45J5D+hGMCHAqGqP4UYwId2+HA\\u002faRjAiOpPNz9NGMCIXqf9PjEYwIjS\\u002fsM+FRjAiUZWij75F8CJuq1QPt0XwIkuBRc+wRfAiqJc3T2lF8CKFrSjPYkXwIqKC2o9bRfAiv5iMD1RF8CLcrr2PDUXwIvmEb08GRfAi1ppgzz9FsCMzsBJPOEWwIxCGBA8xRbAjLZv1jupFsCNKsecO40WwI2eHmM7cRbAjRJ2KTtVFsCOhs3vOjkWwI76JLY6HRbAjm58fDoBFsCP4tNCOuUVwI9WKwk6yRXAj8qCzzmtFcCQPtqVOZEVwJCyMVw5dRXAkCaJIjlZFcCQmuDoOD0VwJEOOK84IRXAkYKPdTgFFcCR9uY7OOkUwJJqPgI4zRTAkt6VyDexFMCSUu2ON5UUwJPGRFU3eRTAkzqcGzddFMCTrvPhNkEUwJQiS6g2JRTAlJaibjYJFMCUCvo0Nu0TwJR+Ufs10RPAlPKowTW1E8CWZgCINZkTwJbaV041fRPAlk6vFDVhE8CWwgbbNEUTwJY2XqE0KRPAlqq1ZzQNE8CYHg0uNPESwJiSZPQz1RLAmAa8ujO5EsCYehOBM50SwJjuakczgRLAmGLCDTNlEsCY1hnUMkkSwJpKcZoyLRLAmr7IYDIREsCaMiAnMvURwJqmd+0x2RHAmhrPszG9EcCajiZ6MaERwJwCfkAxhRHAnHbVBjFpEcCc6izNME0RwJxehJMwMRHAnNLbWTAVEcCcRjMgMPkQwJy6iuYv3RDAni7irC\\u002fBEMCeojlzL6UQwJ4WkTkviRDAnoro\\u002fy5tEMCe\\u002fj\\u002fGLlEQwJ5yl4wuNRDAoObuUi4ZEMBAtYwyXPoPwECdO79bwg\\u002fAQIXqS1uKD8BAbZnYWlIPwEBVSGVaGg\\u002fAQD338VniDsBEJaZ+WaoOwEQNVQtZcg7ARPUDmFg6DsBE3bIkWAIOwETFYbFXyg3ARK0QPleSDcBIlb\\u002fKVloNwEh9bldWIg3ASGUd5FXqDMBITcxwVbIMwEg1e\\u002f1UegzASB0qilRCDMBMBdkWVAoMwEzth6NT0gvATNU2MFOaC8BMveW8UmILwEyllElSKgvATI1D1lHyCsBMdfJiUboKwFBdoe9QggrAUEVQfFBKCsBQLf8IUBIKwFAVrpVP2gnAUP1cIk+iCcBQ5QuvTmoJwFTNujtOMgnAVLVpyE36CMBUnRhVTcIIwFSFx+FMigjAVG12bkxSCMBUVSX7SxoIwFg91IdL4gfAWCWDFEuqB8BYDTKhSnIHwFj14C1KOgfAWN2PukkCB8BYxT5HScoGwFit7dNIkgbAXJWcYEhaBsBcfUvtRyIGwFxl+nlH6gXAXE2pBkeyBcBcNViTRnoFwFwdByBGQgXAYAW2rEUKBcBg7WQ5RdIEwGDVE8ZEmgTAYL3CUkRiBMBgpXHfQyoEwGCNIGxD8gPAYHXP+EK6A8BkXX6FQoIDwGRFLRJCSgPAZC3cnkESA8BkFYsrQdoCwGT9ObhAogLAZOXoREBqAsBozZfRPzICwGi1Rl4\\u002f+gHAaJ316j7CAcBohaR3PooBwGhtUwQ+UgHAaFUCkT0aAcBoPbEdPeIAwGwlYKo8qgDAbA0PNzxyAMBs9b3DOzoAwGzdbFA7AgDA2Io3unWU\\u002f7\\u002fYWpXTdCT\\u002fv+Aq8+xztP6\\u002f4PpQBnNE\\u002fr\\u002fgyq4fctT9v+CaDDlxZP2\\u002f4GpqUnD0\\u002fL\\u002fgOshrb4T8v+gKJoVuFPy\\u002f6NqDnm2k+7\\u002foquG3bDT7v+h6P9FrxPq\\u002f6Eqd6mpU+r\\u002foGvsDauT5v+jqWB1pdPm\\u002f8Lq2NmgE+b\\u002fwihRQZ5T4v\\u002fBacmlmJPi\\u002f8CrQgmW097\\u002fw+i2cZET3v\\u002fDKi7Vj1Pa\\u002f+JrpzmJk9r\\u002f4akfoYfT1v\\u002fg6pQFhhPW\\u002f+AoDG2AU9b\\u002f42mA0X6T0v\\u002fiqvk1eNPS\\u002fAHscZ13E878AS3qAXFTzvwAb2Jlb5PK\\u002fAOs1s1p08r8Au5PMWQTyvwCL8eVYlPG\\u002fAFtP\\u002f1ck8b8IK60YV7Twvwj7CjJWRPC\\u002fEJbRlqqo778QNo3JqMjuvxDWSPym6O2\\u002fEHYEL6UI7b8gFsBhoyjsvyC2e5ShSOu\\u002fIFY3x59o6r8g9vL5nYjpvyCWriycqOi\\u002fIDZqX5rI578g1iWSmOjmvzB24cSWCOa\\u002fMBad95Qo5b8wtlgqk0jkvzBWFF2RaOO\\u002fMPbPj4+I4r8wlovCjajhv0A2R\\u002fWLyOC\\u002fgKwFUBTR37+A7Hy1EBHev4As9BoNUdy\\u002fgGxrgAmR2r+ArOLlBdHYv4DsWUsCEde\\u002foCzRsP5Q1b+gbEgW+5DTv6Csv3v30NG\\u002foOw24fMQ0L9AWVyN4KHMv0DZSljZIcm\\u002fgFk5I9Khxb+A2SfuyiHCvwCzLHKHQ72\\u002fALMJCHlDtr8AZs071YauvwBmh2e4hqC\\u002fADgLmtw0dL8AMgmCAvOWPwCZShWeeak\\u002fgEzIdN28sz+ATOve67y6P2AmhyR93sA\\u002fYKaYWYRexD\\u002fgJaqOi97HP+Clu8OSXss\\u002f4CXN+Jnezj\\u002fwUu+WUC\\u002fRP\\u002fASeDFU79I\\u002f8NIAzFev1D\\u002fwkolmW2\\u002fWP\\u002fBSEgFfL9g\\u002f8BKbm2Lv2T\\u002fw0iM2Zq\\u002fbP\\u002fCSrNBpb90\\u002f8FI1a20v3z9YCd+CuHfgP1hpI1C6V+E\\u002fWMlnHbw34j9oKazqvRfjPw==\"},\"y\":{\"dtype\":\"f8\",\"bdata\":\"TxeV9tXwAS4jFXPEvfSxLiAxNIU7814vs\\u002fdyJQL4BjANbRofIlutMI+LcRxpJ1Axb0sMWiee7jFwbig8WfyIMnikjAu7jiEzvY0zMH4\\u002ftTOkeD8GeiRGNNTx\\u002fl6Z3tM0fEIKeeS0XjWrUcNIdG7kNZDkLBOiaWc2qFnHkCwa5zZEX3n9LKFjN0emYTB1udw3P4qNfewYUjj85JJS66LDOLGpZTnMWDI5319mh56FnTnawpB25nMEOi4Y6KYiZ2g6uibBoloSyTpcZBkfUS4mO7U+nMfS5YA7ML2s\\u002fHUr1jvceKY15gspPGq6lb22XXg8cDTR0V9pxDyfXOjcoXINPdZc5ECkSlI9MfhGUz+Rkz3E5S6jUAbSPdI0reU8mAw+gNefP\\u002fWHQz53WWEQifl2PqarxNaORac+x80ukltM1D5K06d0uH3+PuiyxLNbuCM\\u002f5MH5Fwj3RT\\u002fyRPtzKxFlP5tuxTE2ZoE\\u002fRYRztH+\\u002fmD8M8TLZrk+uP9\\u002f\\u002fe4zm978\\u002fL7nSEGoIzT9uD4XBXLTWP1xdMx4klN4\\u002fShBA70m74T+YVxKmJrXhP\\u002fiSLuptdN4\\u002fBPZ7GyyN1j\\u002fc+aK3WcLMP2\\u002fAZx7YlL8\\u002f7+K\\u002fbgvdrT\\u002f06Rs7CFGYP28hTUe4DIE\\u002f8Lao2IeWZD87Mo+eUGhFPwTcCCjuKiM\\u002fkZPpzoqO\\u002fT6r2OtqhZ\\u002fTPvdqyJ7Wb6Y+nypz7TcXdj5rPOJ+k7pCPrR6Fxs2Wgs+abXi2p4V0j18bPKnFh3NPWmrqM1yngU+ndTtXHMGPj73ZEy+APZxPpA+PA3tgKI+xanqSzRq0D5nkbJMFhT5Pon7QfAQfyA\\u002fDbzhZBOwQj84i0Dq0jpiPx+xBAs3oH4\\u002f6caWn\\u002fkmlj8yR8hVU5irP2zyB8uwmb0\\u002f7HhRg1NXyz\\u002fMJ7ThGL\\u002fVPx8grAPJyd0\\u002fq3grxGuR4T85jvj0\\u002ftfhPxzB\\u002fGtyNt8\\u002fFBTGhNOB1z+SciAjVX3OP1eh417LBsE\\u002flt6zHAhgsD\\u002fpAizHTB+bPxc2LqhtV4M\\u002fllw4tQvBZz9K+tTGAh9JP9dhjq5v4CY\\u002fqbmiX2rwAT\\u002fmH5gebTrYPk9sN9fFU6w+ITvkGXEqhD4Q\\u002f0Ri1WiaPk4N+vNOYcc+GcFufHRW8j6E+obEd8cYP+IsJUEk1Tw\\u002fjxqzPZrjXD+o04AE0+x4P+fTd1GZhJI\\u002fod7vQ5axpz+a0awk6Rq6P+zO89BTxMg\\u002fjKXJc8Y71D\\u002f9281xv3fcP5XX+2WtPuE\\u002fAXpS4p394T+i250KbCngP8Z6+T8bAdk\\u002feTouh92n0D\\u002fax1L3axvDP+cjWRrs37I\\u002f2ypcICcOoD\\u002fUzq2GJYWHPx08Ub5zq20\\u002f2fp\\u002fakIdUD+cl9DXPSUuP0YPbH7JRwg\\u002fYJbHkw3X4D7IUm7PXR20Pp1zE\\u002fZbsIQ+a4R\\u002fIeFSUj7E3PGrE\\u002fMbPkBYbxvqWuI9Pw+N54TCpD08YRh\\u002f3zdkPRAQrbWq9CA9ANSdizR92DznCotO5XSOPPX4ZlD6TkA8GB6yNikU7juxzIq+m+KXO2vA6O4ZVUA7Kxyx0L874zqnlHfT6oCDOnrbemHLByE62OF+rFScuTkK67sEA5VQOaxBvMF5feI432in4AHBcTgHfJeTv1v9NzOFCBf65oQ3hQarZRuhCTf+y9Imdw+LNmyasENSmgg2vOSkY\\u002fBCgzU9NtygpvICNfEdqZ\\u002f2CHI1UL51AER89zWFqB3M11V6NtrT5a3ebfk2vphx3cMkdTcqFa872UbuN0WeLdCeqmI4fLF3ut3R0zgPPqnHCx9COYVtbp+viKw530ZInTFYEzrfnq77+5V2Ou8VbQ4ftdY6qYSpd6GoMzt8Dcc9gE+NOwbIk3HF0OI74ZTRsSTNNDzgfFgHcM2DPKLKIoesO9A8h7evTN7qFj3c33kHN9xbPZ+e3fkhKp09NIebVBRK2j0qKECy72cUPv2TKMxER0s+2jHTrnVmfz6focHH1B+vPo2yGjvPkNo+sIdjF3CGAz\\u002f8tVUw57YoP1SKKVIQ8Eo\\u002fn\\u002fkTX2NIaT8gfo6q9G6EP4Qvp8rTcJw\\u002fO76vWC8LsT9jEfebFJfBP7Kept3ZQ88\\u002f9vh7exPt1z9\\u002frU3Ve4jfPyM+4Zmj5OE\\u002f7zJSfmR84T9c\\u002fb38yW3dPw1bm30cU9U\\u002fv5BJnJycyj\\u002fIhJLCzJi8P\\u002f13lKktdqo\\u002f2AjZl7AVlT9AneFQAO98P4I8FdI6GGE\\u002f185yVeFkQT8CtDgXEHseP0KuEL4\\u002f\\u002f\\u002fY+qJSoa6zhzT755kwCibegPnAeCwMxG3A+eBoNI4m5Oj4+YBQunRcDPuZN6hxyfcc99EcLE+\\u002fiiD2DWMoFJLRGPbjGKRzB1gE97KAOd+KBuzy2zLWvWxDWPIpJM0OoaR49Emn8Sdk6Yj3vkOEpuNGiPbbhOCWmuuA9eGbAHGucGT4ljYlFmOFQPtkXc7q9KYM+3w0vOlS7sj7gQ+7ooojfPvzzjuQS2wY\\u002f1KqtHqKHLD91iLTJd6pOP\\u002fAgIY4qYmw\\u002fEcY3WzKfhj8yHrVjCQ2fPwbfZluvWbI\\u002fV+Yh+zGtwj+ZQ7vCRV7QP6KFSdmStNg\\u002fqU5N7gMO4D+3iGd8zPfhPyuRexDlUOE\\u002fyq5BCFC93D8dB1hDcInUP5MW8vAeRsk\\u002fn+LsRYXIuj92i2xvvnCoPxUpoWRjNJM\\u002f\\u002ffCzziX9eT9idd982UheP1\\u002f80YtyYz4\\u002fxAd3s9tBGj8oMYWATYnzPjhdiyqOCMk+\\u002fDL8lSefmz4c1cWVhT5qPj2ZXBTOeDU+WsHtvCdB\\u002fj3PQwV9plrCPR9uujYSLYM9H8G3R4FAQT1EnY316rr6PLsggEHb1LE8iFwRYmd8ZDys16EmOEQUPBD0Aaa1Q8E7FsUtpCNUaTsi0LJdg\\u002f8PO7tZ6xGHZ7E6dzZVpKlNUDpU+MI1KE3qOYJdDsq9RII5CirXn17aFTn+xPYohIKmOIZ0Ars99zM43KQHObZ\\u002fvjfVNorqCw9EN+ktVZNRuMY2mLpupOYoRjYx0wybepzCNf\\u002fgXuxr6zo1uVOhnOPEsDRABXIAin2DNK4Z4fpgLBA1mt2DlY1zlzWy63w6AUgdNoRFzS5ve58237z3zZslHTeTLtJolTyXNx0u2MBJ5w849P30qPrbgjgwqsZqJDPzOJlQBBvW1GA5CV+R8EtpyTnBwdSem4QwOhv8kaTPfZI6h5xpEUnT8Tp3y6yCyJdNO3Ub7f4GJ6U7GkePM98J+jsHaIst4plLPHUob+6LMZk81GrjJkTN4zxA9bqx5c0qPZVmO0xHPm89n6IhyuZbrz34AEszbBrrPbtnQLXWKyQ+ZQudBqDaWT6AHwY\\u002f7oiMPshQpg+HHrs+olRmN58x5j59eAzHvkcPP\\u002ff2BRZG+zI\\u002f7Nf50ETWUz9Kh\\u002fru99lxP4o1x6Oeqos\\u002foyN2fwt2oj+Ub\\u002fSFEDe1P+rEc4FX\\u002fsQ\\u002fiXYhAoLj0T\\u002f9w7v\\u002fZ0DaPzb3Q7MmluA\\u002fEs6SrGMM4j+jJHWyRengP21iGgoYSts\\u002fK+cMQ7\\u002f10j8G7JVqr6\\u002fGP4zXmuDeX7c\\u002f0m6pngW9pD+86R4OCrCPP8EFbpGm2HQ\\u002f\\u002fOB7ZVCeVz9jHiZN1Ao3P01NwYGTWxM\\u002fd8tUEccB7D6rhKgfOXLBPg6DIt9at5I+WzzCIy9KYT7PBLhLzYErPp6+PFF91\\u002fI9+Ib44SA6tj2mEOTQG5R2PS0mTEr0vzM95a0GHXfA7TwMgM0oAEyjPNSWr6MGjlU8Mywae4u7BDzz88e7\\u002fSuxO+T\\u002fZ5aDflg7zzzoM\\u002fwV\\u002fjoltp3cNNKfOh08K+RF+zw6KuVBbKC61jlaMVBW67JuOSkZSckg2gE5\\u002fGbZvfXgkTgyLwh9N9YeOOIjhH4\\u002f5qY3uGDGXUJJLTfLQlpWOyCwNg+hDBOWlS42PEIAyXj5qDV6jts6mo8hNaQ6iT0NRJU0Z9V1heEsBjSIFszba+lzM8\\u002fHtcKwyt4yqHGf\\u002fFWARDIihhY7\\u002f4GnMYVCggkKNgcxWPitjxq8YzAMN3qJn+W8L2gVzkLANxIvVPilgaDHYy5UTztF44eyLeA1pgSsmtctUYu1lhediC79kRtsSxs2LwS12XudGeEv2k9nPsPIhjBeqGclYCUqMWP2QFta18kxE5fvGDL\\u002fZTKoafWXfCAAMyPLjjXUXZQzUg\\u002fP9yYnJjR2A+HZ+MC0NF4N8+MMv0A1NMcNwutGxzV6BkoHFN5LNr2Jos6FvMw2R6ZoTPCFSTcKkQBQmobDN1toImuXuzk4VMSQJ\\u002fM1rTjARhD4uI8cOQdvXsoGDog5JhqZuF1z8Tn8BazxMs9VOnFKoMV8erc6C9KWEpbFFTtx9\\u002f74EGRxOyqz\\u002fvGo7sc7ZPjt96NeHDzfWA\\u002f3IPhsPIyUU\\u002ftqe7k8e6RC3wJPAz3AeIo\\u002f+DRJPZtkX\\u002fTrWIw9nh5r0El2yz2kV3FPHusGPuJ3+oMKekA+7b4zz7xodD4beZOZMcelPg6Q7FEaBdQ+pHF+VaW1\\u002fz5ENJOLiaIlPwqWG1p5b0k\\u002fWpvbLy3EaT9qjNCfeH6GP\\u002fjikTK67aA\\u002f\\u002fLkIqpT6tT9\\u002fF6kZU6TIP1zJayJx6Nc\\u002f9WnqvZ8m5D9HiP0xBrftP3oc+UrDZPM\\u002fzOQA4TrS9j\\u002fCaCje2sr4P2PDngm3b\\u002fk\\u002fVGhDDMvm+D\\u002f+79CMpQ\\u002f3P3ACA8dRw\\u002fM\\u002ffGnEm4WZ7j+LFIHI6\\u002f\\u002fkP1L3+\\u002f6GPNk\\u002f\\u002fv8F6Uhcyj9K0o1Kr9W3P7WZP7sUnaI\\u002f5m21tXsUiT+MBh9DQSJtP0ii49TFKk0\\u002fFGT\\u002fR1opKT\\u002fIcIJEtbMCPzJPUEjZ89c+\\u002fi4UwuNtqj5kF\\u002fsCnB95PovIGz8Uk0Q+YHbU6eoHDT5OixLM\\u002fKTRPTi48DIZepI99neGjBWrUD2bg2dnNugJPW7seOcNWME8jeXvdkMBdDwN63OHhOAjPAtQ09djA9E7tva4tJgWeTs5tfMSdt4fO+zpEbWbb8E6woY3vERvYDrIdlEF\\u002fK\\u002f6OSae6QstqpI5rt\\u002fNKRR9JjndHKwl71a3OK0RgQha3UQ4T0Pd\\u002fvAQ0DcSfqO43E9VN2GHnoHCWdg2hfIUUev2VzZjinptZFDUNbrlYb3IqU01+zAIBGynwjRp2Eh9IDU0NF\\u002fD6XWv2qIzaE\\u002fuLpNNDjNxBTrLVvl0Mh4R8ligAdkxZn6TE5KtOTFcWX71rLWWMC0x82FJTPEvWcgnNxiyRi9EIQJRY6WZLh8qZzF39egtDIATpWnrNC2VppYXqjN+LGJgUnelxsIrI2V6mwsbBCv81uzYqIpCKgHcKR7Oc30podDT0SwltCiHdUGKxLvnJwDVDdt4FBgn6NkD4FcKRSZQIv4\\u002fUapvJSDAq3kvhZQkd\\u002frvk2bntiOMPjiVBATWIg==\"},\"type\":\"scatter\"}],                        {\"template\":{\"data\":{\"scatter\":[{\"type\":\"scatter\"}]}},\"font\":{\"size\":20},\"xaxis\":{\"zeroline\":false,\"showline\":true,\"mirror\":true,\"ticks\":\"outside\",\"title\":{\"text\":\"E - E\\u003csub\\u003eF\\u003c\\u002fsub\\u003e [eV]\"}},\"yaxis\":{\"showline\":true,\"mirror\":true,\"ticks\":\"outside\",\"title\":{\"text\":\"DOS\"}},\"hoverlabel\":{\"bgcolor\":\"black\"},\"width\":800,\"height\":600},                        {\"responsive\": true}                    ).then(function(){\n",
       "                            \n",
       "var gd = document.getElementById('2e0be070-47f4-47ed-bd84-22704b3490a8');\n",
       "var x = new MutationObserver(function (mutations, observer) {{\n",
       "        var display = window.getComputedStyle(gd).display;\n",
       "        if (!display || display === 'none') {{\n",
       "            console.log([gd, 'removed!']);\n",
       "            Plotly.purge(gd);\n",
       "            observer.disconnect();\n",
       "        }}\n",
       "}});\n",
       "\n",
       "// Listen for the removal of the full notebook cells\n",
       "var notebookContainer = gd.closest('#notebook-container');\n",
       "if (notebookContainer) {{\n",
       "    x.observe(notebookContainer, {childList: true});\n",
       "}}\n",
       "\n",
       "// Listen for the clearing of the current output cell\n",
       "var outputEl = gd.closest('.output');\n",
       "if (outputEl) {{\n",
       "    x.observe(outputEl, {childList: true});\n",
       "}}\n",
       "\n",
       "                        })                };            </script>        </div>"
      ]
     },
     "metadata": {},
     "output_type": "display_data"
    }
   ],
   "source": [
    "plot_dos(scf, spin=1)"
   ]
  },
  {
   "cell_type": "code",
   "execution_count": 7,
   "id": "14ff6372-385f-48f2-b275-09285bb13e1b",
   "metadata": {},
   "outputs": [
    {
     "data": {
      "text/html": [
       "<div>            <script src=\"https://cdnjs.cloudflare.com/ajax/libs/mathjax/2.7.5/MathJax.js?config=TeX-AMS-MML_SVG\"></script><script type=\"text/javascript\">if (window.MathJax && window.MathJax.Hub && window.MathJax.Hub.Config) {window.MathJax.Hub.Config({SVG: {font: \"STIX-Web\"}});}</script>                <script type=\"text/javascript\">window.PlotlyConfig = {MathJaxConfig: 'local'};</script>\n",
       "        <script charset=\"utf-8\" src=\"https://cdn.plot.ly/plotly-3.0.1.min.js\"></script>                <div id=\"01d2f2b9-58c5-42a2-9d9c-e17267243bf4\" class=\"plotly-graph-div\" style=\"height:600px; width:800px;\"></div>            <script type=\"text/javascript\">                window.PLOTLYENV=window.PLOTLYENV || {};                                if (document.getElementById(\"01d2f2b9-58c5-42a2-9d9c-e17267243bf4\")) {                    Plotly.newPlot(                        \"01d2f2b9-58c5-42a2-9d9c-e17267243bf4\",                        [{\"marker\":{\"color\":\"blue\"},\"mode\":\"lines+markers\",\"name\":\"Band 1\",\"x\":{\"dtype\":\"f8\",\"bdata\":\"AAAAAAAAAAAXj6jjl2nBPxePqOOXadE\\u002fotZ81WMe2j8Xj6jjl2nhP95YLsgHb+U\\u002fpCK0rHd06T9q7DmR53ntPxjb37qrv\\u002fA\\u002f+78irWPC8j8=\"},\"y\":{\"dtype\":\"f8\",\"bdata\":\"++jV7Cy2I8DSlNwZfk4lwL3L+QUCSCfADqrkhWOfKMCJELV3RRYpwLoVLvoAryjASyzAbu52J8BXRtix0polwIQnJqSxDCPAD2zLn\\u002fDBH8A=\"},\"type\":\"scatter\"},{\"marker\":{\"color\":\"blue\"},\"mode\":\"lines+markers\",\"name\":\"Band 2\",\"x\":{\"dtype\":\"f8\",\"bdata\":\"AAAAAAAAAAAXj6jjl2nBPxePqOOXadE\\u002fotZ81WMe2j8Xj6jjl2nhP95YLsgHb+U\\u002fpCK0rHd06T9q7DmR53ntPxjb37qrv\\u002fA\\u002f+78irWPC8j8=\"},\"y\":{\"dtype\":\"f8\",\"bdata\":\"DXQ\\u002fmvyaHsAe0dh5980ZwKbuqMxxvxDAJI5EKbo\\u002f+r8ArWHE1+u0P8iUhJLTX+e\\u002fWMzOlAwQA8CMwv4UIwARwN6bO5B4lxjAwmkKSdK0H8A=\"},\"type\":\"scatter\"},{\"marker\":{\"color\":\"blue\"},\"mode\":\"lines+markers\",\"name\":\"Band 3\",\"x\":{\"dtype\":\"f8\",\"bdata\":\"AAAAAAAAAAAXj6jjl2nBPxePqOOXadE\\u002fotZ81WMe2j8Xj6jjl2nhP95YLsgHb+U\\u002fpCK0rHd06T9q7DmR53ntPxjb37qrv\\u002fA\\u002f+78irWPC8j8=\"},\"y\":{\"dtype\":\"f8\",\"bdata\":\"9NunOIc49b80KUO5hlTzvzAKs+WMGOu\\u002fcEOItF0i0r+AgsFMQRW3P6DmdHwoSua\\u002f1L1SMxZ4\\u002fL90cHMZrgYFwNxpLz5LOQnAJOyeV12XCsA=\"},\"type\":\"scatter\"},{\"marker\":{\"color\":\"blue\"},\"mode\":\"lines+markers\",\"name\":\"Band 4\",\"x\":{\"dtype\":\"f8\",\"bdata\":\"AAAAAAAAAAAXj6jjl2nBPxePqOOXadE\\u002fotZ81WMe2j8Xj6jjl2nhP95YLsgHb+U\\u002fpCK0rHd06T9q7DmR53ntPxjb37qrv\\u002fA\\u002f+78irWPC8j8=\"},\"y\":{\"dtype\":\"f8\",\"bdata\":\"hCbcsvEJ9b8IbTcprSTzv\\u002fCVtetrs+q\\u002fkP0o6TYr0L+AXebnZUG5P\\u002fji6d2CZuW\\u002fhJNIj\\u002fD0+7++7F8BasMEwPZNREZj9QjAsNfqlSpMCsA=\"},\"type\":\"scatter\"},{\"line\":{\"dash\":\"dash\"},\"marker\":{\"color\":\"blue\"},\"mode\":\"lines+markers\",\"name\":\"Unocc. band 1\",\"x\":{\"dtype\":\"f8\",\"bdata\":\"AAAAAAAAAAAXj6jjl2nBPxePqOOXadE\\u002fotZ81WMe2j8Xj6jjl2nhP95YLsgHb+U\\u002fpCK0rHd06T9q7DmR53ntPxjb37qrv\\u002fA\\u002f+78irWPC8j8=\"},\"y\":{\"dtype\":\"f8\",\"bdata\":\"XItp11Bh\\u002fz8cWPuIfUX+P5p3WgZSagFA6kfqO0HTA0DW81QCfrcBQNSsOIy0f\\u002fw\\u002fGFcvyYhE7j8w2JQCjqLQP8Bd5udlQbm\\u002fgJR+tQgppb8=\"},\"type\":\"scatter\"},{\"line\":{\"dash\":\"dash\"},\"marker\":{\"color\":\"blue\"},\"mode\":\"lines+markers\",\"name\":\"Unocc. band 2\",\"x\":{\"dtype\":\"f8\",\"bdata\":\"AAAAAAAAAAAXj6jjl2nBPxePqOOXadE\\u002fotZ81WMe2j8Xj6jjl2nhP95YLsgHb+U\\u002fpCK0rHd06T9q7DmR53ntPxjb37qrv\\u002fA\\u002f+78irWPC8j8=\"},\"y\":{\"dtype\":\"f8\",\"bdata\":\"9sZQRy+uBkD62zjFTwwIQLLb5nfv7glAKpJrzEDzBUA+aSg0l8sBQD6WaA9IyglAln3mWZosC0CU1E70nFz6P\\u002fjZx2zNK+E\\u002fACg5njkrjD8=\"},\"type\":\"scatter\"},{\"line\":{\"dash\":\"dash\"},\"marker\":{\"color\":\"blue\"},\"mode\":\"lines+markers\",\"name\":\"Unocc. band 3\",\"x\":{\"dtype\":\"f8\",\"bdata\":\"AAAAAAAAAAAXj6jjl2nBPxePqOOXadE\\u002fotZ81WMe2j8Xj6jjl2nhP95YLsgHb+U\\u002fpCK0rHd06T9q7DmR53ntPxjb37qrv\\u002fA\\u002f+78irWPC8j8=\"},\"y\":{\"dtype\":\"f8\",\"bdata\":\"Frq1+w3CBkACqj\\u002f3ZSEIQGIs+8VpBQpAWgSzEfz\\u002fBUDSs9ifFdQBQMIIRVvT+glALXT1eq7nE0AR6wEG1qQbQCRGCXTyxiFAQtcC4LARJUA=\"},\"type\":\"scatter\"},{\"line\":{\"dash\":\"dash\"},\"marker\":{\"color\":\"blue\"},\"mode\":\"lines+markers\",\"name\":\"Unocc. band 4\",\"x\":{\"dtype\":\"f8\",\"bdata\":\"AAAAAAAAAAAXj6jjl2nBPxePqOOXadE\\u002fotZ81WMe2j8Xj6jjl2nhP95YLsgHb+U\\u002fpCK0rHd06T9q7DmR53ntPxjb37qrv\\u002fA\\u002f+78irWPC8j8=\"},\"y\":{\"dtype\":\"f8\",\"bdata\":\"A4yZiay2GkD51BxgEbsbQLMmw3Zh6htAreAH9A8yFkCplQ44dkESQIMh\\u002fdyWARRAw4o0x40AFEBrc1UwKgEcQFyLKJ+uzyFA9OKN3xQaJUA=\"},\"type\":\"scatter\"},{\"marker\":{\"color\":\"red\"},\"mode\":\"lines+markers\",\"name\":\"Band 1\",\"x\":{\"dtype\":\"f8\",\"bdata\":\"AAAAAAAAAAAXj6jjl2nBPxePqOOXadE\\u002fotZ81WMe2j8Xj6jjl2nhP95YLsgHb+U\\u002fpCK0rHd06T9q7DmR53ntPxjb37qrv\\u002fA\\u002f+78irWPC8j8=\"},\"y\":{\"dtype\":\"f8\",\"bdata\":\"UIc1abi1I8DC61VMPU4lwPBEJPTWRyfAxvQSUfiiKMAcrxlTvBgpwBJ2aufgrijA3kQ7LMx2J8DsykVPrpolwEfJOoaIDCPAqIyFotXFH8A=\"},\"type\":\"scatter\"},{\"marker\":{\"color\":\"red\"},\"mode\":\"lines+markers\",\"name\":\"Band 2\",\"x\":{\"dtype\":\"f8\",\"bdata\":\"AAAAAAAAAAAXj6jjl2nBPxePqOOXadE\\u002fotZ81WMe2j8Xj6jjl2nhP95YLsgHb+U\\u002fpCK0rHd06T9q7DmR53ntPxjb37qrv\\u002fA\\u002f+78irWPC8j8=\"},\"y\":{\"dtype\":\"f8\",\"bdata\":\"lgWfpJubHsBkMsXcLc4ZwMt\\u002fjgtfvxDASHHr1K+Q+r8AA2w5iyS1Pxhq2xFPWOe\\u002fei\\u002fX\\u002fAwOA8AiLPGJd\\u002f8QwNyj8Zv3lhjAiAk7CSS0H8A=\"},\"type\":\"scatter\"},{\"marker\":{\"color\":\"red\"},\"mode\":\"lines+markers\",\"name\":\"Band 3\",\"x\":{\"dtype\":\"f8\",\"bdata\":\"AAAAAAAAAAAXj6jjl2nBPxePqOOXadE\\u002fotZ81WMe2j8Xj6jjl2nhP95YLsgHb+U\\u002fpCK0rHd06T9q7DmR53ntPxjb37qrv\\u002fA\\u002f+78irWPC8j8=\"},\"y\":{\"dtype\":\"f8\",\"bdata\":\"dDYQwcAx9b98z4a04k3zv5jaN\\u002fRiCeu\\u002f4N++PaQ507+AaqD+QvK1PxBraXmluOa\\u002fCHiOR2m7\\u002fL86NR6kxCkFwBixuuLGXAnAqO0hiiPFCsA=\"},\"type\":\"scatter\"},{\"marker\":{\"color\":\"red\"},\"mode\":\"lines+markers\",\"name\":\"Band 4\",\"x\":{\"dtype\":\"f8\",\"bdata\":\"AAAAAAAAAAAXj6jjl2nBPxePqOOXadE\\u002fotZ81WMe2j8Xj6jjl2nhP95YLsgHb+U\\u002fpCK0rHd06T9q7DmR53ntPxjb37qrv\\u002fA\\u002f+78irWPC8j8=\"},\"y\":{\"dtype\":\"f8\",\"bdata\":\"GIZXPikR9b\\u002f4L0D6BCzzvwjzGHD4wOq\\u002fQASZVKad0r9AS2FV7724Pzha4T5a8uS\\u002fQIFF8ryu+7+k7Gl\\u002f554EwIYO\\u002fb8X0AjAzrO6\\u002fQc4CsA=\"},\"type\":\"scatter\"},{\"line\":{\"dash\":\"dash\"},\"marker\":{\"color\":\"red\"},\"mode\":\"lines+markers\",\"name\":\"Unocc. band 1\",\"x\":{\"dtype\":\"f8\",\"bdata\":\"AAAAAAAAAAAXj6jjl2nBPxePqOOXadE\\u002fotZ81WMe2j8Xj6jjl2nhP95YLsgHb+U\\u002fpCK0rHd06T9q7DmR53ntPxjb37qrv\\u002fA\\u002f+78irWPC8j8=\"},\"y\":{\"dtype\":\"f8\",\"bdata\":\"5LEVWAlc\\u002fz\\u002fcF0Te9T\\u002f+P4rYmDtdaAFAMjXfuHgPBEDCY7rLIrcBQOyAvxysePw\\u002fqFXpx1Y97j+weGqdkWDQPwA9IwEXMbm\\u002fAOQW2g1ph78=\"},\"type\":\"scatter\"},{\"line\":{\"dash\":\"dash\"},\"marker\":{\"color\":\"red\"},\"mode\":\"lines+markers\",\"name\":\"Unocc. band 2\",\"x\":{\"dtype\":\"f8\",\"bdata\":\"AAAAAAAAAAAXj6jjl2nBPxePqOOXadE\\u002fotZ81WMe2j8Xj6jjl2nhP95YLsgHb+U\\u002fpCK0rHd06T9q7DmR53ntPxjb37qrv\\u002fA\\u002f+78irWPC8j8=\"},\"y\":{\"dtype\":\"f8\",\"bdata\":\"hs6D\\u002faW0BkCqSzHWwxIIQEYOhHs19glAqu7DctUSBkDKEThASNEBQHbXVb8rrwlACoAXTposC0CUtW8udkr6Pygy7wG2IuE\\u002fAGk9HqN2mT8=\"},\"type\":\"scatter\"},{\"line\":{\"dash\":\"dash\"},\"marker\":{\"color\":\"red\"},\"mode\":\"lines+markers\",\"name\":\"Unocc. band 3\",\"x\":{\"dtype\":\"f8\",\"bdata\":\"AAAAAAAAAAAXj6jjl2nBPxePqOOXadE\\u002fotZ81WMe2j8Xj6jjl2nhP95YLsgHb+U\\u002fpCK0rHd06T9q7DmR53ntPxjb37qrv\\u002fA\\u002f+78irWPC8j8=\"},\"y\":{\"dtype\":\"f8\",\"bdata\":\"enxq9q3DBkA28aXlEiMIQIIMceNqCgpAcocGcWkrBkAWZfcX7dQBQJa4MdoWFgpAVZydVKXaE0DRukKlhYkbQOAxhO\\u002fXwiFA\\u002fsnOFMIjJUA=\"},\"type\":\"scatter\"},{\"line\":{\"dash\":\"dash\"},\"marker\":{\"color\":\"red\"},\"mode\":\"lines+markers\",\"name\":\"Unocc. band 4\",\"x\":{\"dtype\":\"f8\",\"bdata\":\"AAAAAAAAAAAXj6jjl2nBPxePqOOXadE\\u002fotZ81WMe2j8Xj6jjl2nhP95YLsgHb+U\\u002fpCK0rHd06T9q7DmR53ntPxjb37qrv\\u002fA\\u002f+78irWPC8j8=\"},\"y\":{\"dtype\":\"f8\",\"bdata\":\"Pawrvna3GkDz2W7upbobQAeJWBse\\u002fBtACWAPjmSxFkAr0XDaoUMSQJNFfX+cAhRA+416RywOFEAHhcbbDbUbQIbCahro0yFA0L4nmzZxJUA=\"},\"type\":\"scatter\"}],                        {\"template\":{\"data\":{\"scatter\":[{\"type\":\"scatter\"}]}},\"font\":{\"size\":20},\"xaxis\":{\"zeroline\":false,\"showline\":true,\"mirror\":true,\"ticks\":\"outside\",\"tickmode\":\"array\",\"tickvals\":{\"dtype\":\"f8\",\"bdata\":\"AAAAAAAAAAAXj6jjl2nhP\\u002fu\\u002fIq1jwvI\\u002f\"},\"ticktext\":[\"L\",\"\\u0393\",\"X\"],\"gridcolor\":\"grey\",\"gridwidth\":2,\"range\":[0,1.1724583399882238],\"title\":{\"text\":\"k-path\"}},\"yaxis\":{\"zeroline\":false,\"showline\":true,\"mirror\":true,\"ticks\":\"outside\",\"showgrid\":false,\"title\":{\"text\":\"E - E\\u003csub\\u003eF\\u003c\\u002fsub\\u003e [eV]\"}},\"hoverlabel\":{\"bgcolor\":\"black\"},\"width\":800,\"height\":600,\"showlegend\":false},                        {\"responsive\": true}                    ).then(function(){\n",
       "                            \n",
       "var gd = document.getElementById('01d2f2b9-58c5-42a2-9d9c-e17267243bf4');\n",
       "var x = new MutationObserver(function (mutations, observer) {{\n",
       "        var display = window.getComputedStyle(gd).display;\n",
       "        if (!display || display === 'none') {{\n",
       "            console.log([gd, 'removed!']);\n",
       "            Plotly.purge(gd);\n",
       "            observer.disconnect();\n",
       "        }}\n",
       "}});\n",
       "\n",
       "// Listen for the removal of the full notebook cells\n",
       "var notebookContainer = gd.closest('#notebook-container');\n",
       "if (notebookContainer) {{\n",
       "    x.observe(notebookContainer, {childList: true});\n",
       "}}\n",
       "\n",
       "// Listen for the clearing of the current output cell\n",
       "var outputEl = gd.closest('.output');\n",
       "if (outputEl) {{\n",
       "    x.observe(outputEl, {childList: true});\n",
       "}}\n",
       "\n",
       "                        })                };            </script>        </div>"
      ]
     },
     "metadata": {},
     "output_type": "display_data"
    }
   ],
   "source": [
    "# Test the plotting of both spin channels\n",
    "plot_bandstructure(scf, spin=(0, 1))"
   ]
  },
  {
   "cell_type": "code",
   "execution_count": 8,
   "id": "d3762853-b65a-4467-b565-41a99fcf5e3d",
   "metadata": {},
   "outputs": [
    {
     "data": {
      "text/html": [
       "<div>            <script src=\"https://cdnjs.cloudflare.com/ajax/libs/mathjax/2.7.5/MathJax.js?config=TeX-AMS-MML_SVG\"></script><script type=\"text/javascript\">if (window.MathJax && window.MathJax.Hub && window.MathJax.Hub.Config) {window.MathJax.Hub.Config({SVG: {font: \"STIX-Web\"}});}</script>                <script type=\"text/javascript\">window.PlotlyConfig = {MathJaxConfig: 'local'};</script>\n",
       "        <script charset=\"utf-8\" src=\"https://cdn.plot.ly/plotly-3.0.1.min.js\"></script>                <div id=\"67cf5a76-a9a7-4c18-a72e-9daef63fdeec\" class=\"plotly-graph-div\" style=\"height:600px; width:800px;\"></div>            <script type=\"text/javascript\">                window.PLOTLYENV=window.PLOTLYENV || {};                                if (document.getElementById(\"67cf5a76-a9a7-4c18-a72e-9daef63fdeec\")) {                    Plotly.newPlot(                        \"67cf5a76-a9a7-4c18-a72e-9daef63fdeec\",                        [{\"marker\":{\"color\":\"blue\"},\"mode\":\"lines+markers\",\"name\":\"Spin 1\",\"x\":{\"dtype\":\"f8\",\"bdata\":\"iRC1d0UWKsCo16IXRggqwMiekLdG+inA6GV+V0fsKcAILWz3R94pwCj0WZdI0CnAR7tHN0nCKcBmgjXXSbQpwIZJI3dKpinAphARF0uYKcDG1\\u002f62S4opwOae7FZMfCnABWba9kxuKcAkLciWTWApwET0tTZOUinAZLuj1k5EKcCEgpF2TzYpwKRJfxZQKCnAwxBttlAaKcDi11pWUQwpwAKfSPZR\\u002fijAImY2llLwKMBCLSQ2U+IowGL0EdZT1CjAgbv\\u002fdVTGKMChgu0VVbgowMBJ27VVqijA4BDJVVacKMAA2Lb1Vo4owCCfpJVXgCjAP2aSNVhyKMBfLYDVWGQowH70bXVZVijAnrtbFVpIKMC+gkm1WjoowN5JN1VbLCjA\\u002fRAl9VseKMAd2BKVXBAowDyfADVdAijAXGbu1F30J8B8Ldx0XuYnwJz0yRRf2CfAvLu3tF\\u002fKJ8DbgqVUYLwnwPpJk\\u002fRgrifAGhGBlGGgJ8A62G40YpInwFqfXNRihCfAeWZKdGN2J8CZLTgUZGgnwLj0JbRkWifA2LsTVGVMJ8D4ggH0ZT4nwBhK75NmMCfANxHdM2ciJ8BX2MrTZxQnwHafuHNoBifAlmamE2n4JsC2LZSzaeomwNb0gVNq3CbA9btv82rOJsAVg12Ta8AmwDRKSzNssibAVBE502ykJsB02CZzbZYmwJSfFBNuiCbAtGYCs256JsDTLfBSb2wmwPP03fJvXibAErzLknBQJsAyg7kycUImwFJKp9JxNCbAchGVcnImJsCR2IIScxgmwLGfcLJzCibA0GZeUnT8JcDwLUzydO4lwBD1OZJ14CXAMLwnMnbSJcBPgxXSdsQlwG9KA3J3tiXAjhHxEXioJcCu2N6xeJolwM6fzFF5jCXA7ma68Xl+JcANLqiRenAlwC31lTF7YiXATLyD0XtUJcBsg3FxfEYlwIxKXxF9OCXArBFNsX0qJcDL2DpRfhwlwOufKPF+DiXACmcWkX8AJcAqLgQxgPIkwEr18dCA5CTAarzfcIHWJMCJg80QgsgkwKlKu7CCuiTAyBGpUIOsJMDo2Jbwg54kwAighJCEkCTAKGdyMIWCJMBHLmDQhXQkwGf1TXCGZiTAhrw7EIdYJMCmgymwh0okwMZKF1CIPCTA5hEF8IguJMAF2fKPiSAkwCWg4C+KEiTARGfOz4oEJMBkLrxvi\\u002fYjwIT1qQ+M6CPApLyXr4zaI8DDg4VPjcwjwONKc++NviPAAhJhj46wI8Ai2U4vj6IjwEKgPM+PlCPAYmcqb5CGI8CBLhgPkXgjwKH1Ba+RaiPAwbzzTpJcI8Dgg+Hukk4jwABLz46TQCPAIBK9LpQyI8A\\u002f2arOlCQjwF+gmG6VFiPAf2eGDpYII8CeLnSulvoiwL71YU6X7CLA3rxP7pfeIsD9gz2OmNAiwB1LKy6ZwiLAPRIZzpm0IsBc2QZumqYiwHyg9A2bmCLAnGfirZuKIsC8LtBNnHwiwNv1ve2cbiLA+7yrjZ1gIsAahJktnlIiwDpLh82eRCLAWhJ1bZ82IsB62WINoCgiwJmgUK2gGiLAuWc+TaEMIsDYLiztof4hwPj1GY2i8CHAGL0HLaPiIcA4hPXMo9QhwFdL42ykxiHAdxLRDKW4IcCW2b6spaohwLagrEymnCHA1mea7KaOIcD2LoiMp4AhwBX2dSyociHANb1jzKhkIcBUhFFsqVYhwHRLPwyqSCHAlBItrKo6IcC02RpMqywhwNOgCOyrHiHA82f2i6wQIcASL+QrrQIhwDL20cut9CDAUr2\\u002fa67mIMByhK0Lr9ggwJFLm6uvyiDAsRKJS7C8IMDQ2XbrsK4gwPCgZIuxoCDAEGhSK7KSIMAwL0DLsoQgwE\\u002f2LWuzdiDAb70bC7RoIMCOhAmrtFogwK5L90q1TCDAzhLl6rU+IMDu2dKKtjAgwA6hwCq3IiDALWiuyrcUIMBML5xquAYgwNnsExVy8R\\u002fAGHvvVHPVH8BXCcuUdLkfwJeXptR1nR\\u002fA1iWCFHeBH8AVtF1UeGUfwFVCOZR5SR\\u002fAlNAU1HotH8DTXvATfBEfwBPty1N99R7AUnunk37ZHsCRCYPTf70ewNGXXhOBoR7AECY6U4KFHsBPtBWTg2kewI9C8dKETR7AztDMEoYxHsANX6hShxUewE3tg5KI+R3AjHtf0ondHcDLCTsSi8EdwAuYFlKMpR3ASibykY2JHcCKtM3Rjm0dwMlCqRGQUR3ACNGEUZE1HcBIX2CRkhkdwIftO9GT\\u002fRzAxnsXEZXhHMAGCvNQlsUcwEWYzpCXqRzAhCaq0JiNHMDEtIUQmnEcwANDYVCbVRzAQtE8kJw5HMCCXxjQnR0cwMHt8w+fARzAAHzPT6DlG8BACquPockbwH+Yhs+irRvAviZiD6SRG8D+tD1PpXUbwD1DGY+mWRvAfNH0zqc9G8C8X9AOqSEbwPvtq06qBRvAOnyHjqvpGsB6CmPOrM0awLmYPg6usRrA+CYaTq+VGsA4tfWNsHkawHdD0c2xXRrAttGsDbNBGsD2X4hNtCUawDXuY421CRrAdHw\\u002fzbbtGcC0ChsNuNEZwPOY9ky5tRnAMyfSjLqZGcByta3Mu30ZwLFDiQy9YRnA8dFkTL5FGcAwYECMvykZwG\\u002fuG8zADRnAr3z3C8LxGMDuCtNLw9UYwC2ZrovEuRjAbSeKy8WdGMCstWULx4EYwOtDQUvIZRjAK9Ici8lJGMBqYPjKyi0YwKnu0wrMERjA6XyvSs31F8AoC4uKztkXwGeZZsrPvRfApydCCtGhF8DmtR1K0oUXwCVE+YnTaRfAZdLUydRNF8CkYLAJ1jEXwOPui0nXFRfAI31nidj5FsBiC0PJ2d0WwKGZHgnbwRbA4Sf6SNylFsAgttWI3YkWwGBEscjebRbAn9KMCOBRFsDeYGhI4TUWwB7vQ4jiGRbAXX0fyOP9FcCcC\\u002fsH5eEVwNyZ1kfmxRXAGyiyh+epFcBato3H6I0VwJpEaQfqcRXA2dJER+tVFcAYYSCH7DkVwFjv+8btHRXAl33XBu8BFcDWC7NG8OUUwBaajobxyRTAVShqxvKtFMCUtkUG9JEUwNREIUb1dRTAE9P8hfZZFMBSYdjF9z0UwJLvswX5IRTA0n2PRfoFFMAQDGuF++kTwFCaRsX8zRPAkCgiBf6xE8DOtv1E\\u002f5UTwA5F2YQAehPATtO0xAFeE8CMYZAEA0ITwMzva0QEJhPADH5HhAUKE8BKDCPEBu4SwIqa\\u002fgMI0hLAyijaQwm2EsAIt7WDCpoSwEhFkcMLfhLAiNNsAw1iEsDGYUhDDkYSwAbwI4MPKhLARn7\\u002fwhAOEsCEDNsCEvIRwMSatkIT1hHABCmSghS6EcBCt23CFZ4RwIJFSQIXghHAwtMkQhhmEcAAYgCCGUoRwEDw28EaLhHAgH63ARwSEcC+DJNBHfYQwP6aboEe2hDAPilKwR++EMB8tyUBIaIQwLxFAUEihhDA\\u002fNPcgCNqEMA6YrjAJE4QwHrwkwAmMhDAun5vQCcWEMDwGZYAUfQPwHA2TYBTvA\\u002fA8FIEAFaED8Bsb7t\\u002fWEwPwOyLcv9aFA\\u002fAbKgpf13cDsDoxOD+X6QOwGjhl35ibA7A6P1O\\u002fmQ0DsBkGgZ+Z\\u002fwNwOQ2vf1pxA3AZFN0fWyMDcDgbyv9blQNwGCM4nxxHA3A4KiZ\\u002fHPkDMBcxVB8dqwMwNzhB\\u002fx4dAzAXP6+e3s8DMDYGnb7fQQMwFg3LXuAzAvA2FPk+oKUC8BUcJt6hVwLwNSMUvqHJAvAVKkJeorsCsDUxcD5jLQKwFDid3mPfArA0P4u+ZFECsBQG+Z4lAwKwMw3nfiW1AnATFRUeJmcCcDMcAv4m2QJwEiNwneeLAnAyKl596D0CMBIxjB3o7wIwMTi5\\u002falhAjARP+edqhMCMDEG1b2qhQIwEA4DXat3AfAwFTE9a+kB8BAcXt1smwHwLyNMvW0NAfAPKrpdLf8BsC8xqD0ucQGwDjjV3S8jAbAuP8O9L5UBsA4HMZzwRwGwLQ4ffPD5AXANFU0c8asBcC0cevyyHQFwDCOonLLPAXAsKpZ8s0EBcAwxxBy0MwEwKzjx\\u002fHSlATALAB\\u002fcdVcBMCsHDbx1yQEwCg57XDa7APAqFWk8Ny0A8Aocltw33wDwKSOEvDhRAPAJKvJb+QMA8Ckx4Dv5tQCwCDkN2\\u002fpnALAoADv7utkAsAgHaZu7iwCwJw5Xe7w9AHAHFYUbvO8AcCccsvt9YQBwBiPgm34TAHAmKs57foUAcAYyPBs\\u002fdwAwJTkp+z\\u002fpADAFAFfbAJtAMCUHRbsBDUAwCB0mtcO+v+\\u002fIK0I1xOK\\u002f78g5nbWGBr\\u002fvxgf5dUdqv6\\u002fGFhT1SI6\\u002fr8YkcHUJ8r9vxDKL9QsWv2\\u002fEAOe0zHq\\u002fL8QPAzTNnr8vwh1etI7Cvy\\u002fCK7o0UCa+78I51bRRSr7vwggxdBKuvq\\u002fAFkz0E9K+r8AkqHPVNr5vwDLD89Zavm\\u002f+AN+zl76+L\\u002f4POzNY4r4v\\u002fh1Ws1oGvi\\u002f8K7IzG2q97\\u002fw5zbMcjr3v\\u002fAgpct3yva\\u002f6FkTy3xa9r\\u002fokoHKger1v+jL78mGevW\\u002f4AReyYsK9b\\u002fgPczIkJr0v+B2OsiVKvS\\u002f2K+ox5q687\\u002fY6BbHn0rzv9ghhcak2vK\\u002f0Frzxalq8r\\u002fQk2HFrvrxv9DMz8SzivG\\u002fyAU+xLga8b\\u002fIPqzDvarwv8h3GsPCOvC\\u002fgGERhY+V77+A0+2DmbXuv4BFyoKj1e2\\u002fcLemga317L9wKYOAtxXsv3CbX3\\u002fBNeu\\u002fYA08fstV6r9gfxh91XXpv2Dx9Hvflei\\u002fUGPReum1579Q1a1589Xmv1BHinj99eW\\u002fQLlmdwcW5b9AK0N2ETbkv0CdH3UbVuO\\u002fMA\\u002f8cyV24r8wgdhyL5bhvzDztHE5tuC\\u002fQMoi4Yas379Artvemuzdv0CSlNyuLNy\\u002fIHZN2sJs2r8gWgbY1qzYvyA+v9Xq7Na\\u002fACJ40\\u002f4s1b8ABjHREm3TvwDq6c4mrdG\\u002fwJtFmXXaz7\\u002fAY7eUnVrMv8ArKZDF2si\\u002fgPOai+1axb+AuwyHFdvBvwAH\\u002fQR7try\\u002fgJbg+8q2tb8ATYjlNW6tvwDanqar3Z6\\u002fAMBoEVz3Zr8AqESi1B+ZPwA0W2NKj6o\\u002fgArKOlVHtD+AeuZDBUe7P2B1gaZaI8E\\u002fYK0PqzKjxD9g5Z2vCiPIP2AdLLTioss\\u002fYFW6uLoizz\\u002fwRqReSVHRP\\u002fBi62A1EdM\\u002f8H4yYyHR1D\\u002fwmnllDZHWP\\u002fC2wGf5UNg\\u002f8NIHauUQ2j8w705s0dDbPzALlm69kN0\\u002fMCfdcKlQ3z+YIZK5SojgP5ivtbpAaOE\\u002fmD3ZuzZI4j+4y\\u002fy8LCjjPw==\"},\"y\":{\"dtype\":\"f8\",\"bdata\":\"R7qnpLoHIy7ES3gwWH3SLhBh8KGw8H4vO9bx5P9KJjCIf2PPG6rLMNRUJO9HkG0xjPob3tk0CzILecN5lY+lMhKJLAe+bT0zdyQVEJFL0TNTtdPFj4FhNF8x8kS+hO40fFoRenTodjX\\u002fah86nZ39NX5+JodSfIA2\\u002fS5o7UCc\\u002fzbSHzAVBxl6N8\\u002f2sGwJjvI3Jn3UG3y4Zjg3HnW1cPXXODCOeGmlwUU58bGe820DsTlzdmq2B+oWOkC4YYqUk3o6td3f4lSL2jqc\\u002f65XuNQ2OzD60kIX6ZA7UAF0n4yS5Ts694Oe1rI3PE9oE+lha4Y8KQnHe7ZD0jwq+BNrjaAZPcQHNe8S9149aexIjCgcoD2nCaDq597cPbrnuhIWRxY+YFDWSlqbTT6BAVnWJfGAPhpb+1KCsrA+iIB5V65X3D6N5+oN+7YEP6hwluBQEyo\\u002fnLqhLxVETD8VP99b12JqP6fvc\\u002fQVNoU\\u002fdO6u0RlenT9opghz34GxPxP00w+6+cE\\u002fQk3tBYXJzz\\u002fFa\\u002fmBBjTYP2KnBAFkvd8\\u002fUOHm7gTs4T\\u002f1MdWr3G3hP\\u002fWVCMZgMd0\\u002f8pqtDL0N1T\\u002fdrIBFqCbKPz24WPrr+Ls\\u002fKtzoJiLEqT+8Ncc1RHCUP5q+PuxB7Hs\\u002f4R2DP\\u002fJsYD\\u002fke77QNKRAPxDskynMCR0\\u002fOv2c2DnR9T6GwCRpYDvMPpKEOmTLdZ8+5S32T5cwbj7RS7\\u002frxPI4Pj2qqJ\\u002fWwwE+uSLZhX6zyD3k3\\u002fEzUCnWPfT\\u002f6X2\\u002f1RA+8LWFQ6XBRj43kqQMXn56PkZL9mDXj6o+6Q8s78ju1j48IO5K5AwBP\\u002fsCnqBX1SU\\u002fkdENp4ETSD\\u002f3KY+U89xmPw5B8G9SsoI\\u002fWIiplzlVmj9YWHYpR\\u002fCvP\\u002fAVnTjyrcA\\u002fsMEWKjMBzj+KUlkwkj3XPygfUUPsAN8\\u002fNyLCUP3O4T8wq17qMJ7hPyLmyZ\\u002fGBN4\\u002f2rCVfeYF1j\\u002fEcm1K1NPLP5XG+0KRR74\\u002fRUu+A35frD9sZnhAIeWWP\\u002fkt3w2t0X8\\u002fTkPCN2sKYz9RUglVwZ9DP1W6KWHCaiE\\u002fUbUfrLKf+j7OFBwhpYbRPmys0quCGqQ+xCons0DYgj67xiza7BKjPg4g6oCmq9A+FjQ+IL1s+T6pIqpd67IgP2PRbzDR40I\\u002fVYoIr8RmYj\\u002fWSYn8kt9+PwGh3iGYTZY\\u002fFPW5kOa\\u002fqz9q0JLUd7u9P8ezBI70bss\\u002fewrNPTjM1T\\u002f0uCkheNTdP9C+gfOzk+E\\u002fPx5hIITW4T\\u002f1bstRti3fPwix1\\u002fb9dtc\\u002fMAxXRT5qzj+TRl4tl\\u002fnAP3YUvCAlUbA\\u002fmkZuSnIDmz8gpjoWl0GDP5VCxEIspGc\\u002f817zOrP+SD9gytbowMEmP3A9Izml1wE\\u002fG5KMefkX2D7VuC\\u002f6iASsPvTIzfWdDnw+p6MmVgUySD4I8g2G1vcRPpH5RWlR+9Y9LeRd2BpQmT3GG411aQJYPQnuvfdunBM9BZAS47KWyzwmstxxF7aAPMojr+IgbzE80oK6+VZT3zu4MX1sOjyIO6v+tE59JTA7lBIyjQeH0jpv1mUkyE5yOmqbApZWKA86ppYXafjUpjlwSaC42dA8ObTrodaCUc841CUMAetPXTiX+sLZEKDnN6UyVYPUZXA3H+mG4ySa8zabaGEn2C10NjMqrK2D4\\u002fE1hxuiqDVQazV4pMnliOMANQz9iT5pZII1k3pczxh+BzbDK+ERRNeJNsJPp6syegg3DSykTmn3gzdg3P3ICg38N6+S+TXx93A4g+gs57+t4Tifiyud87hPOV5LW0Rqgrg5302e+qROIDpPiMs+1K+COlhjEQzCcOI6tUXdDWNXPzvc8hHoj++WO9o+zTB56Ow77AItGWZgPzyQp8IPxVONPGpfHBcOm9c8PogEKLpcID1A8ToJjIhjPakX8V7TFKQ9YVh1NDnH4T06yV0ulRsbPrcCT80MzFE+Pzf8LrwfhD7wlaoaeZizPioMPyKGbuA+1kY5jiq7Bz9aFNMXq4MtP8\\u002fdo5Q3nE8\\u002fXVXNBX4nbT\\u002fDMwth1yeHP6fqSbzhrJ8\\u002frSCo5R6osj8jmmJtEO3CP\\u002fuFF8mQiNA\\u002faAQ+Pzfg2D8D0GGbjB3gP7Qs5fAn++E\\u002fS+1ssuxG4T9FCV30XJfcP6mcU2hkX9Q\\u002fhorvcHMAyT\\u002fP7RDXKWy6P4RmXRb8C6g\\u002fP7v2aJjYkj+mwpvtS3B5Px1ztQfakV0\\u002frBbxoWeZPT\\u002fcjNVOz4MZP5ucJZC28PI+lIjzQBw3yD583KZDJqmaPkyhR0wNR2k+qDje9nKjND7zVDL3rQX9PfZMZtWMksE98OlzATZTgj1q6klw3XRAPZMkZ\\u002fe8dvk86IIycJoJtjwW2H2+iTbgPA8jHqADCyY9CjIoVOjtaT2nTm8sGUSqPY2Z+8uo6eY9SNMxCFs2IT61mi3EA0VWPlnPE1Xqz4g+M8latHzOtz6AqzWelKvjPk9KJg7r\\u002fQs\\u002f4LoW380mMT9pLKGMrhlSPxceh4UHc3A\\u002fWjy6uSK\\u002fiT\\u002fDZiBsCVqhP7R1ojsDJLQ\\u002fKb9iL8chxD\\u002fIobyPQ1TRP4C7N4ndsNk\\u002fUjGEV0Vm4D93MbqxowfiPzROR9LqEeE\\u002fRWC7VqbV2z9ClHyz8YrTP7QEd5e9occ\\u002frAcyjdCbuD9kGl1eWhGmP\\u002fl5oVikCpE\\u002fcAgul2+qdj9CoEqe2\\u002fVZP+ynfwj8mjk\\u002fg4NlVKe\\u002fFT+AMUKQ19DvPlQnoqpNCsQ+bO+4DJ69lT4j1TQUhk9kPuDeTGcOVzA+B2asZhKk9j1VCD3t+gO7Peflfxx3wns9YpJEj02QOD2vOENOvbfyPECBI4e6kKg8mmFcaW3DWzxUN398YgULPEvHJjKkpbY73E8943hYYDux5+jGolEEOzSWUE1BwKU6DWA9DBUNRDpPCSwqztXfOaz7P21sw3U55bLM8N2fCTmfgYAaQvuZOBTTfkGLryY4OgW1MscOsTcc\\u002fWiBFxc2N3aASh+korg2+B9VvbSoNzaAIT0aC5GzNW3KBt7R3is1qKZ5dxMdoTRvyxfFKiuUNILSgghimSA12H6NCJecpzVFVDUjXewsNqXrB9Wsgq42h0Ztw0a3KzeZIBQPea6lN1Xj+5dCNh04ZC12n1DykDij1mjrn+4AOY8CcWQxI205sLNDB+iW1TmXI+TxIo07OlxaRUUVR5469EDqaWCn\\u002fDq9zzu7FlpXO7+fg0t8Y7A7nDq7\\u002fzbPAzzdBejOop5UPB8QoNeie6I8mOQLxdeI7DyHO8GEy\\u002fcyPTslb4lLt3U9BM8YgP1otT0r2pf6ey3yPcSWH9KslCo+NyXIbV28YD4LaG6w9SWSPj\\u002fHWiCM8sA+Cjx06N9B6z7Rk2goR+ASPzsx5oKOgzY\\u002fG758L9QfVz+E6ZK9GHR0P2wE62mRKI8\\u002fRBDomxRwpD91ZV9OwBa3P+RpOwNOdsY\\u002f62iqKXjR0j+K\\u002fpu4JyfbP5WiTY6e3uA\\u002fGZaHkxIN4j9GO1ZuJaLgP4WDqnzYZdo\\u002feimLH+oJ0j9kI45n7DrFP3t6BYpXhLU\\u002fbWPhc5nHoj9VC7rTyjqMP6NIJj59RXI\\u002fnEs1HjpeVD8AOd2dfo0zP\\u002fWIUSDwKRA\\u002fesxuWJED5z6IY7Goqje8Pi83gQ4wy40+tfgU7hIXWz4yTPcgOTYlPtRttTEWm+w9HJDTiEScsD1Akyegn5xwPUi8p9rsnCw97Lnq2X445TwQJE8fIxubPMAtRArv0E08EMCBjVE+\\u002fDtsGBXf+gmnO87U+YgiL1A78aF5sJ6U8zpfcab6hWaUOhnFBTW3TTI6+lLLwLZIzDkpsvy4qtFiOeLhRvfMkPU4qghjtSBIhTjMpAue6BUSOAXYqCKIeJo3zqrbkqKuIDdL9HbJZhuiNiVUFEm87CA2P8tqGQs\\u002fmzVJyguE1eISNYwWY2j\\u002fi4Y0nHVo2wou9zP4iWGYk4VkM38EbCeuSs8yFbpFhF6LNDJf8BGyIjuXMSHJ4pAcn\\u002fYw+\\u002fXfcTH4UjDMm6wFlWWrLzuFuoV6CQEvoqeoJkw\\u002fUi5CBXNT0xShLRaWmMFO9\\u002fItQxX0rRBAoy5\\u002fhDofG9RQL\\u002f2Qjrd5V\\u002fkvhDpSyydvoDDUfazJ51tCMW+3\\u002fNs4quExcPXKarBHfTJazMUPu+YUM\\u002fju5Hvvs6kz7oEVJa05OzSgaRK9CtfINFlv5VSjhVM1UAQ5D5Bu2jWRgxk21tNeNq5F6ryw+N42O1HEr+nNWjfcj8\\u002fg1fvTN8g53sZTq0k4pugPvqRnvDi5idJ\\u002fEhQrOTYdXF0nPZY54j7ClWR4\\u002fzlAgMLbDi9jOimShGyFJsQ6CMmBqmw8IjvuY2FET3B8OxANiUktG9M7cluh28oeJjz1nXEyIRF2PJ+RYHr498I8K2ICJLsZDD2w3EkQn+9RPUPcXgoNu5M9hVVqxky00j3BH+7WkY8OPi97UbAchEU+ZxuGWCIcej7HL3TNk06rPpGu+o4hndg+gTHGgUMfAz9a8NOD8ZspP7fu9Fg9kE0\\u002fC7eZjt5rbT8jUnDnHj+JPwfWsIG1r6I\\u002fK284yfXftz89AEmdGlzKPxPjEUeoNNk\\u002fMjlCkrv15D\\u002fQqvSLKYnuPyyLBenNufM\\u002fPqCNMSwH9z\\u002fhbByqi+D4P8xM2W1Fa\\u002fk\\u002flerRedLH+D82vx3Iz9H2PyL2Ctv+aPM\\u002fKWDbuNnJ7T8c8oupnD\\u002fkPyQ0WDcPGdg\\u002fhMJdZWPuyD\\u002fyChHMw1W2P8YSPBcdSqE\\u002fKtUB0U4ahz9ldfHGraBqP85owD2cdko\\u002fpv6DC2msJj\\u002fvRPyZ8b4APxDDHaxDUtU+QEdbwgZmpz4l5VicuCF2PnofRue2CkI+axVUNwBaCT7a5cZqUbPOPebFGq4ZBZA9oP0W7dbQTD1zh18eVlUGPVahpuzx1L088oh+ci8rcTwccHOKSQchPG4rGJ8oG807bsT9AvVudTs7AnO13jIbO6o20oX2vL06wqHlA6EDXDr4n0zeo7z2OV9KY\\u002f0ozI85sKEJotMnIznYK1xFH+KzOCQQQsyyx0E4PPgoDtFkyzdycGpy5i1SNxJfVCMTydQ2YpB54dl4VDZ0rm8ZfV7RNcawLCtUY0k1emEqqR\\u002f3vzSCjfEIcVUxNKG\\u002fHf1dMaAzC89m0jQPCjNg1MGEtw9yMiPUrpx\\u002fkNUxIrz6\\u002fSYtNjHEDrIbjqSTMEnmWACW+O0vRWuST4axQy\\u002f1w69cXUqWLj9I\\u002ftzkuuUtYITJTbM+Mi2SlnptEWN6LAbYSTkUb8Ar45ZwKkahASumKrHt8ElAKh26LDQ\\u002f7HkpJcjMvtvDsShlgZABWfjkJ0msyS54URUn1CAt7B2qQiYzevVjgyVsJV5AYCMCR5IknIH4Ql9xtCNc9sqi\\u002f7DTIg==\"},\"type\":\"scatter\"},{\"marker\":{\"color\":\"red\"},\"mode\":\"lines+markers\",\"name\":\"Spin 2\",\"x\":{\"dtype\":\"f8\",\"bdata\":\"HK8ZU7wYKsAcaUU2vAoqwBwjcRm8\\u002fCnAHN2c\\u002fLvuKcAcl8jfu+ApwB1R9MK70inAHQsgprvEKcAdxUuJu7YpwB5\\u002fd2y7qCnAHjmjT7uaKcAe884yu4wpwB6t+hW7finAHmcm+bpwKcAeIVLcumIpwB7bfb+6VCnAHpWporpGKcAeT9WFujgpwB4JAWm6KinAH8MsTLocKcAffVgvug4pwB83hBK6ACnAIPGv9bnyKMAgq9vYueQowCBlB7y51ijAIB8zn7nIKMAg2V6CuboowCCTimW5rCjAIE22SLmeKMAgB+IruZAowCDBDQ+5gijAIHs58rh0KMAhNWXVuGYowCHvkLi4WCjAIam8m7hKKMAiY+h+uDwowCIdFGK4LijAItc\\u002fRbggKMAikWsouBIowCJLlwu4BCjAIgXD7rf2J8Aiv+7Rt+gnwCJ5GrW32ifAIjNGmLfMJ8Ai7XF7t74nwCOnnV63sCfAI2HJQbeiJ8AjG\\u002fUkt5QnwCTVIAi3hifAJI9M67Z4J8AkSXjOtmonwCQDpLG2XCfAJL3PlLZOJ8Akd\\u002ft3tkAnwCQxJ1u2MifAJOtSPrYkJ8AkpX4hthYnwCVfqgS2CCfAJRnW57X6JsAl0wHLtewmwCWNLa613ibAJkdZkbXQJsAmAYV0tcImwCa7sFe1tCbAJnXcOrWmJsAmLwgetZgmwCbpMwG1iibAJqNf5LR8JsAmXYvHtG4mwCYXt6q0YCbAJ9HijbRSJsAniw5xtEQmwCdFOlS0NibAJ\\u002f9lN7QoJsAouZEatBomwChzvf2zDCbAKC3p4LP+JcAo5xTEs\\u002fAlwCihQKez4iXAKFtsirPUJcAoFZhts8YlwCjPw1CzuCXAKYnvM7OqJcApQxsXs5wlwCn9RvqyjiXAKbdy3bKAJcApcZ7AsnIlwCoryqOyZCXAKuX1hrJWJcAqnyFqskglwCpZTU2yOiXAKhN5MLIsJcAqzaQTsh4lwCqH0PaxECXAKkH82bECJcAr+ye9sfQkwCu1U6Cx5iTAK29\\u002fg7HYJMArKatmscokwCvj1kmxvCTALJ0CLbGuJMAsVy4QsaAkwCwRWvOwkiTALMuF1rCEJMAshbG5sHYkwCw\\u002f3ZywaCTALPkIgLBaJMAsszRjsEwkwC1tYEawPiTALSeMKbAwJMAt4bcMsCIkwC2b4++vFCTALVUP068GJMAuDzu2r\\u002fgjwC7JZpmv6iPALoOSfK\\u002fcI8AuPb5fr84jwC736UKvwCPALrEVJq+yI8Aua0EJr6QjwC4lbeyuliPAL9+Yz66II8AvmcSyrnojwC9T8JWubCPALw0cea5eI8Awx0dcrlAjwDCBcz+uQiPAMDufIq40I8Aw9coFriYjwDCv9uitGCPAMGkizK0KI8AwI06vrfwiwDDdeZKt7iLAMJelda3gIsAxUdFYrdIiwDEL\\u002fTutxCLAMcUoH622IsAxf1QCragiwDI5gOWsmiLAMvOryKyMIsAyrderrH4iwDJnA4+scCLAMiEvcqxiIsAy21pVrFQiwDKVhjisRiLAMk+yG6w4IsAzCd7+qyoiwDPDCeKrHCLAM301xasOIsAzN2GoqwAiwDTxjIur8iHANKu4bqvkIcA0ZeRRq9YhwDQfEDWryCHANNk7GKu6IcA0k2f7qqwhwDRNk96qniHANAe\\u002fwaqQIcA0weqkqoIhwDR7FoiqdCHANTVCa6pmIcA1721OqlghwDWpmTGqSiHANmPFFKo8IcA2HfH3qS4hwDbXHNupICHANpFIvqkSIcA2S3ShqQQhwDYFoISp9iDANr\\u002fLZ6noIMA2efdKqdogwDYzIy6pzCDANu1OEam+IMA3p3r0qLAgwDdhpteooiDANxvSuqiUIMA41f2dqIYgwDiPKYGoeCDAOElVZKhqIMA4A4FHqFwgwDi9rCqoTiDAOHfYDahAIMA4MQTxpzIgwDjrL9SnJCDAOKVbt6cWIMA5X4eapwggwHIyZvtO9R\\u002fAcqa9wU7ZH8ByGhWITr0fwHOObE5OoR\\u002fAcwLEFE6FH8BzdhvbTWkfwHTqcqFNTR\\u002fAdF7KZ00xH8B00iEuTRUfwHVGefRM+R7AdbrQukzdHsB1LiiBTMEewHaif0dMpR7AdhbXDUyJHsB2ii7US20ewHb+hZpLUR7Ad3LdYEs1HsB35jQnSxkewHdajO1K\\u002fR3AeM7js0rhHcB4Qjt6SsUdwHi2kkBKqR3AeSrqBkqNHcB5nkHNSXEdwHkSmZNJVR3AeobwWUk5HcB6+kcgSR0dwHpun+ZIAR3Ae+L2rEjlHMB7Vk5zSMkcwHvKpTlIrRzAfD79\\u002f0eRHMB8slTGR3UcwHwmrIxHWRzAfJoDU0c9HMB9DlsZRyEcwH2Cst9GBRzAffYJpkbpG8B+amFsRs0bwH7euDJGsRvAflIQ+UWVG8B\\u002fxme\\u002fRXkbwH86v4VFXRvAf64WTEVBG8CAIm4SRSUbwICWxdhECRvAgAodn0TtGsCAfnRlRNEawIHyyytEtRrAgWYj8kOZGsCB2nq4Q30awIJO0n5DYRrAgsIpRUNFGsCCNoELQykawIOq2NFCDRrAgx4wmELxGcCDkodeQtUZwIQG3yRCuRnAhHo260GdGcCE7o2xQYEZwIVi5XdBZRnAhdY8PkFJGcCFSpQEQS0ZwIa+68pAERnAhjJDkUD1GMCGpppXQNkYwIYa8h1AvRjAh45J5D+hGMCHAqGqP4UYwId2+HA\\u002faRjAiOpPNz9NGMCIXqf9PjEYwIjS\\u002fsM+FRjAiUZWij75F8CJuq1QPt0XwIkuBRc+wRfAiqJc3T2lF8CKFrSjPYkXwIqKC2o9bRfAiv5iMD1RF8CLcrr2PDUXwIvmEb08GRfAi1ppgzz9FsCMzsBJPOEWwIxCGBA8xRbAjLZv1jupFsCNKsecO40WwI2eHmM7cRbAjRJ2KTtVFsCOhs3vOjkWwI76JLY6HRbAjm58fDoBFsCP4tNCOuUVwI9WKwk6yRXAj8qCzzmtFcCQPtqVOZEVwJCyMVw5dRXAkCaJIjlZFcCQmuDoOD0VwJEOOK84IRXAkYKPdTgFFcCR9uY7OOkUwJJqPgI4zRTAkt6VyDexFMCSUu2ON5UUwJPGRFU3eRTAkzqcGzddFMCTrvPhNkEUwJQiS6g2JRTAlJaibjYJFMCUCvo0Nu0TwJR+Ufs10RPAlPKowTW1E8CWZgCINZkTwJbaV041fRPAlk6vFDVhE8CWwgbbNEUTwJY2XqE0KRPAlqq1ZzQNE8CYHg0uNPESwJiSZPQz1RLAmAa8ujO5EsCYehOBM50SwJjuakczgRLAmGLCDTNlEsCY1hnUMkkSwJpKcZoyLRLAmr7IYDIREsCaMiAnMvURwJqmd+0x2RHAmhrPszG9EcCajiZ6MaERwJwCfkAxhRHAnHbVBjFpEcCc6izNME0RwJxehJMwMRHAnNLbWTAVEcCcRjMgMPkQwJy6iuYv3RDAni7irC\\u002fBEMCeojlzL6UQwJ4WkTkviRDAnoro\\u002fy5tEMCe\\u002fj\\u002fGLlEQwJ5yl4wuNRDAoObuUi4ZEMBAtYwyXPoPwECdO79bwg\\u002fAQIXqS1uKD8BAbZnYWlIPwEBVSGVaGg\\u002fAQD338VniDsBEJaZ+WaoOwEQNVQtZcg7ARPUDmFg6DsBE3bIkWAIOwETFYbFXyg3ARK0QPleSDcBIlb\\u002fKVloNwEh9bldWIg3ASGUd5FXqDMBITcxwVbIMwEg1e\\u002f1UegzASB0qilRCDMBMBdkWVAoMwEzth6NT0gvATNU2MFOaC8BMveW8UmILwEyllElSKgvATI1D1lHyCsBMdfJiUboKwFBdoe9QggrAUEVQfFBKCsBQLf8IUBIKwFAVrpVP2gnAUP1cIk+iCcBQ5QuvTmoJwFTNujtOMgnAVLVpyE36CMBUnRhVTcIIwFSFx+FMigjAVG12bkxSCMBUVSX7SxoIwFg91IdL4gfAWCWDFEuqB8BYDTKhSnIHwFj14C1KOgfAWN2PukkCB8BYxT5HScoGwFit7dNIkgbAXJWcYEhaBsBcfUvtRyIGwFxl+nlH6gXAXE2pBkeyBcBcNViTRnoFwFwdByBGQgXAYAW2rEUKBcBg7WQ5RdIEwGDVE8ZEmgTAYL3CUkRiBMBgpXHfQyoEwGCNIGxD8gPAYHXP+EK6A8BkXX6FQoIDwGRFLRJCSgPAZC3cnkESA8BkFYsrQdoCwGT9ObhAogLAZOXoREBqAsBozZfRPzICwGi1Rl4\\u002f+gHAaJ316j7CAcBohaR3PooBwGhtUwQ+UgHAaFUCkT0aAcBoPbEdPeIAwGwlYKo8qgDAbA0PNzxyAMBs9b3DOzoAwGzdbFA7AgDA2Io3unWU\\u002f7\\u002fYWpXTdCT\\u002fv+Aq8+xztP6\\u002f4PpQBnNE\\u002fr\\u002fgyq4fctT9v+CaDDlxZP2\\u002f4GpqUnD0\\u002fL\\u002fgOshrb4T8v+gKJoVuFPy\\u002f6NqDnm2k+7\\u002foquG3bDT7v+h6P9FrxPq\\u002f6Eqd6mpU+r\\u002foGvsDauT5v+jqWB1pdPm\\u002f8Lq2NmgE+b\\u002fwihRQZ5T4v\\u002fBacmlmJPi\\u002f8CrQgmW097\\u002fw+i2cZET3v\\u002fDKi7Vj1Pa\\u002f+JrpzmJk9r\\u002f4akfoYfT1v\\u002fg6pQFhhPW\\u002f+AoDG2AU9b\\u002f42mA0X6T0v\\u002fiqvk1eNPS\\u002fAHscZ13E878AS3qAXFTzvwAb2Jlb5PK\\u002fAOs1s1p08r8Au5PMWQTyvwCL8eVYlPG\\u002fAFtP\\u002f1ck8b8IK60YV7Twvwj7CjJWRPC\\u002fEJbRlqqo778QNo3JqMjuvxDWSPym6O2\\u002fEHYEL6UI7b8gFsBhoyjsvyC2e5ShSOu\\u002fIFY3x59o6r8g9vL5nYjpvyCWriycqOi\\u002fIDZqX5rI578g1iWSmOjmvzB24cSWCOa\\u002fMBad95Qo5b8wtlgqk0jkvzBWFF2RaOO\\u002fMPbPj4+I4r8wlovCjajhv0A2R\\u002fWLyOC\\u002fgKwFUBTR37+A7Hy1EBHev4As9BoNUdy\\u002fgGxrgAmR2r+ArOLlBdHYv4DsWUsCEde\\u002foCzRsP5Q1b+gbEgW+5DTv6Csv3v30NG\\u002foOw24fMQ0L9AWVyN4KHMv0DZSljZIcm\\u002fgFk5I9Khxb+A2SfuyiHCvwCzLHKHQ72\\u002fALMJCHlDtr8AZs071YauvwBmh2e4hqC\\u002fADgLmtw0dL8AMgmCAvOWPwCZShWeeak\\u002fgEzIdN28sz+ATOve67y6P2AmhyR93sA\\u002fYKaYWYRexD\\u002fgJaqOi97HP+Clu8OSXss\\u002f4CXN+Jnezj\\u002fwUu+WUC\\u002fRP\\u002fASeDFU79I\\u002f8NIAzFev1D\\u002fwkolmW2\\u002fWP\\u002fBSEgFfL9g\\u002f8BKbm2Lv2T\\u002fw0iM2Zq\\u002fbP\\u002fCSrNBpb90\\u002f8FI1a20v3z9YCd+CuHfgP1hpI1C6V+E\\u002fWMlnHbw34j9oKazqvRfjPw==\"},\"y\":{\"dtype\":\"f8\",\"bdata\":\"TxeV9tXwAS4jFXPEvfSxLiAxNIU7814vs\\u002fdyJQL4BjANbRofIlutMI+LcRxpJ1Axb0sMWiee7jFwbig8WfyIMnikjAu7jiEzvY0zMH4\\u002ftTOkeD8GeiRGNNTx\\u002fl6Z3tM0fEIKeeS0XjWrUcNIdG7kNZDkLBOiaWc2qFnHkCwa5zZEX3n9LKFjN0emYTB1udw3P4qNfewYUjj85JJS66LDOLGpZTnMWDI5319mh56FnTnawpB25nMEOi4Y6KYiZ2g6uibBoloSyTpcZBkfUS4mO7U+nMfS5YA7ML2s\\u002fHUr1jvceKY15gspPGq6lb22XXg8cDTR0V9pxDyfXOjcoXINPdZc5ECkSlI9MfhGUz+Rkz3E5S6jUAbSPdI0reU8mAw+gNefP\\u002fWHQz53WWEQifl2PqarxNaORac+x80ukltM1D5K06d0uH3+PuiyxLNbuCM\\u002f5MH5Fwj3RT\\u002fyRPtzKxFlP5tuxTE2ZoE\\u002fRYRztH+\\u002fmD8M8TLZrk+uP9\\u002f\\u002fe4zm978\\u002fL7nSEGoIzT9uD4XBXLTWP1xdMx4klN4\\u002fShBA70m74T+YVxKmJrXhP\\u002fiSLuptdN4\\u002fBPZ7GyyN1j\\u002fc+aK3WcLMP2\\u002fAZx7YlL8\\u002f7+K\\u002fbgvdrT\\u002f06Rs7CFGYP28hTUe4DIE\\u002f8Lao2IeWZD87Mo+eUGhFPwTcCCjuKiM\\u002fkZPpzoqO\\u002fT6r2OtqhZ\\u002fTPvdqyJ7Wb6Y+nypz7TcXdj5rPOJ+k7pCPrR6Fxs2Wgs+abXi2p4V0j18bPKnFh3NPWmrqM1yngU+ndTtXHMGPj73ZEy+APZxPpA+PA3tgKI+xanqSzRq0D5nkbJMFhT5Pon7QfAQfyA\\u002fDbzhZBOwQj84i0Dq0jpiPx+xBAs3oH4\\u002f6caWn\\u002fkmlj8yR8hVU5irP2zyB8uwmb0\\u002f7HhRg1NXyz\\u002fMJ7ThGL\\u002fVPx8grAPJyd0\\u002fq3grxGuR4T85jvj0\\u002ftfhPxzB\\u002fGtyNt8\\u002fFBTGhNOB1z+SciAjVX3OP1eh417LBsE\\u002flt6zHAhgsD\\u002fpAizHTB+bPxc2LqhtV4M\\u002fllw4tQvBZz9K+tTGAh9JP9dhjq5v4CY\\u002fqbmiX2rwAT\\u002fmH5gebTrYPk9sN9fFU6w+ITvkGXEqhD4Q\\u002f0Ri1WiaPk4N+vNOYcc+GcFufHRW8j6E+obEd8cYP+IsJUEk1Tw\\u002fjxqzPZrjXD+o04AE0+x4P+fTd1GZhJI\\u002fod7vQ5axpz+a0awk6Rq6P+zO89BTxMg\\u002fjKXJc8Y71D\\u002f9281xv3fcP5XX+2WtPuE\\u002fAXpS4p394T+i250KbCngP8Z6+T8bAdk\\u002feTouh92n0D\\u002fax1L3axvDP+cjWRrs37I\\u002f2ypcICcOoD\\u002fUzq2GJYWHPx08Ub5zq20\\u002f2fp\\u002fakIdUD+cl9DXPSUuP0YPbH7JRwg\\u002fYJbHkw3X4D7IUm7PXR20Pp1zE\\u002fZbsIQ+a4R\\u002fIeFSUj7E3PGrE\\u002fMbPkBYbxvqWuI9Pw+N54TCpD08YRh\\u002f3zdkPRAQrbWq9CA9ANSdizR92DznCotO5XSOPPX4ZlD6TkA8GB6yNikU7juxzIq+m+KXO2vA6O4ZVUA7Kxyx0L874zqnlHfT6oCDOnrbemHLByE62OF+rFScuTkK67sEA5VQOaxBvMF5feI432in4AHBcTgHfJeTv1v9NzOFCBf65oQ3hQarZRuhCTf+y9Imdw+LNmyasENSmgg2vOSkY\\u002fBCgzU9NtygpvICNfEdqZ\\u002f2CHI1UL51AER89zWFqB3M11V6NtrT5a3ebfk2vphx3cMkdTcqFa872UbuN0WeLdCeqmI4fLF3ut3R0zgPPqnHCx9COYVtbp+viKw530ZInTFYEzrfnq77+5V2Ou8VbQ4ftdY6qYSpd6GoMzt8Dcc9gE+NOwbIk3HF0OI74ZTRsSTNNDzgfFgHcM2DPKLKIoesO9A8h7evTN7qFj3c33kHN9xbPZ+e3fkhKp09NIebVBRK2j0qKECy72cUPv2TKMxER0s+2jHTrnVmfz6focHH1B+vPo2yGjvPkNo+sIdjF3CGAz\\u002f8tVUw57YoP1SKKVIQ8Eo\\u002fn\\u002fkTX2NIaT8gfo6q9G6EP4Qvp8rTcJw\\u002fO76vWC8LsT9jEfebFJfBP7Kept3ZQ88\\u002f9vh7exPt1z9\\u002frU3Ve4jfPyM+4Zmj5OE\\u002f7zJSfmR84T9c\\u002fb38yW3dPw1bm30cU9U\\u002fv5BJnJycyj\\u002fIhJLCzJi8P\\u002f13lKktdqo\\u002f2AjZl7AVlT9AneFQAO98P4I8FdI6GGE\\u002f185yVeFkQT8CtDgXEHseP0KuEL4\\u002f\\u002f\\u002fY+qJSoa6zhzT755kwCibegPnAeCwMxG3A+eBoNI4m5Oj4+YBQunRcDPuZN6hxyfcc99EcLE+\\u002fiiD2DWMoFJLRGPbjGKRzB1gE97KAOd+KBuzy2zLWvWxDWPIpJM0OoaR49Emn8Sdk6Yj3vkOEpuNGiPbbhOCWmuuA9eGbAHGucGT4ljYlFmOFQPtkXc7q9KYM+3w0vOlS7sj7gQ+7ooojfPvzzjuQS2wY\\u002f1KqtHqKHLD91iLTJd6pOP\\u002fAgIY4qYmw\\u002fEcY3WzKfhj8yHrVjCQ2fPwbfZluvWbI\\u002fV+Yh+zGtwj+ZQ7vCRV7QP6KFSdmStNg\\u002fqU5N7gMO4D+3iGd8zPfhPyuRexDlUOE\\u002fyq5BCFC93D8dB1hDcInUP5MW8vAeRsk\\u002fn+LsRYXIuj92i2xvvnCoPxUpoWRjNJM\\u002f\\u002ffCzziX9eT9idd982UheP1\\u002f80YtyYz4\\u002fxAd3s9tBGj8oMYWATYnzPjhdiyqOCMk+\\u002fDL8lSefmz4c1cWVhT5qPj2ZXBTOeDU+WsHtvCdB\\u002fj3PQwV9plrCPR9uujYSLYM9H8G3R4FAQT1EnY316rr6PLsggEHb1LE8iFwRYmd8ZDys16EmOEQUPBD0Aaa1Q8E7FsUtpCNUaTsi0LJdg\\u002f8PO7tZ6xGHZ7E6dzZVpKlNUDpU+MI1KE3qOYJdDsq9RII5CirXn17aFTn+xPYohIKmOIZ0Ars99zM43KQHObZ\\u002fvjfVNorqCw9EN+ktVZNRuMY2mLpupOYoRjYx0wybepzCNf\\u002fgXuxr6zo1uVOhnOPEsDRABXIAin2DNK4Z4fpgLBA1mt2DlY1zlzWy63w6AUgdNoRFzS5ve58237z3zZslHTeTLtJolTyXNx0u2MBJ5w849P30qPrbgjgwqsZqJDPzOJlQBBvW1GA5CV+R8EtpyTnBwdSem4QwOhv8kaTPfZI6h5xpEUnT8Tp3y6yCyJdNO3Ub7f4GJ6U7GkePM98J+jsHaIst4plLPHUob+6LMZk81GrjJkTN4zxA9bqx5c0qPZVmO0xHPm89n6IhyuZbrz34AEszbBrrPbtnQLXWKyQ+ZQudBqDaWT6AHwY\\u002f7oiMPshQpg+HHrs+olRmN58x5j59eAzHvkcPP\\u002ff2BRZG+zI\\u002f7Nf50ETWUz9Kh\\u002fru99lxP4o1x6Oeqos\\u002foyN2fwt2oj+Ub\\u002fSFEDe1P+rEc4FX\\u002fsQ\\u002fiXYhAoLj0T\\u002f9w7v\\u002fZ0DaPzb3Q7MmluA\\u002fEs6SrGMM4j+jJHWyRengP21iGgoYSts\\u002fK+cMQ7\\u002f10j8G7JVqr6\\u002fGP4zXmuDeX7c\\u002f0m6pngW9pD+86R4OCrCPP8EFbpGm2HQ\\u002f\\u002fOB7ZVCeVz9jHiZN1Ao3P01NwYGTWxM\\u002fd8tUEccB7D6rhKgfOXLBPg6DIt9at5I+WzzCIy9KYT7PBLhLzYErPp6+PFF91\\u002fI9+Ib44SA6tj2mEOTQG5R2PS0mTEr0vzM95a0GHXfA7TwMgM0oAEyjPNSWr6MGjlU8Mywae4u7BDzz88e7\\u002fSuxO+T\\u002fZ5aDflg7zzzoM\\u002fwV\\u002fjoltp3cNNKfOh08K+RF+zw6KuVBbKC61jlaMVBW67JuOSkZSckg2gE5\\u002fGbZvfXgkTgyLwh9N9YeOOIjhH4\\u002f5qY3uGDGXUJJLTfLQlpWOyCwNg+hDBOWlS42PEIAyXj5qDV6jts6mo8hNaQ6iT0NRJU0Z9V1heEsBjSIFszba+lzM8\\u002fHtcKwyt4yqHGf\\u002fFWARDIihhY7\\u002f4GnMYVCggkKNgcxWPitjxq8YzAMN3qJn+W8L2gVzkLANxIvVPilgaDHYy5UTztF44eyLeA1pgSsmtctUYu1lhediC79kRtsSxs2LwS12XudGeEv2k9nPsPIhjBeqGclYCUqMWP2QFta18kxE5fvGDL\\u002fZTKoafWXfCAAMyPLjjXUXZQzUg\\u002fP9yYnJjR2A+HZ+MC0NF4N8+MMv0A1NMcNwutGxzV6BkoHFN5LNr2Jos6FvMw2R6ZoTPCFSTcKkQBQmobDN1toImuXuzk4VMSQJ\\u002fM1rTjARhD4uI8cOQdvXsoGDog5JhqZuF1z8Tn8BazxMs9VOnFKoMV8erc6C9KWEpbFFTtx9\\u002f74EGRxOyqz\\u002fvGo7sc7ZPjt96NeHDzfWA\\u002f3IPhsPIyUU\\u002ftqe7k8e6RC3wJPAz3AeIo\\u002f+DRJPZtkX\\u002fTrWIw9nh5r0El2yz2kV3FPHusGPuJ3+oMKekA+7b4zz7xodD4beZOZMcelPg6Q7FEaBdQ+pHF+VaW1\\u002fz5ENJOLiaIlPwqWG1p5b0k\\u002fWpvbLy3EaT9qjNCfeH6GP\\u002fjikTK67aA\\u002f\\u002fLkIqpT6tT9\\u002fF6kZU6TIP1zJayJx6Nc\\u002f9WnqvZ8m5D9HiP0xBrftP3oc+UrDZPM\\u002fzOQA4TrS9j\\u002fCaCje2sr4P2PDngm3b\\u002fk\\u002fVGhDDMvm+D\\u002f+79CMpQ\\u002f3P3ACA8dRw\\u002fM\\u002ffGnEm4WZ7j+LFIHI6\\u002f\\u002fkP1L3+\\u002f6GPNk\\u002f\\u002fv8F6Uhcyj9K0o1Kr9W3P7WZP7sUnaI\\u002f5m21tXsUiT+MBh9DQSJtP0ii49TFKk0\\u002fFGT\\u002fR1opKT\\u002fIcIJEtbMCPzJPUEjZ89c+\\u002fi4UwuNtqj5kF\\u002fsCnB95PovIGz8Uk0Q+YHbU6eoHDT5OixLM\\u002fKTRPTi48DIZepI99neGjBWrUD2bg2dnNugJPW7seOcNWME8jeXvdkMBdDwN63OHhOAjPAtQ09djA9E7tva4tJgWeTs5tfMSdt4fO+zpEbWbb8E6woY3vERvYDrIdlEF\\u002fK\\u002f6OSae6QstqpI5rt\\u002fNKRR9JjndHKwl71a3OK0RgQha3UQ4T0Pd\\u002fvAQ0DcSfqO43E9VN2GHnoHCWdg2hfIUUev2VzZjinptZFDUNbrlYb3IqU01+zAIBGynwjRp2Eh9IDU0NF\\u002fD6XWv2qIzaE\\u002fuLpNNDjNxBTrLVvl0Mh4R8ligAdkxZn6TE5KtOTFcWX71rLWWMC0x82FJTPEvWcgnNxiyRi9EIQJRY6WZLh8qZzF39egtDIATpWnrNC2VppYXqjN+LGJgUnelxsIrI2V6mwsbBCv81uzYqIpCKgHcKR7Oc30podDT0SwltCiHdUGKxLvnJwDVDdt4FBgn6NkD4FcKRSZQIv4\\u002fUapvJSDAq3kvhZQkd\\u002frvk2bntiOMPjiVBATWIg==\"},\"type\":\"scatter\"}],                        {\"template\":{\"data\":{\"scatter\":[{\"type\":\"scatter\"}]}},\"font\":{\"size\":20},\"xaxis\":{\"zeroline\":false,\"showline\":true,\"mirror\":true,\"ticks\":\"outside\",\"title\":{\"text\":\"E - E\\u003csub\\u003eF\\u003c\\u002fsub\\u003e [eV]\"}},\"yaxis\":{\"showline\":true,\"mirror\":true,\"ticks\":\"outside\",\"title\":{\"text\":\"DOS\"}},\"hoverlabel\":{\"bgcolor\":\"black\"},\"width\":800,\"height\":600},                        {\"responsive\": true}                    ).then(function(){\n",
       "                            \n",
       "var gd = document.getElementById('67cf5a76-a9a7-4c18-a72e-9daef63fdeec');\n",
       "var x = new MutationObserver(function (mutations, observer) {{\n",
       "        var display = window.getComputedStyle(gd).display;\n",
       "        if (!display || display === 'none') {{\n",
       "            console.log([gd, 'removed!']);\n",
       "            Plotly.purge(gd);\n",
       "            observer.disconnect();\n",
       "        }}\n",
       "}});\n",
       "\n",
       "// Listen for the removal of the full notebook cells\n",
       "var notebookContainer = gd.closest('#notebook-container');\n",
       "if (notebookContainer) {{\n",
       "    x.observe(notebookContainer, {childList: true});\n",
       "}}\n",
       "\n",
       "// Listen for the clearing of the current output cell\n",
       "var outputEl = gd.closest('.output');\n",
       "if (outputEl) {{\n",
       "    x.observe(outputEl, {childList: true});\n",
       "}}\n",
       "\n",
       "                        })                };            </script>        </div>"
      ]
     },
     "metadata": {},
     "output_type": "display_data"
    }
   ],
   "source": [
    "plot_dos(scf, spin=(0, 1))"
   ]
  },
  {
   "cell_type": "code",
   "execution_count": 9,
   "id": "2ee151f5-01fe-481a-a817-91a36392b9bd",
   "metadata": {},
   "outputs": [
    {
     "data": {
      "text/html": [
       "<div>            <script src=\"https://cdnjs.cloudflare.com/ajax/libs/mathjax/2.7.5/MathJax.js?config=TeX-AMS-MML_SVG\"></script><script type=\"text/javascript\">if (window.MathJax && window.MathJax.Hub && window.MathJax.Hub.Config) {window.MathJax.Hub.Config({SVG: {font: \"STIX-Web\"}});}</script>                <script type=\"text/javascript\">window.PlotlyConfig = {MathJaxConfig: 'local'};</script>\n",
       "        <script charset=\"utf-8\" src=\"https://cdn.plot.ly/plotly-3.0.1.min.js\"></script>                <div id=\"6db5d0f3-489c-4651-9e9d-94a03636a2f5\" class=\"plotly-graph-div\" style=\"height:400px; width:600px;\"></div>            <script type=\"text/javascript\">                window.PLOTLYENV=window.PLOTLYENV || {};                                if (document.getElementById(\"6db5d0f3-489c-4651-9e9d-94a03636a2f5\")) {                    Plotly.newPlot(                        \"6db5d0f3-489c-4651-9e9d-94a03636a2f5\",                        [{\"mode\":\"lines+markers\",\"name\":\"Band 1\",\"x\":{\"dtype\":\"f8\",\"bdata\":\"AAAAAAAAAAAXj6jjl2nBPxePqOOXadE\\u002fotZ81WMe2j8Xj6jjl2nhP95YLsgHb+U\\u002fpCK0rHd06T9q7DmR53ntPxjb37qrv\\u002fA\\u002f+78irWPC8j8=\"},\"y\":{\"dtype\":\"f8\",\"bdata\":\"++jV7Cy2I8DSlNwZfk4lwL3L+QUCSCfADqrkhWOfKMCJELV3RRYpwLoVLvoAryjASyzAbu52J8BXRtix0polwIQnJqSxDCPAD2zLn\\u002fDBH8A=\"},\"type\":\"scatter\"},{\"mode\":\"lines+markers\",\"name\":\"Band 2\",\"x\":{\"dtype\":\"f8\",\"bdata\":\"AAAAAAAAAAAXj6jjl2nBPxePqOOXadE\\u002fotZ81WMe2j8Xj6jjl2nhP95YLsgHb+U\\u002fpCK0rHd06T9q7DmR53ntPxjb37qrv\\u002fA\\u002f+78irWPC8j8=\"},\"y\":{\"dtype\":\"f8\",\"bdata\":\"DXQ\\u002fmvyaHsAe0dh5980ZwKbuqMxxvxDAJI5EKbo\\u002f+r8ArWHE1+u0P8iUhJLTX+e\\u002fWMzOlAwQA8CMwv4UIwARwN6bO5B4lxjAwmkKSdK0H8A=\"},\"type\":\"scatter\"},{\"mode\":\"lines+markers\",\"name\":\"Band 3\",\"x\":{\"dtype\":\"f8\",\"bdata\":\"AAAAAAAAAAAXj6jjl2nBPxePqOOXadE\\u002fotZ81WMe2j8Xj6jjl2nhP95YLsgHb+U\\u002fpCK0rHd06T9q7DmR53ntPxjb37qrv\\u002fA\\u002f+78irWPC8j8=\"},\"y\":{\"dtype\":\"f8\",\"bdata\":\"9NunOIc49b80KUO5hlTzvzAKs+WMGOu\\u002fcEOItF0i0r+AgsFMQRW3P6DmdHwoSua\\u002f1L1SMxZ4\\u002fL90cHMZrgYFwNxpLz5LOQnAJOyeV12XCsA=\"},\"type\":\"scatter\"},{\"mode\":\"lines+markers\",\"name\":\"Band 4\",\"x\":{\"dtype\":\"f8\",\"bdata\":\"AAAAAAAAAAAXj6jjl2nBPxePqOOXadE\\u002fotZ81WMe2j8Xj6jjl2nhP95YLsgHb+U\\u002fpCK0rHd06T9q7DmR53ntPxjb37qrv\\u002fA\\u002f+78irWPC8j8=\"},\"y\":{\"dtype\":\"f8\",\"bdata\":\"hCbcsvEJ9b8IbTcprSTzv\\u002fCVtetrs+q\\u002fkP0o6TYr0L+AXebnZUG5P\\u002fji6d2CZuW\\u002fhJNIj\\u002fD0+7++7F8BasMEwPZNREZj9QjAsNfqlSpMCsA=\"},\"type\":\"scatter\"},{\"line\":{\"dash\":\"dash\"},\"mode\":\"lines+markers\",\"name\":\"Unocc. band 1\",\"x\":{\"dtype\":\"f8\",\"bdata\":\"AAAAAAAAAAAXj6jjl2nBPxePqOOXadE\\u002fotZ81WMe2j8Xj6jjl2nhP95YLsgHb+U\\u002fpCK0rHd06T9q7DmR53ntPxjb37qrv\\u002fA\\u002f+78irWPC8j8=\"},\"y\":{\"dtype\":\"f8\",\"bdata\":\"XItp11Bh\\u002fz8cWPuIfUX+P5p3WgZSagFA6kfqO0HTA0DW81QCfrcBQNSsOIy0f\\u002fw\\u002fGFcvyYhE7j8w2JQCjqLQP8Bd5udlQbm\\u002fgJR+tQgppb8=\"},\"type\":\"scatter\"},{\"line\":{\"dash\":\"dash\"},\"mode\":\"lines+markers\",\"name\":\"Unocc. band 2\",\"x\":{\"dtype\":\"f8\",\"bdata\":\"AAAAAAAAAAAXj6jjl2nBPxePqOOXadE\\u002fotZ81WMe2j8Xj6jjl2nhP95YLsgHb+U\\u002fpCK0rHd06T9q7DmR53ntPxjb37qrv\\u002fA\\u002f+78irWPC8j8=\"},\"y\":{\"dtype\":\"f8\",\"bdata\":\"9sZQRy+uBkD62zjFTwwIQLLb5nfv7glAKpJrzEDzBUA+aSg0l8sBQD6WaA9IyglAln3mWZosC0CU1E70nFz6P\\u002fjZx2zNK+E\\u002fACg5njkrjD8=\"},\"type\":\"scatter\"},{\"line\":{\"dash\":\"dash\"},\"mode\":\"lines+markers\",\"name\":\"Unocc. band 3\",\"x\":{\"dtype\":\"f8\",\"bdata\":\"AAAAAAAAAAAXj6jjl2nBPxePqOOXadE\\u002fotZ81WMe2j8Xj6jjl2nhP95YLsgHb+U\\u002fpCK0rHd06T9q7DmR53ntPxjb37qrv\\u002fA\\u002f+78irWPC8j8=\"},\"y\":{\"dtype\":\"f8\",\"bdata\":\"Frq1+w3CBkACqj\\u002f3ZSEIQGIs+8VpBQpAWgSzEfz\\u002fBUDSs9ifFdQBQMIIRVvT+glALXT1eq7nE0AR6wEG1qQbQCRGCXTyxiFAQtcC4LARJUA=\"},\"type\":\"scatter\"},{\"line\":{\"dash\":\"dash\"},\"mode\":\"lines+markers\",\"name\":\"Unocc. band 4\",\"x\":{\"dtype\":\"f8\",\"bdata\":\"AAAAAAAAAAAXj6jjl2nBPxePqOOXadE\\u002fotZ81WMe2j8Xj6jjl2nhP95YLsgHb+U\\u002fpCK0rHd06T9q7DmR53ntPxjb37qrv\\u002fA\\u002f+78irWPC8j8=\"},\"y\":{\"dtype\":\"f8\",\"bdata\":\"A4yZiay2GkD51BxgEbsbQLMmw3Zh6htAreAH9A8yFkCplQ44dkESQIMh\\u002fdyWARRAw4o0x40AFEBrc1UwKgEcQFyLKJ+uzyFA9OKN3xQaJUA=\"},\"type\":\"scatter\"}],                        {\"template\":{\"data\":{\"scatter\":[{\"type\":\"scatter\"}]}},\"font\":{\"size\":20},\"xaxis\":{\"zeroline\":false,\"showline\":true,\"mirror\":true,\"ticks\":\"outside\",\"tickmode\":\"array\",\"tickvals\":{\"dtype\":\"f8\",\"bdata\":\"AAAAAAAAAAAXj6jjl2nhP\\u002fu\\u002fIq1jwvI\\u002f\"},\"ticktext\":[\"L\",\"\\u0393\",\"X\"],\"gridcolor\":\"grey\",\"gridwidth\":2,\"range\":[0,1.1724583399882238],\"title\":{\"text\":\"k-path\"}},\"yaxis\":{\"zeroline\":false,\"showline\":true,\"mirror\":true,\"ticks\":\"outside\",\"showgrid\":false,\"title\":{\"text\":\"E - E\\u003csub\\u003eF\\u003c\\u002fsub\\u003e [eV]\"}},\"hoverlabel\":{\"bgcolor\":\"black\"},\"width\":600,\"height\":400,\"showlegend\":false},                        {\"responsive\": true}                    ).then(function(){\n",
       "                            \n",
       "var gd = document.getElementById('6db5d0f3-489c-4651-9e9d-94a03636a2f5');\n",
       "var x = new MutationObserver(function (mutations, observer) {{\n",
       "        var display = window.getComputedStyle(gd).display;\n",
       "        if (!display || display === 'none') {{\n",
       "            console.log([gd, 'removed!']);\n",
       "            Plotly.purge(gd);\n",
       "            observer.disconnect();\n",
       "        }}\n",
       "}});\n",
       "\n",
       "// Listen for the removal of the full notebook cells\n",
       "var notebookContainer = gd.closest('#notebook-container');\n",
       "if (notebookContainer) {{\n",
       "    x.observe(notebookContainer, {childList: true});\n",
       "}}\n",
       "\n",
       "// Listen for the clearing of the current output cell\n",
       "var outputEl = gd.closest('.output');\n",
       "if (outputEl) {{\n",
       "    x.observe(outputEl, {childList: true});\n",
       "}}\n",
       "\n",
       "                        })                };            </script>        </div>"
      ]
     },
     "metadata": {},
     "output_type": "display_data"
    }
   ],
   "source": [
    "# Test custom sizes\n",
    "plot_bandstructure(scf, size=(600, 400))"
   ]
  },
  {
   "cell_type": "code",
   "execution_count": 10,
   "id": "6f80d3a1-af0f-4771-97d2-c86c8d1db221",
   "metadata": {},
   "outputs": [
    {
     "data": {
      "text/html": [
       "<div>            <script src=\"https://cdnjs.cloudflare.com/ajax/libs/mathjax/2.7.5/MathJax.js?config=TeX-AMS-MML_SVG\"></script><script type=\"text/javascript\">if (window.MathJax && window.MathJax.Hub && window.MathJax.Hub.Config) {window.MathJax.Hub.Config({SVG: {font: \"STIX-Web\"}});}</script>                <script type=\"text/javascript\">window.PlotlyConfig = {MathJaxConfig: 'local'};</script>\n",
       "        <script charset=\"utf-8\" src=\"https://cdn.plot.ly/plotly-3.0.1.min.js\"></script>                <div id=\"44d26bde-dc37-40c2-bd98-11ae3a7da0e7\" class=\"plotly-graph-div\" style=\"height:400px; width:600px;\"></div>            <script type=\"text/javascript\">                window.PLOTLYENV=window.PLOTLYENV || {};                                if (document.getElementById(\"44d26bde-dc37-40c2-bd98-11ae3a7da0e7\")) {                    Plotly.newPlot(                        \"44d26bde-dc37-40c2-bd98-11ae3a7da0e7\",                        [{\"marker\":{\"color\":\"blue\"},\"mode\":\"lines+markers\",\"name\":\"Spin 1\",\"x\":{\"dtype\":\"f8\",\"bdata\":\"iRC1d0UWKsCo16IXRggqwMiekLdG+inA6GV+V0fsKcAILWz3R94pwCj0WZdI0CnAR7tHN0nCKcBmgjXXSbQpwIZJI3dKpinAphARF0uYKcDG1\\u002f62S4opwOae7FZMfCnABWba9kxuKcAkLciWTWApwET0tTZOUinAZLuj1k5EKcCEgpF2TzYpwKRJfxZQKCnAwxBttlAaKcDi11pWUQwpwAKfSPZR\\u002fijAImY2llLwKMBCLSQ2U+IowGL0EdZT1CjAgbv\\u002fdVTGKMChgu0VVbgowMBJ27VVqijA4BDJVVacKMAA2Lb1Vo4owCCfpJVXgCjAP2aSNVhyKMBfLYDVWGQowH70bXVZVijAnrtbFVpIKMC+gkm1WjoowN5JN1VbLCjA\\u002fRAl9VseKMAd2BKVXBAowDyfADVdAijAXGbu1F30J8B8Ldx0XuYnwJz0yRRf2CfAvLu3tF\\u002fKJ8DbgqVUYLwnwPpJk\\u002fRgrifAGhGBlGGgJ8A62G40YpInwFqfXNRihCfAeWZKdGN2J8CZLTgUZGgnwLj0JbRkWifA2LsTVGVMJ8D4ggH0ZT4nwBhK75NmMCfANxHdM2ciJ8BX2MrTZxQnwHafuHNoBifAlmamE2n4JsC2LZSzaeomwNb0gVNq3CbA9btv82rOJsAVg12Ta8AmwDRKSzNssibAVBE502ykJsB02CZzbZYmwJSfFBNuiCbAtGYCs256JsDTLfBSb2wmwPP03fJvXibAErzLknBQJsAyg7kycUImwFJKp9JxNCbAchGVcnImJsCR2IIScxgmwLGfcLJzCibA0GZeUnT8JcDwLUzydO4lwBD1OZJ14CXAMLwnMnbSJcBPgxXSdsQlwG9KA3J3tiXAjhHxEXioJcCu2N6xeJolwM6fzFF5jCXA7ma68Xl+JcANLqiRenAlwC31lTF7YiXATLyD0XtUJcBsg3FxfEYlwIxKXxF9OCXArBFNsX0qJcDL2DpRfhwlwOufKPF+DiXACmcWkX8AJcAqLgQxgPIkwEr18dCA5CTAarzfcIHWJMCJg80QgsgkwKlKu7CCuiTAyBGpUIOsJMDo2Jbwg54kwAighJCEkCTAKGdyMIWCJMBHLmDQhXQkwGf1TXCGZiTAhrw7EIdYJMCmgymwh0okwMZKF1CIPCTA5hEF8IguJMAF2fKPiSAkwCWg4C+KEiTARGfOz4oEJMBkLrxvi\\u002fYjwIT1qQ+M6CPApLyXr4zaI8DDg4VPjcwjwONKc++NviPAAhJhj46wI8Ai2U4vj6IjwEKgPM+PlCPAYmcqb5CGI8CBLhgPkXgjwKH1Ba+RaiPAwbzzTpJcI8Dgg+Hukk4jwABLz46TQCPAIBK9LpQyI8A\\u002f2arOlCQjwF+gmG6VFiPAf2eGDpYII8CeLnSulvoiwL71YU6X7CLA3rxP7pfeIsD9gz2OmNAiwB1LKy6ZwiLAPRIZzpm0IsBc2QZumqYiwHyg9A2bmCLAnGfirZuKIsC8LtBNnHwiwNv1ve2cbiLA+7yrjZ1gIsAahJktnlIiwDpLh82eRCLAWhJ1bZ82IsB62WINoCgiwJmgUK2gGiLAuWc+TaEMIsDYLiztof4hwPj1GY2i8CHAGL0HLaPiIcA4hPXMo9QhwFdL42ykxiHAdxLRDKW4IcCW2b6spaohwLagrEymnCHA1mea7KaOIcD2LoiMp4AhwBX2dSyociHANb1jzKhkIcBUhFFsqVYhwHRLPwyqSCHAlBItrKo6IcC02RpMqywhwNOgCOyrHiHA82f2i6wQIcASL+QrrQIhwDL20cut9CDAUr2\\u002fa67mIMByhK0Lr9ggwJFLm6uvyiDAsRKJS7C8IMDQ2XbrsK4gwPCgZIuxoCDAEGhSK7KSIMAwL0DLsoQgwE\\u002f2LWuzdiDAb70bC7RoIMCOhAmrtFogwK5L90q1TCDAzhLl6rU+IMDu2dKKtjAgwA6hwCq3IiDALWiuyrcUIMBML5xquAYgwNnsExVy8R\\u002fAGHvvVHPVH8BXCcuUdLkfwJeXptR1nR\\u002fA1iWCFHeBH8AVtF1UeGUfwFVCOZR5SR\\u002fAlNAU1HotH8DTXvATfBEfwBPty1N99R7AUnunk37ZHsCRCYPTf70ewNGXXhOBoR7AECY6U4KFHsBPtBWTg2kewI9C8dKETR7AztDMEoYxHsANX6hShxUewE3tg5KI+R3AjHtf0ondHcDLCTsSi8EdwAuYFlKMpR3ASibykY2JHcCKtM3Rjm0dwMlCqRGQUR3ACNGEUZE1HcBIX2CRkhkdwIftO9GT\\u002fRzAxnsXEZXhHMAGCvNQlsUcwEWYzpCXqRzAhCaq0JiNHMDEtIUQmnEcwANDYVCbVRzAQtE8kJw5HMCCXxjQnR0cwMHt8w+fARzAAHzPT6DlG8BACquPockbwH+Yhs+irRvAviZiD6SRG8D+tD1PpXUbwD1DGY+mWRvAfNH0zqc9G8C8X9AOqSEbwPvtq06qBRvAOnyHjqvpGsB6CmPOrM0awLmYPg6usRrA+CYaTq+VGsA4tfWNsHkawHdD0c2xXRrAttGsDbNBGsD2X4hNtCUawDXuY421CRrAdHw\\u002fzbbtGcC0ChsNuNEZwPOY9ky5tRnAMyfSjLqZGcByta3Mu30ZwLFDiQy9YRnA8dFkTL5FGcAwYECMvykZwG\\u002fuG8zADRnAr3z3C8LxGMDuCtNLw9UYwC2ZrovEuRjAbSeKy8WdGMCstWULx4EYwOtDQUvIZRjAK9Ici8lJGMBqYPjKyi0YwKnu0wrMERjA6XyvSs31F8AoC4uKztkXwGeZZsrPvRfApydCCtGhF8DmtR1K0oUXwCVE+YnTaRfAZdLUydRNF8CkYLAJ1jEXwOPui0nXFRfAI31nidj5FsBiC0PJ2d0WwKGZHgnbwRbA4Sf6SNylFsAgttWI3YkWwGBEscjebRbAn9KMCOBRFsDeYGhI4TUWwB7vQ4jiGRbAXX0fyOP9FcCcC\\u002fsH5eEVwNyZ1kfmxRXAGyiyh+epFcBato3H6I0VwJpEaQfqcRXA2dJER+tVFcAYYSCH7DkVwFjv+8btHRXAl33XBu8BFcDWC7NG8OUUwBaajobxyRTAVShqxvKtFMCUtkUG9JEUwNREIUb1dRTAE9P8hfZZFMBSYdjF9z0UwJLvswX5IRTA0n2PRfoFFMAQDGuF++kTwFCaRsX8zRPAkCgiBf6xE8DOtv1E\\u002f5UTwA5F2YQAehPATtO0xAFeE8CMYZAEA0ITwMzva0QEJhPADH5HhAUKE8BKDCPEBu4SwIqa\\u002fgMI0hLAyijaQwm2EsAIt7WDCpoSwEhFkcMLfhLAiNNsAw1iEsDGYUhDDkYSwAbwI4MPKhLARn7\\u002fwhAOEsCEDNsCEvIRwMSatkIT1hHABCmSghS6EcBCt23CFZ4RwIJFSQIXghHAwtMkQhhmEcAAYgCCGUoRwEDw28EaLhHAgH63ARwSEcC+DJNBHfYQwP6aboEe2hDAPilKwR++EMB8tyUBIaIQwLxFAUEihhDA\\u002fNPcgCNqEMA6YrjAJE4QwHrwkwAmMhDAun5vQCcWEMDwGZYAUfQPwHA2TYBTvA\\u002fA8FIEAFaED8Bsb7t\\u002fWEwPwOyLcv9aFA\\u002fAbKgpf13cDsDoxOD+X6QOwGjhl35ibA7A6P1O\\u002fmQ0DsBkGgZ+Z\\u002fwNwOQ2vf1pxA3AZFN0fWyMDcDgbyv9blQNwGCM4nxxHA3A4KiZ\\u002fHPkDMBcxVB8dqwMwNzhB\\u002fx4dAzAXP6+e3s8DMDYGnb7fQQMwFg3LXuAzAvA2FPk+oKUC8BUcJt6hVwLwNSMUvqHJAvAVKkJeorsCsDUxcD5jLQKwFDid3mPfArA0P4u+ZFECsBQG+Z4lAwKwMw3nfiW1AnATFRUeJmcCcDMcAv4m2QJwEiNwneeLAnAyKl596D0CMBIxjB3o7wIwMTi5\\u002falhAjARP+edqhMCMDEG1b2qhQIwEA4DXat3AfAwFTE9a+kB8BAcXt1smwHwLyNMvW0NAfAPKrpdLf8BsC8xqD0ucQGwDjjV3S8jAbAuP8O9L5UBsA4HMZzwRwGwLQ4ffPD5AXANFU0c8asBcC0cevyyHQFwDCOonLLPAXAsKpZ8s0EBcAwxxBy0MwEwKzjx\\u002fHSlATALAB\\u002fcdVcBMCsHDbx1yQEwCg57XDa7APAqFWk8Ny0A8Aocltw33wDwKSOEvDhRAPAJKvJb+QMA8Ckx4Dv5tQCwCDkN2\\u002fpnALAoADv7utkAsAgHaZu7iwCwJw5Xe7w9AHAHFYUbvO8AcCccsvt9YQBwBiPgm34TAHAmKs57foUAcAYyPBs\\u002fdwAwJTkp+z\\u002fpADAFAFfbAJtAMCUHRbsBDUAwCB0mtcO+v+\\u002fIK0I1xOK\\u002f78g5nbWGBr\\u002fvxgf5dUdqv6\\u002fGFhT1SI6\\u002fr8YkcHUJ8r9vxDKL9QsWv2\\u002fEAOe0zHq\\u002fL8QPAzTNnr8vwh1etI7Cvy\\u002fCK7o0UCa+78I51bRRSr7vwggxdBKuvq\\u002fAFkz0E9K+r8AkqHPVNr5vwDLD89Zavm\\u002f+AN+zl76+L\\u002f4POzNY4r4v\\u002fh1Ws1oGvi\\u002f8K7IzG2q97\\u002fw5zbMcjr3v\\u002fAgpct3yva\\u002f6FkTy3xa9r\\u002fokoHKger1v+jL78mGevW\\u002f4AReyYsK9b\\u002fgPczIkJr0v+B2OsiVKvS\\u002f2K+ox5q687\\u002fY6BbHn0rzv9ghhcak2vK\\u002f0Frzxalq8r\\u002fQk2HFrvrxv9DMz8SzivG\\u002fyAU+xLga8b\\u002fIPqzDvarwv8h3GsPCOvC\\u002fgGERhY+V77+A0+2DmbXuv4BFyoKj1e2\\u002fcLemga317L9wKYOAtxXsv3CbX3\\u002fBNeu\\u002fYA08fstV6r9gfxh91XXpv2Dx9Hvflei\\u002fUGPReum1579Q1a1589Xmv1BHinj99eW\\u002fQLlmdwcW5b9AK0N2ETbkv0CdH3UbVuO\\u002fMA\\u002f8cyV24r8wgdhyL5bhvzDztHE5tuC\\u002fQMoi4Yas379Artvemuzdv0CSlNyuLNy\\u002fIHZN2sJs2r8gWgbY1qzYvyA+v9Xq7Na\\u002fACJ40\\u002f4s1b8ABjHREm3TvwDq6c4mrdG\\u002fwJtFmXXaz7\\u002fAY7eUnVrMv8ArKZDF2si\\u002fgPOai+1axb+AuwyHFdvBvwAH\\u002fQR7try\\u002fgJbg+8q2tb8ATYjlNW6tvwDanqar3Z6\\u002fAMBoEVz3Zr8AqESi1B+ZPwA0W2NKj6o\\u002fgArKOlVHtD+AeuZDBUe7P2B1gaZaI8E\\u002fYK0PqzKjxD9g5Z2vCiPIP2AdLLTioss\\u002fYFW6uLoizz\\u002fwRqReSVHRP\\u002fBi62A1EdM\\u002f8H4yYyHR1D\\u002fwmnllDZHWP\\u002fC2wGf5UNg\\u002f8NIHauUQ2j8w705s0dDbPzALlm69kN0\\u002fMCfdcKlQ3z+YIZK5SojgP5ivtbpAaOE\\u002fmD3ZuzZI4j+4y\\u002fy8LCjjPw==\"},\"y\":{\"dtype\":\"f8\",\"bdata\":\"R7qnpLoHIy7ES3gwWH3SLhBh8KGw8H4vO9bx5P9KJjCIf2PPG6rLMNRUJO9HkG0xjPob3tk0CzILecN5lY+lMhKJLAe+bT0zdyQVEJFL0TNTtdPFj4FhNF8x8kS+hO40fFoRenTodjX\\u002fah86nZ39NX5+JodSfIA2\\u002fS5o7UCc\\u002fzbSHzAVBxl6N8\\u002f2sGwJjvI3Jn3UG3y4Zjg3HnW1cPXXODCOeGmlwUU58bGe820DsTlzdmq2B+oWOkC4YYqUk3o6td3f4lSL2jqc\\u002f65XuNQ2OzD60kIX6ZA7UAF0n4yS5Ts694Oe1rI3PE9oE+lha4Y8KQnHe7ZD0jwq+BNrjaAZPcQHNe8S9149aexIjCgcoD2nCaDq597cPbrnuhIWRxY+YFDWSlqbTT6BAVnWJfGAPhpb+1KCsrA+iIB5V65X3D6N5+oN+7YEP6hwluBQEyo\\u002fnLqhLxVETD8VP99b12JqP6fvc\\u002fQVNoU\\u002fdO6u0RlenT9opghz34GxPxP00w+6+cE\\u002fQk3tBYXJzz\\u002fFa\\u002fmBBjTYP2KnBAFkvd8\\u002fUOHm7gTs4T\\u002f1MdWr3G3hP\\u002fWVCMZgMd0\\u002f8pqtDL0N1T\\u002fdrIBFqCbKPz24WPrr+Ls\\u002fKtzoJiLEqT+8Ncc1RHCUP5q+PuxB7Hs\\u002f4R2DP\\u002fJsYD\\u002fke77QNKRAPxDskynMCR0\\u002fOv2c2DnR9T6GwCRpYDvMPpKEOmTLdZ8+5S32T5cwbj7RS7\\u002frxPI4Pj2qqJ\\u002fWwwE+uSLZhX6zyD3k3\\u002fEzUCnWPfT\\u002f6X2\\u002f1RA+8LWFQ6XBRj43kqQMXn56PkZL9mDXj6o+6Q8s78ju1j48IO5K5AwBP\\u002fsCnqBX1SU\\u002fkdENp4ETSD\\u002f3KY+U89xmPw5B8G9SsoI\\u002fWIiplzlVmj9YWHYpR\\u002fCvP\\u002fAVnTjyrcA\\u002fsMEWKjMBzj+KUlkwkj3XPygfUUPsAN8\\u002fNyLCUP3O4T8wq17qMJ7hPyLmyZ\\u002fGBN4\\u002f2rCVfeYF1j\\u002fEcm1K1NPLP5XG+0KRR74\\u002fRUu+A35frD9sZnhAIeWWP\\u002fkt3w2t0X8\\u002fTkPCN2sKYz9RUglVwZ9DP1W6KWHCaiE\\u002fUbUfrLKf+j7OFBwhpYbRPmys0quCGqQ+xCons0DYgj67xiza7BKjPg4g6oCmq9A+FjQ+IL1s+T6pIqpd67IgP2PRbzDR40I\\u002fVYoIr8RmYj\\u002fWSYn8kt9+PwGh3iGYTZY\\u002fFPW5kOa\\u002fqz9q0JLUd7u9P8ezBI70bss\\u002fewrNPTjM1T\\u002f0uCkheNTdP9C+gfOzk+E\\u002fPx5hIITW4T\\u002f1bstRti3fPwix1\\u002fb9dtc\\u002fMAxXRT5qzj+TRl4tl\\u002fnAP3YUvCAlUbA\\u002fmkZuSnIDmz8gpjoWl0GDP5VCxEIspGc\\u002f817zOrP+SD9gytbowMEmP3A9Izml1wE\\u002fG5KMefkX2D7VuC\\u002f6iASsPvTIzfWdDnw+p6MmVgUySD4I8g2G1vcRPpH5RWlR+9Y9LeRd2BpQmT3GG411aQJYPQnuvfdunBM9BZAS47KWyzwmstxxF7aAPMojr+IgbzE80oK6+VZT3zu4MX1sOjyIO6v+tE59JTA7lBIyjQeH0jpv1mUkyE5yOmqbApZWKA86ppYXafjUpjlwSaC42dA8ObTrodaCUc841CUMAetPXTiX+sLZEKDnN6UyVYPUZXA3H+mG4ySa8zabaGEn2C10NjMqrK2D4\\u002fE1hxuiqDVQazV4pMnliOMANQz9iT5pZII1k3pczxh+BzbDK+ERRNeJNsJPp6syegg3DSykTmn3gzdg3P3ICg38N6+S+TXx93A4g+gs57+t4Tifiyud87hPOV5LW0Rqgrg5302e+qROIDpPiMs+1K+COlhjEQzCcOI6tUXdDWNXPzvc8hHoj++WO9o+zTB56Ow77AItGWZgPzyQp8IPxVONPGpfHBcOm9c8PogEKLpcID1A8ToJjIhjPakX8V7TFKQ9YVh1NDnH4T06yV0ulRsbPrcCT80MzFE+Pzf8LrwfhD7wlaoaeZizPioMPyKGbuA+1kY5jiq7Bz9aFNMXq4MtP8\\u002fdo5Q3nE8\\u002fXVXNBX4nbT\\u002fDMwth1yeHP6fqSbzhrJ8\\u002frSCo5R6osj8jmmJtEO3CP\\u002fuFF8mQiNA\\u002faAQ+Pzfg2D8D0GGbjB3gP7Qs5fAn++E\\u002fS+1ssuxG4T9FCV30XJfcP6mcU2hkX9Q\\u002fhorvcHMAyT\\u002fP7RDXKWy6P4RmXRb8C6g\\u002fP7v2aJjYkj+mwpvtS3B5Px1ztQfakV0\\u002frBbxoWeZPT\\u002fcjNVOz4MZP5ucJZC28PI+lIjzQBw3yD583KZDJqmaPkyhR0wNR2k+qDje9nKjND7zVDL3rQX9PfZMZtWMksE98OlzATZTgj1q6klw3XRAPZMkZ\\u002fe8dvk86IIycJoJtjwW2H2+iTbgPA8jHqADCyY9CjIoVOjtaT2nTm8sGUSqPY2Z+8uo6eY9SNMxCFs2IT61mi3EA0VWPlnPE1Xqz4g+M8latHzOtz6AqzWelKvjPk9KJg7r\\u002fQs\\u002f4LoW380mMT9pLKGMrhlSPxceh4UHc3A\\u002fWjy6uSK\\u002fiT\\u002fDZiBsCVqhP7R1ojsDJLQ\\u002fKb9iL8chxD\\u002fIobyPQ1TRP4C7N4ndsNk\\u002fUjGEV0Vm4D93MbqxowfiPzROR9LqEeE\\u002fRWC7VqbV2z9ClHyz8YrTP7QEd5e9occ\\u002frAcyjdCbuD9kGl1eWhGmP\\u002fl5oVikCpE\\u002fcAgul2+qdj9CoEqe2\\u002fVZP+ynfwj8mjk\\u002fg4NlVKe\\u002fFT+AMUKQ19DvPlQnoqpNCsQ+bO+4DJ69lT4j1TQUhk9kPuDeTGcOVzA+B2asZhKk9j1VCD3t+gO7Peflfxx3wns9YpJEj02QOD2vOENOvbfyPECBI4e6kKg8mmFcaW3DWzxUN398YgULPEvHJjKkpbY73E8943hYYDux5+jGolEEOzSWUE1BwKU6DWA9DBUNRDpPCSwqztXfOaz7P21sw3U55bLM8N2fCTmfgYAaQvuZOBTTfkGLryY4OgW1MscOsTcc\\u002fWiBFxc2N3aASh+korg2+B9VvbSoNzaAIT0aC5GzNW3KBt7R3is1qKZ5dxMdoTRvyxfFKiuUNILSgghimSA12H6NCJecpzVFVDUjXewsNqXrB9Wsgq42h0Ztw0a3KzeZIBQPea6lN1Xj+5dCNh04ZC12n1DykDij1mjrn+4AOY8CcWQxI205sLNDB+iW1TmXI+TxIo07OlxaRUUVR5469EDqaWCn\\u002fDq9zzu7FlpXO7+fg0t8Y7A7nDq7\\u002fzbPAzzdBejOop5UPB8QoNeie6I8mOQLxdeI7DyHO8GEy\\u002fcyPTslb4lLt3U9BM8YgP1otT0r2pf6ey3yPcSWH9KslCo+NyXIbV28YD4LaG6w9SWSPj\\u002fHWiCM8sA+Cjx06N9B6z7Rk2goR+ASPzsx5oKOgzY\\u002fG758L9QfVz+E6ZK9GHR0P2wE62mRKI8\\u002fRBDomxRwpD91ZV9OwBa3P+RpOwNOdsY\\u002f62iqKXjR0j+K\\u002fpu4JyfbP5WiTY6e3uA\\u002fGZaHkxIN4j9GO1ZuJaLgP4WDqnzYZdo\\u002feimLH+oJ0j9kI45n7DrFP3t6BYpXhLU\\u002fbWPhc5nHoj9VC7rTyjqMP6NIJj59RXI\\u002fnEs1HjpeVD8AOd2dfo0zP\\u002fWIUSDwKRA\\u002fesxuWJED5z6IY7Goqje8Pi83gQ4wy40+tfgU7hIXWz4yTPcgOTYlPtRttTEWm+w9HJDTiEScsD1Akyegn5xwPUi8p9rsnCw97Lnq2X445TwQJE8fIxubPMAtRArv0E08EMCBjVE+\\u002fDtsGBXf+gmnO87U+YgiL1A78aF5sJ6U8zpfcab6hWaUOhnFBTW3TTI6+lLLwLZIzDkpsvy4qtFiOeLhRvfMkPU4qghjtSBIhTjMpAue6BUSOAXYqCKIeJo3zqrbkqKuIDdL9HbJZhuiNiVUFEm87CA2P8tqGQs\\u002fmzVJyguE1eISNYwWY2j\\u002fi4Y0nHVo2wou9zP4iWGYk4VkM38EbCeuSs8yFbpFhF6LNDJf8BGyIjuXMSHJ4pAcn\\u002fYw+\\u002fXfcTH4UjDMm6wFlWWrLzuFuoV6CQEvoqeoJkw\\u002fUi5CBXNT0xShLRaWmMFO9\\u002fItQxX0rRBAoy5\\u002fhDofG9RQL\\u002f2Qjrd5V\\u002fkvhDpSyydvoDDUfazJ51tCMW+3\\u002fNs4quExcPXKarBHfTJazMUPu+YUM\\u002fju5Hvvs6kz7oEVJa05OzSgaRK9CtfINFlv5VSjhVM1UAQ5D5Bu2jWRgxk21tNeNq5F6ryw+N42O1HEr+nNWjfcj8\\u002fg1fvTN8g53sZTq0k4pugPvqRnvDi5idJ\\u002fEhQrOTYdXF0nPZY54j7ClWR4\\u002fzlAgMLbDi9jOimShGyFJsQ6CMmBqmw8IjvuY2FET3B8OxANiUktG9M7cluh28oeJjz1nXEyIRF2PJ+RYHr498I8K2ICJLsZDD2w3EkQn+9RPUPcXgoNu5M9hVVqxky00j3BH+7WkY8OPi97UbAchEU+ZxuGWCIcej7HL3TNk06rPpGu+o4hndg+gTHGgUMfAz9a8NOD8ZspP7fu9Fg9kE0\\u002fC7eZjt5rbT8jUnDnHj+JPwfWsIG1r6I\\u002fK284yfXftz89AEmdGlzKPxPjEUeoNNk\\u002fMjlCkrv15D\\u002fQqvSLKYnuPyyLBenNufM\\u002fPqCNMSwH9z\\u002fhbByqi+D4P8xM2W1Fa\\u002fk\\u002flerRedLH+D82vx3Iz9H2PyL2Ctv+aPM\\u002fKWDbuNnJ7T8c8oupnD\\u002fkPyQ0WDcPGdg\\u002fhMJdZWPuyD\\u002fyChHMw1W2P8YSPBcdSqE\\u002fKtUB0U4ahz9ldfHGraBqP85owD2cdko\\u002fpv6DC2msJj\\u002fvRPyZ8b4APxDDHaxDUtU+QEdbwgZmpz4l5VicuCF2PnofRue2CkI+axVUNwBaCT7a5cZqUbPOPebFGq4ZBZA9oP0W7dbQTD1zh18eVlUGPVahpuzx1L088oh+ci8rcTwccHOKSQchPG4rGJ8oG807bsT9AvVudTs7AnO13jIbO6o20oX2vL06wqHlA6EDXDr4n0zeo7z2OV9KY\\u002f0ozI85sKEJotMnIznYK1xFH+KzOCQQQsyyx0E4PPgoDtFkyzdycGpy5i1SNxJfVCMTydQ2YpB54dl4VDZ0rm8ZfV7RNcawLCtUY0k1emEqqR\\u002f3vzSCjfEIcVUxNKG\\u002fHf1dMaAzC89m0jQPCjNg1MGEtw9yMiPUrpx\\u002fkNUxIrz6\\u002fSYtNjHEDrIbjqSTMEnmWACW+O0vRWuST4axQy\\u002f1w69cXUqWLj9I\\u002ftzkuuUtYITJTbM+Mi2SlnptEWN6LAbYSTkUb8Ar45ZwKkahASumKrHt8ElAKh26LDQ\\u002f7HkpJcjMvtvDsShlgZABWfjkJ0msyS54URUn1CAt7B2qQiYzevVjgyVsJV5AYCMCR5IknIH4Ql9xtCNc9sqi\\u002f7DTIg==\"},\"type\":\"scatter\"}],                        {\"template\":{\"data\":{\"scatter\":[{\"type\":\"scatter\"}]}},\"font\":{\"size\":20},\"xaxis\":{\"zeroline\":false,\"showline\":true,\"mirror\":true,\"ticks\":\"outside\",\"title\":{\"text\":\"E - E\\u003csub\\u003eF\\u003c\\u002fsub\\u003e [eV]\"}},\"yaxis\":{\"showline\":true,\"mirror\":true,\"ticks\":\"outside\",\"title\":{\"text\":\"DOS\"}},\"hoverlabel\":{\"bgcolor\":\"black\"},\"width\":600,\"height\":400},                        {\"responsive\": true}                    ).then(function(){\n",
       "                            \n",
       "var gd = document.getElementById('44d26bde-dc37-40c2-bd98-11ae3a7da0e7');\n",
       "var x = new MutationObserver(function (mutations, observer) {{\n",
       "        var display = window.getComputedStyle(gd).display;\n",
       "        if (!display || display === 'none') {{\n",
       "            console.log([gd, 'removed!']);\n",
       "            Plotly.purge(gd);\n",
       "            observer.disconnect();\n",
       "        }}\n",
       "}});\n",
       "\n",
       "// Listen for the removal of the full notebook cells\n",
       "var notebookContainer = gd.closest('#notebook-container');\n",
       "if (notebookContainer) {{\n",
       "    x.observe(notebookContainer, {childList: true});\n",
       "}}\n",
       "\n",
       "// Listen for the clearing of the current output cell\n",
       "var outputEl = gd.closest('.output');\n",
       "if (outputEl) {{\n",
       "    x.observe(outputEl, {childList: true});\n",
       "}}\n",
       "\n",
       "                        })                };            </script>        </div>"
      ]
     },
     "metadata": {},
     "output_type": "display_data"
    }
   ],
   "source": [
    "plot_dos(scf, size=(600, 400))"
   ]
  },
  {
   "cell_type": "code",
   "execution_count": 11,
   "id": "73883fcd-fa02-4f60-8c4e-2c1237d6696e",
   "metadata": {},
   "outputs": [
    {
     "name": "stdout",
     "output_type": "stream",
     "text": [
      "WARNING: The SCF object has no unoccupied energies, return the maximum energy instead.\n"
     ]
    },
    {
     "data": {
      "text/html": [
       "<div>            <script src=\"https://cdnjs.cloudflare.com/ajax/libs/mathjax/2.7.5/MathJax.js?config=TeX-AMS-MML_SVG\"></script><script type=\"text/javascript\">if (window.MathJax && window.MathJax.Hub && window.MathJax.Hub.Config) {window.MathJax.Hub.Config({SVG: {font: \"STIX-Web\"}});}</script>                <script type=\"text/javascript\">window.PlotlyConfig = {MathJaxConfig: 'local'};</script>\n",
       "        <script charset=\"utf-8\" src=\"https://cdn.plot.ly/plotly-3.0.1.min.js\"></script>                <div id=\"19e9a681-3fdc-4388-b2ce-c2da1e1459ad\" class=\"plotly-graph-div\" style=\"height:600px; width:800px;\"></div>            <script type=\"text/javascript\">                window.PLOTLYENV=window.PLOTLYENV || {};                                if (document.getElementById(\"19e9a681-3fdc-4388-b2ce-c2da1e1459ad\")) {                    Plotly.newPlot(                        \"19e9a681-3fdc-4388-b2ce-c2da1e1459ad\",                        [{\"mode\":\"lines+markers\",\"name\":\"Band 1\",\"x\":{\"dtype\":\"f8\",\"bdata\":\"AAAAAAAAAAAXj6jjl2nBPxePqOOXadE\\u002fotZ81WMe2j8Xj6jjl2nhP95YLsgHb+U\\u002fpCK0rHd06T9q7DmR53ntPxjb37qrv\\u002fA\\u002f+78irWPC8j8=\"},\"y\":{\"dtype\":\"f8\",\"bdata\":\"trWluK\\u002foI8COYazlAIElwHiYydGEeifAyHa0UebRKMBE3YRDyEgpwHXi\\u002fcWD4SjABvmPOnGpJ8ASE6h9Vc0lwED09W80PyPAwoK1G3sTIMA=\"},\"type\":\"scatter\"},{\"mode\":\"lines+markers\",\"name\":\"Band 2\",\"x\":{\"dtype\":\"f8\",\"bdata\":\"AAAAAAAAAAAXj6jjl2nBPxePqOOXadE\\u002fotZ81WMe2j8Xj6jjl2nhP95YLsgHb+U\\u002fpCK0rHd06T9q7DmR53ntPxjb37qrv\\u002fA\\u002f+78irWPC8j8=\"},\"y\":{\"dtype\":\"f8\",\"bdata\":\"gw3fMQIAH8CUangR\\u002fTIawByISGR3JBHA\\u002fPPCh9DT+78AwhKOOFaRv3hggU8AiOq\\u002fRP8NxBfaA8ACXJ6sKGURwFQ12yd+\\u002fBjAnAFV8OsMIMA=\"},\"type\":\"scatter\"},{\"mode\":\"lines+markers\",\"name\":\"Band 3\",\"x\":{\"dtype\":\"f8\",\"bdata\":\"AAAAAAAAAAAXj6jjl2nBPxePqOOXadE\\u002fotZ81WMe2j8Xj6jjl2nhP95YLsgHb+U\\u002fpCK0rHd06T9q7DmR53ntPxjb37qrv\\u002fA\\u002f+78irWPC8j8=\"},\"y\":{\"dtype\":\"f8\",\"bdata\":\"zEEml53M9r8Mj8EXnej0v+DVr6K5QO6\\u002f0NqBLrdy2L8A2CbZJGGBv1CycTlVcum\\u002frCPRkSwM\\u002fr9go7JIudAFwMicbm1WAwrAEB\\u002fehmhhC8A=\"},\"type\":\"scatter\"},{\"mode\":\"lines+markers\",\"name\":\"Band 4\",\"x\":{\"dtype\":\"f8\",\"bdata\":\"AAAAAAAAAAAXj6jjl2nBPxePqOOXadE\\u002fotZ81WMe2j8Xj6jjl2nhP95YLsgHb+U\\u002fpCK0rHd06T9q7DmR53ntPxjb37qrv\\u002fA\\u002f+78irWPC8j8=\"},\"y\":{\"dtype\":\"f8\",\"bdata\":\"XIxaEQie9r\\u002fg0rWHw7j0v6BhsqiY2+2\\u002f8JQiY5B71r8AAAAAAAAAAKiu5pqvjui\\u002fXPnG7QaJ\\u002fb+qH58wdY0FwOKAg3VuvwnAnAoqxTUWC8A=\"},\"type\":\"scatter\"}],                        {\"template\":{\"data\":{\"scatter\":[{\"type\":\"scatter\"}]}},\"font\":{\"size\":20},\"xaxis\":{\"zeroline\":false,\"showline\":true,\"mirror\":true,\"ticks\":\"outside\",\"tickmode\":\"array\",\"tickvals\":{\"dtype\":\"f8\",\"bdata\":\"AAAAAAAAAAAXj6jjl2nhP\\u002fu\\u002fIq1jwvI\\u002f\"},\"ticktext\":[\"L\",\"\\u0393\",\"X\"],\"gridcolor\":\"grey\",\"gridwidth\":2,\"range\":[0,1.1724583399882238],\"title\":{\"text\":\"k-path\"}},\"yaxis\":{\"zeroline\":false,\"showline\":true,\"mirror\":true,\"ticks\":\"outside\",\"showgrid\":false,\"title\":{\"text\":\"E - E\\u003csub\\u003eF\\u003c\\u002fsub\\u003e [eV]\"}},\"hoverlabel\":{\"bgcolor\":\"black\"},\"width\":800,\"height\":600,\"showlegend\":false},                        {\"responsive\": true}                    ).then(function(){\n",
       "                            \n",
       "var gd = document.getElementById('19e9a681-3fdc-4388-b2ce-c2da1e1459ad');\n",
       "var x = new MutationObserver(function (mutations, observer) {{\n",
       "        var display = window.getComputedStyle(gd).display;\n",
       "        if (!display || display === 'none') {{\n",
       "            console.log([gd, 'removed!']);\n",
       "            Plotly.purge(gd);\n",
       "            observer.disconnect();\n",
       "        }}\n",
       "}});\n",
       "\n",
       "// Listen for the removal of the full notebook cells\n",
       "var notebookContainer = gd.closest('#notebook-container');\n",
       "if (notebookContainer) {{\n",
       "    x.observe(notebookContainer, {childList: true});\n",
       "}}\n",
       "\n",
       "// Listen for the clearing of the current output cell\n",
       "var outputEl = gd.closest('.output');\n",
       "if (outputEl) {{\n",
       "    x.observe(outputEl, {childList: true});\n",
       "}}\n",
       "\n",
       "                        })                };            </script>        </div>"
      ]
     },
     "metadata": {},
     "output_type": "display_data"
    }
   ],
   "source": [
    "# Test scf object without unoccupied states\n",
    "scf.Z = None\n",
    "scf.atoms.occ.bands = 4\n",
    "plot_bandstructure(scf)"
   ]
  },
  {
   "cell_type": "code",
   "execution_count": 12,
   "id": "f202e906-9a9a-48e0-97d0-1fb0e8b31a69",
   "metadata": {},
   "outputs": [
    {
     "name": "stdout",
     "output_type": "stream",
     "text": [
      "WARNING: The SCF object has no unoccupied energies, return the maximum energy instead.\n"
     ]
    },
    {
     "data": {
      "text/html": [
       "<div>            <script src=\"https://cdnjs.cloudflare.com/ajax/libs/mathjax/2.7.5/MathJax.js?config=TeX-AMS-MML_SVG\"></script><script type=\"text/javascript\">if (window.MathJax && window.MathJax.Hub && window.MathJax.Hub.Config) {window.MathJax.Hub.Config({SVG: {font: \"STIX-Web\"}});}</script>                <script type=\"text/javascript\">window.PlotlyConfig = {MathJaxConfig: 'local'};</script>\n",
       "        <script charset=\"utf-8\" src=\"https://cdn.plot.ly/plotly-3.0.1.min.js\"></script>                <div id=\"d5205dd8-3764-4d4b-99e2-3cb45fd5826a\" class=\"plotly-graph-div\" style=\"height:600px; width:800px;\"></div>            <script type=\"text/javascript\">                window.PLOTLYENV=window.PLOTLYENV || {};                                if (document.getElementById(\"d5205dd8-3764-4d4b-99e2-3cb45fd5826a\")) {                    Plotly.newPlot(                        \"d5205dd8-3764-4d4b-99e2-3cb45fd5826a\",                        [{\"marker\":{\"color\":\"blue\"},\"mode\":\"lines+markers\",\"name\":\"Spin 1\",\"x\":{\"dtype\":\"f8\",\"bdata\":\"RN2EQ8hILsB3QiHEiu0twKqnvURNki3A3QxaxQ83LcAQcvZF0tsswEPXksaUgCzAdjwvR1clLMCqocvHGcorwNwGaEjcbivAEGwEyZ4TK8BC0aBJYbgqwHY2PcojXSrAqJvZSuYBKsDcAHbLqKYpwA5mEkxrSynAQsuuzC3wKMB0MEtN8JQowKiV582yOSjA2vqDTnXeJ8AOYCDPN4MnwEDFvE\\u002f6JyfAdCpZ0LzMJsCnj\\u002fVQf3EmwNr0kdFBFibADVouUgS7JcBAv8rSxl8lwHMkZ1OJBCXApokD1EupJMDZ7p9UDk4kwAxUPNXQ8iPAP7nYVZOXI8ByHnXWVTwjwKWDEVcY4SLA2Oit19qFIsALTkpYnSoiwD6z5thfzyHAcRiDWSJ0IcCkfR\\u002fa5BghwNfiu1qnvSDACkhY22liIMA9rfRbLAcgwOEkIrndVx\\u002fAR+9aumKhHsCtuZO75+odwBOEzLxsNB3AeE4FvvF9HMDeGD6\\u002fdscbwETjdsD7EBvArK2vwYBaGsASeOjCBaQZwHhCIcSK7RjA3gxaxQ83GMBE15LGlIAXwKqhy8cZyhbAEGwEyZ4TFsB2Nj3KI10VwNwAdsuophTAQsuuzC3wE8ColefNsjkTwA5gIM83gxLAdCpZ0LzMEcDa9JHRQRYRwEC\\u002fytLGXxDATBMHqJdSD8AYqHiqoeUNwOQ86qyreAzAsNFbr7ULC8B8Zs2xv54JwEj7PrTJMQjAFJCwttPEBsDgJCK53VcFwKy5k7vn6gPAeE4FvvF9AsBE43bA+xABwCDw0IULSP+\\u002fuBm0ih9u\\u002fL9QQ5ePM5T5v+hsepRHuva\\u002fgJZdmVvg878YwECebwbxv2DTR0YHWey\\u002foCYOUC+l5r\\u002fQedRZV\\u002fHgvwCaNcf+eta\\u002fwICEtZ0mxr8AUEZsRBh1P6DlSPwheMc\\u002fkMyX6sAj1z8Ik4VruEXhP+g\\u002fv2GQ+eY\\u002fyOz4V2it7D\\u002fETBknoDDxPzQjNiKMCvQ\\u002flPlSHXjk9j8E0G8YZL75P2SmjBNQmPw\\u002fxHypDjxy\\u002fz+aKeMEFCYBQMqUcQIKkwJAAgAAAAAABEA=\"},\"y\":{\"dtype\":\"f8\",\"bdata\":\"McDgUsJVkDuWoNp40L\\u002f8Owugw3qOn2M85vlx\\u002fEXHxDykSiP+xhAhPbo9GYNEvnU9qv5n7+l8xT3TM4XlsXgQPgCLZVZAllM+H+Yu\\u002f\\u002fEQkj5h0uwDptnJPkREOXyWsPw+oFeVDaKyKD+55ofLyH1QPyX57NgmFXE\\u002fkf7LsZJziz9q1j\\u002fybhyhP\\u002fmshn9DjrA\\u002fpw2XICPpuD+nOo1mQV29P9b0yDBS67s\\u002fSndTs5Wdtz9pE3elueO1P3bnHmyM+rg\\u002fwNLxWdHYvT9jCN1w5A\\u002fAP4P8yMkyUr8\\u002fwaU+Gtacvj+DPz86T46\\u002fP+9ZExNqab8\\u002fLvBBEd3fuj\\u002fN+crE\\u002fIayP\\u002f02BuFSEqQ\\u002fIVOIJdPykD\\u002ffiIRDvpN2P8KVHWHJel8\\u002fnNeXLl+QZj9SE\\u002f2P4huCPxUD+ZwKyZg\\u002fW9ArRFttqj+9GQN7J921P8VJXKZHFrw\\u002fnZyBVTYhvD+4mNZ5c3a2PwO0MhBT2a8\\u002fAbnvusKCqz8Ozg+JrKKxP0c4frUSirg\\u002fyGXBk4PYvD+w7Ef35b26P9Cq2ALBSbM\\u002fChH\\u002fbwKYpT93Mu3c9MGSPy4viEmmbHk\\u002fyrrUWsKaXj\\u002fptzdeLNVaP7rscPg8gXU\\u002ffxqCIwlhkD+b7KL\\u002fUYejP9fr\\u002f3INEbI\\u002fb571vNDtuT\\u002fYhRyYQN28P87TKcBR7Lg\\u002fXjTFZi2xsD\\u002fTjINpuVehPxMC7+fK84s\\u002fMvgTjwZ5cT9Izcvgv\\u002fRQPxwHmcB\\u002fryo\\u002frCqGMmniHD8B3I0lks1CPwsUFM4Qamk\\u002fv4Ud+JLvij8uagI22UamP6s5S9DXwrw\\u002fG1kcrXL+zD9gpRAABdTWP6m6tHCkFNw\\u002fXfsTjRz82j\\u002f+XH+uHULUP2718hJpwsc\\u002fSclF7BXDtT8IJ1cB0B+fP1HHw6rqXoE\\u002fqOD8jdlAXj8XycnENIs0P+rHBuREvwU\\u002flgM8q3Lv0T4cv02qoAmXPnAXnQ2xCFc+yh4gVmjrET5mQ3dTpa\\u002fFPZ7HapDiZ3Q98DjrToPZHT3yqJZVGffAPBhsKLrF9l08mL1yk4+N9Dt57jU3YeWFO53hcX21HBI7o5wzezhDlzo=\"},\"type\":\"scatter\"}],                        {\"template\":{\"data\":{\"scatter\":[{\"type\":\"scatter\"}]}},\"font\":{\"size\":20},\"xaxis\":{\"zeroline\":false,\"showline\":true,\"mirror\":true,\"ticks\":\"outside\",\"title\":{\"text\":\"E - E\\u003csub\\u003eF\\u003c\\u002fsub\\u003e [eV]\"}},\"yaxis\":{\"showline\":true,\"mirror\":true,\"ticks\":\"outside\",\"title\":{\"text\":\"DOS\"}},\"hoverlabel\":{\"bgcolor\":\"black\"},\"width\":800,\"height\":600},                        {\"responsive\": true}                    ).then(function(){\n",
       "                            \n",
       "var gd = document.getElementById('d5205dd8-3764-4d4b-99e2-3cb45fd5826a');\n",
       "var x = new MutationObserver(function (mutations, observer) {{\n",
       "        var display = window.getComputedStyle(gd).display;\n",
       "        if (!display || display === 'none') {{\n",
       "            console.log([gd, 'removed!']);\n",
       "            Plotly.purge(gd);\n",
       "            observer.disconnect();\n",
       "        }}\n",
       "}});\n",
       "\n",
       "// Listen for the removal of the full notebook cells\n",
       "var notebookContainer = gd.closest('#notebook-container');\n",
       "if (notebookContainer) {{\n",
       "    x.observe(notebookContainer, {childList: true});\n",
       "}}\n",
       "\n",
       "// Listen for the clearing of the current output cell\n",
       "var outputEl = gd.closest('.output');\n",
       "if (outputEl) {{\n",
       "    x.observe(outputEl, {childList: true});\n",
       "}}\n",
       "\n",
       "                        })                };            </script>        </div>"
      ]
     },
     "metadata": {},
     "output_type": "display_data"
    }
   ],
   "source": [
    "# Test pass-through arguments\n",
    "plot_dos(scf, npts=100, width=0.5)"
   ]
  }
 ],
 "metadata": {
  "kernelspec": {
   "display_name": "Python 3 (ipykernel)",
   "language": "python",
   "name": "python3"
  },
  "language_info": {
   "codemirror_mode": {
    "name": "ipython",
    "version": 3
   },
   "file_extension": ".py",
   "mimetype": "text/x-python",
   "name": "python",
   "nbconvert_exporter": "python",
   "pygments_lexer": "ipython3",
   "version": "3.12.3"
  }
 },
 "nbformat": 4,
 "nbformat_minor": 5
}
